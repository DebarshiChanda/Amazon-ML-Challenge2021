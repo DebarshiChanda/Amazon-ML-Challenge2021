{
 "cells": [
  {
   "cell_type": "code",
   "execution_count": 1,
   "id": "85575829",
   "metadata": {
    "execution": {
     "iopub.execute_input": "2021-08-01T07:09:31.124581Z",
     "iopub.status.busy": "2021-08-01T07:09:31.123777Z",
     "iopub.status.idle": "2021-08-01T07:09:37.923566Z",
     "shell.execute_reply": "2021-08-01T07:09:37.922599Z",
     "shell.execute_reply.started": "2021-08-01T07:01:34.161170Z"
    },
    "papermill": {
     "duration": 6.842566,
     "end_time": "2021-08-01T07:09:37.923730",
     "exception": false,
     "start_time": "2021-08-01T07:09:31.081164",
     "status": "completed"
    },
    "tags": []
   },
   "outputs": [],
   "source": [
    "import pandas as pd\n",
    "import numpy as np\n",
    "import csv\n",
    "import os\n",
    "import random\n",
    "import torch\n",
    "import torch\n",
    "torch.backends.cudnn.benchmark = True\n",
    "torch.autograd.set_detect_anomaly(False)\n",
    "torch.autograd.profiler.profile(False)\n",
    "torch.autograd.profiler.emit_nvtx(False)\n",
    "import torch.nn as nn\n",
    "import torch.optim as optim\n",
    "from torch.utils.data import Dataset, DataLoader\n",
    "from sklearn.model_selection import train_test_split\n",
    "from sklearn.metrics import classification_report\n",
    "import transformers\n",
    "import sklearn.model_selection as model_selection\n",
    "from transformers import XLNetTokenizer, XLNetForSequenceClassification\n",
    "import time\n",
    "import copy\n",
    "from tqdm.notebook import tqdm"
   ]
  },
  {
   "cell_type": "code",
   "execution_count": 2,
   "id": "97c00457",
   "metadata": {
    "execution": {
     "iopub.execute_input": "2021-08-01T07:09:37.995816Z",
     "iopub.status.busy": "2021-08-01T07:09:37.995231Z",
     "iopub.status.idle": "2021-08-01T07:09:37.999040Z",
     "shell.execute_reply": "2021-08-01T07:09:37.998523Z",
     "shell.execute_reply.started": "2021-08-01T07:01:40.705041Z"
    },
    "papermill": {
     "duration": 0.040713,
     "end_time": "2021-08-01T07:09:37.999157",
     "exception": false,
     "start_time": "2021-08-01T07:09:37.958444",
     "status": "completed"
    },
    "tags": []
   },
   "outputs": [],
   "source": [
    "def set_seed(seed=42):\n",
    "    os.environ['PYTHONHASHSEED']=str(seed)\n",
    "    random.seed(seed)\n",
    "    np.random.seed(seed)\n",
    "    torch.manual_seed(seed)"
   ]
  },
  {
   "cell_type": "code",
   "execution_count": 3,
   "id": "eae5859d",
   "metadata": {
    "execution": {
     "iopub.execute_input": "2021-08-01T07:09:38.067974Z",
     "iopub.status.busy": "2021-08-01T07:09:38.067356Z",
     "iopub.status.idle": "2021-08-01T07:10:39.457195Z",
     "shell.execute_reply": "2021-08-01T07:10:39.456188Z",
     "shell.execute_reply.started": "2021-08-01T07:01:40.711911Z"
    },
    "papermill": {
     "duration": 61.427331,
     "end_time": "2021-08-01T07:10:39.457357",
     "exception": false,
     "start_time": "2021-08-01T07:09:38.030026",
     "status": "completed"
    },
    "tags": []
   },
   "outputs": [],
   "source": [
    "df=pd.read_csv(\"../input/amazon-ml-challenge-2021-hackerearth/train.csv\", escapechar = \"\\\\\", quoting = csv.QUOTE_NONE)"
   ]
  },
  {
   "cell_type": "code",
   "execution_count": 4,
   "id": "545f9725",
   "metadata": {
    "execution": {
     "iopub.execute_input": "2021-08-01T07:10:39.527167Z",
     "iopub.status.busy": "2021-08-01T07:10:39.526339Z",
     "iopub.status.idle": "2021-08-01T07:10:39.583846Z",
     "shell.execute_reply": "2021-08-01T07:10:39.583382Z",
     "shell.execute_reply.started": "2021-08-01T07:02:43.195710Z"
    },
    "papermill": {
     "duration": 0.097119,
     "end_time": "2021-08-01T07:10:39.583992",
     "exception": false,
     "start_time": "2021-08-01T07:10:39.486873",
     "status": "completed"
    },
    "tags": []
   },
   "outputs": [],
   "source": [
    "num_labels=df[\"BROWSE_NODE_ID\"].nunique()"
   ]
  },
  {
   "cell_type": "code",
   "execution_count": 5,
   "id": "b7b7aed0",
   "metadata": {
    "execution": {
     "iopub.execute_input": "2021-08-01T07:10:39.646271Z",
     "iopub.status.busy": "2021-08-01T07:10:39.645459Z",
     "iopub.status.idle": "2021-08-01T07:10:39.669685Z",
     "shell.execute_reply": "2021-08-01T07:10:39.669270Z",
     "shell.execute_reply.started": "2021-08-01T07:02:43.264052Z"
    },
    "papermill": {
     "duration": 0.056845,
     "end_time": "2021-08-01T07:10:39.669798",
     "exception": false,
     "start_time": "2021-08-01T07:10:39.612953",
     "status": "completed"
    },
    "tags": []
   },
   "outputs": [],
   "source": [
    "id2lbl={lbl: idx for idx,lbl in enumerate(list(df[\"BROWSE_NODE_ID\"].unique()))}\n",
    "lbl2id={lbl:idx for idx,lbl in id2lbl.items()}"
   ]
  },
  {
   "cell_type": "code",
   "execution_count": 6,
   "id": "f2c82f26",
   "metadata": {
    "execution": {
     "iopub.execute_input": "2021-08-01T07:10:39.730519Z",
     "iopub.status.busy": "2021-08-01T07:10:39.729952Z",
     "iopub.status.idle": "2021-08-01T07:10:39.735484Z",
     "shell.execute_reply": "2021-08-01T07:10:39.735057Z",
     "shell.execute_reply.started": "2021-08-01T07:02:43.297542Z"
    },
    "papermill": {
     "duration": 0.037314,
     "end_time": "2021-08-01T07:10:39.735584",
     "exception": false,
     "start_time": "2021-08-01T07:10:39.698270",
     "status": "completed"
    },
    "tags": []
   },
   "outputs": [],
   "source": [
    "set_seed()"
   ]
  },
  {
   "cell_type": "code",
   "execution_count": 7,
   "id": "ac9a1374",
   "metadata": {
    "execution": {
     "iopub.execute_input": "2021-08-01T07:10:39.808429Z",
     "iopub.status.busy": "2021-08-01T07:10:39.807645Z",
     "iopub.status.idle": "2021-08-01T07:10:39.848695Z",
     "shell.execute_reply": "2021-08-01T07:10:39.848231Z",
     "shell.execute_reply.started": "2021-08-01T07:02:43.306991Z"
    },
    "papermill": {
     "duration": 0.084798,
     "end_time": "2021-08-01T07:10:39.848819",
     "exception": false,
     "start_time": "2021-08-01T07:10:39.764021",
     "status": "completed"
    },
    "tags": []
   },
   "outputs": [],
   "source": [
    "df[\"BROWSE_NODE_ID\"]=df[\"BROWSE_NODE_ID\"].map(id2lbl)"
   ]
  },
  {
   "cell_type": "code",
   "execution_count": 8,
   "id": "0648bca5",
   "metadata": {
    "execution": {
     "iopub.execute_input": "2021-08-01T07:10:39.911699Z",
     "iopub.status.busy": "2021-08-01T07:10:39.911160Z",
     "iopub.status.idle": "2021-08-01T07:10:39.914925Z",
     "shell.execute_reply": "2021-08-01T07:10:39.914516Z",
     "shell.execute_reply.started": "2021-08-01T07:02:43.366177Z"
    },
    "papermill": {
     "duration": 0.037291,
     "end_time": "2021-08-01T07:10:39.915040",
     "exception": false,
     "start_time": "2021-08-01T07:10:39.877749",
     "status": "completed"
    },
    "tags": []
   },
   "outputs": [],
   "source": [
    "def create_folds(data, num_splits):\n",
    "    data[\"kfold\"] = -1\n",
    "    data = data.sample(frac=1).reset_index(drop=True)\n",
    "    y=df[\"BROWSE_NODE_ID\"]\n",
    "    kf = model_selection.StratifiedKFold(n_splits=num_splits)\n",
    "    for f, (t_, v_) in enumerate(kf.split(X=data, y=y)):\n",
    "        data.loc[v_, 'kfold'] = f\n",
    "    return data"
   ]
  },
  {
   "cell_type": "code",
   "execution_count": 9,
   "id": "7c9e9eec",
   "metadata": {
    "execution": {
     "iopub.execute_input": "2021-08-01T07:10:39.976407Z",
     "iopub.status.busy": "2021-08-01T07:10:39.975367Z",
     "iopub.status.idle": "2021-08-01T07:10:58.918298Z",
     "shell.execute_reply": "2021-08-01T07:10:58.917807Z",
     "shell.execute_reply.started": "2021-08-01T07:02:43.374534Z"
    },
    "papermill": {
     "duration": 18.975044,
     "end_time": "2021-08-01T07:10:58.918430",
     "exception": false,
     "start_time": "2021-08-01T07:10:39.943386",
     "status": "completed"
    },
    "tags": []
   },
   "outputs": [
    {
     "name": "stderr",
     "output_type": "stream",
     "text": [
      "/opt/conda/lib/python3.7/site-packages/sklearn/model_selection/_split.py:672: UserWarning: The least populated class in y has only 1 members, which is less than n_splits=5.\n",
      "  % (min_groups, self.n_splits)), UserWarning)\n"
     ]
    }
   ],
   "source": [
    "df=create_folds(df, 5)"
   ]
  },
  {
   "cell_type": "code",
   "execution_count": 10,
   "id": "2323ea27",
   "metadata": {
    "execution": {
     "iopub.execute_input": "2021-08-01T07:10:58.982251Z",
     "iopub.status.busy": "2021-08-01T07:10:58.981344Z",
     "iopub.status.idle": "2021-08-01T07:11:00.137427Z",
     "shell.execute_reply": "2021-08-01T07:11:00.137847Z",
     "shell.execute_reply.started": "2021-08-01T07:03:03.862676Z"
    },
    "papermill": {
     "duration": 1.189712,
     "end_time": "2021-08-01T07:11:00.138003",
     "exception": false,
     "start_time": "2021-08-01T07:10:58.948291",
     "status": "completed"
    },
    "tags": []
   },
   "outputs": [
    {
     "data": {
      "text/html": [
       "<div>\n",
       "<style scoped>\n",
       "    .dataframe tbody tr th:only-of-type {\n",
       "        vertical-align: middle;\n",
       "    }\n",
       "\n",
       "    .dataframe tbody tr th {\n",
       "        vertical-align: top;\n",
       "    }\n",
       "\n",
       "    .dataframe thead th {\n",
       "        text-align: right;\n",
       "    }\n",
       "</style>\n",
       "<table border=\"1\" class=\"dataframe\">\n",
       "  <thead>\n",
       "    <tr style=\"text-align: right;\">\n",
       "      <th></th>\n",
       "      <th>TITLE</th>\n",
       "      <th>DESCRIPTION</th>\n",
       "      <th>BULLET_POINTS</th>\n",
       "      <th>BRAND</th>\n",
       "      <th>BROWSE_NODE_ID</th>\n",
       "      <th>kfold</th>\n",
       "    </tr>\n",
       "  </thead>\n",
       "  <tbody>\n",
       "    <tr>\n",
       "      <th>0</th>\n",
       "      <td>Amsik®Blind Spot Round Mirror Black, (Real Gla...</td>\n",
       "      <td>The mirrors easily mount to the vehicle's left...</td>\n",
       "      <td>[It is small, but it is smart mirror, and work...</td>\n",
       "      <td>AMSIK</td>\n",
       "      <td>3873</td>\n",
       "      <td>0</td>\n",
       "    </tr>\n",
       "    <tr>\n",
       "      <th>1</th>\n",
       "      <td>Nivea Face Sun Block Whitening Cream SPF 50 Pa...</td>\n",
       "      <td>Nivea Sun Fac Sun Block Whitening Cream Spf 50...</td>\n",
       "      <td>NIVEA face SUN Block Whitening Cream SPF 50 PA ++</td>\n",
       "      <td>Nivea</td>\n",
       "      <td>33</td>\n",
       "      <td>0</td>\n",
       "    </tr>\n",
       "    <tr>\n",
       "      <th>2</th>\n",
       "      <td>ROZVEH Women's Shift Brown Dress</td>\n",
       "      <td>&lt;p&gt;Super Fine Rayon,&amp;nbsp;Brown Floral Print d...</td>\n",
       "      <td>[Material: Super Fine Rayon, Brown Floral Prin...</td>\n",
       "      <td>ROZVEH</td>\n",
       "      <td>956</td>\n",
       "      <td>1</td>\n",
       "    </tr>\n",
       "    <tr>\n",
       "      <th>3</th>\n",
       "      <td>Narayan Creation Pashmina Palazzo Suit Dupatta...</td>\n",
       "      <td>Narayan creatins pashmina unstitched palazzo s...</td>\n",
       "      <td>NaN</td>\n",
       "      <td>Generic</td>\n",
       "      <td>328</td>\n",
       "      <td>0</td>\n",
       "    </tr>\n",
       "    <tr>\n",
       "      <th>4</th>\n",
       "      <td>Q-rious Women's Silicon Strap Spagettis/Camiso...</td>\n",
       "      <td>Trendy Q-rious Spagetti with sequin detachable...</td>\n",
       "      <td>[Silicon and Elastic strap option,Detachable S...</td>\n",
       "      <td>Q-rious</td>\n",
       "      <td>1048</td>\n",
       "      <td>0</td>\n",
       "    </tr>\n",
       "  </tbody>\n",
       "</table>\n",
       "</div>"
      ],
      "text/plain": [
       "                                               TITLE  \\\n",
       "0  Amsik®Blind Spot Round Mirror Black, (Real Gla...   \n",
       "1  Nivea Face Sun Block Whitening Cream SPF 50 Pa...   \n",
       "2                   ROZVEH Women's Shift Brown Dress   \n",
       "3  Narayan Creation Pashmina Palazzo Suit Dupatta...   \n",
       "4  Q-rious Women's Silicon Strap Spagettis/Camiso...   \n",
       "\n",
       "                                         DESCRIPTION  \\\n",
       "0  The mirrors easily mount to the vehicle's left...   \n",
       "1  Nivea Sun Fac Sun Block Whitening Cream Spf 50...   \n",
       "2  <p>Super Fine Rayon,&nbsp;Brown Floral Print d...   \n",
       "3  Narayan creatins pashmina unstitched palazzo s...   \n",
       "4  Trendy Q-rious Spagetti with sequin detachable...   \n",
       "\n",
       "                                       BULLET_POINTS    BRAND  BROWSE_NODE_ID  \\\n",
       "0  [It is small, but it is smart mirror, and work...    AMSIK            3873   \n",
       "1  NIVEA face SUN Block Whitening Cream SPF 50 PA ++    Nivea              33   \n",
       "2  [Material: Super Fine Rayon, Brown Floral Prin...   ROZVEH             956   \n",
       "3                                                NaN  Generic             328   \n",
       "4  [Silicon and Elastic strap option,Detachable S...  Q-rious            1048   \n",
       "\n",
       "   kfold  \n",
       "0      0  \n",
       "1      0  \n",
       "2      1  \n",
       "3      0  \n",
       "4      0  "
      ]
     },
     "execution_count": 10,
     "metadata": {},
     "output_type": "execute_result"
    }
   ],
   "source": [
    "df=df.loc[df.kfold.isin([0,1])]\n",
    "df=df.reset_index(drop=True)\n",
    "df.head()"
   ]
  },
  {
   "cell_type": "code",
   "execution_count": 11,
   "id": "908ce846",
   "metadata": {
    "execution": {
     "iopub.execute_input": "2021-08-01T07:11:00.216805Z",
     "iopub.status.busy": "2021-08-01T07:11:00.216239Z",
     "iopub.status.idle": "2021-08-01T07:11:00.282994Z",
     "shell.execute_reply": "2021-08-01T07:11:00.282532Z",
     "shell.execute_reply.started": "2021-08-01T07:03:05.016505Z"
    },
    "papermill": {
     "duration": 0.115013,
     "end_time": "2021-08-01T07:11:00.283126",
     "exception": false,
     "start_time": "2021-08-01T07:11:00.168113",
     "status": "completed"
    },
    "tags": []
   },
   "outputs": [
    {
     "data": {
      "text/html": [
       "<div>\n",
       "<style scoped>\n",
       "    .dataframe tbody tr th:only-of-type {\n",
       "        vertical-align: middle;\n",
       "    }\n",
       "\n",
       "    .dataframe tbody tr th {\n",
       "        vertical-align: top;\n",
       "    }\n",
       "\n",
       "    .dataframe thead th {\n",
       "        text-align: right;\n",
       "    }\n",
       "</style>\n",
       "<table border=\"1\" class=\"dataframe\">\n",
       "  <thead>\n",
       "    <tr style=\"text-align: right;\">\n",
       "      <th></th>\n",
       "      <th>TITLE</th>\n",
       "      <th>DESCRIPTION</th>\n",
       "      <th>BULLET_POINTS</th>\n",
       "      <th>BRAND</th>\n",
       "      <th>BROWSE_NODE_ID</th>\n",
       "      <th>kfold</th>\n",
       "    </tr>\n",
       "  </thead>\n",
       "  <tbody>\n",
       "    <tr>\n",
       "      <th>99973</th>\n",
       "      <td>Adam Audio A77X Powered Studio Monitor Right</td>\n",
       "      <td>A77X Powered Studio Monitor Right. In some set...</td>\n",
       "      <td>[Solid response down to 38Hz Award-winning X-A...</td>\n",
       "      <td>Adam Audio</td>\n",
       "      <td>1045</td>\n",
       "      <td>0</td>\n",
       "    </tr>\n",
       "    <tr>\n",
       "      <th>115667</th>\n",
       "      <td>Mackie CR4 Creative Reference Multimedia Monit...</td>\n",
       "      <td>Mackie CR4 Creative Reference Multimedia Monit...</td>\n",
       "      <td>NaN</td>\n",
       "      <td>Mackie</td>\n",
       "      <td>1045</td>\n",
       "      <td>0</td>\n",
       "    </tr>\n",
       "    <tr>\n",
       "      <th>191934</th>\n",
       "      <td>Peavey PV23XO Stereo 2 Way/Mono 3 Way Crossover</td>\n",
       "      <td>Peavey 2 WAY STEREO 3 WAY MONO CROSSOVER</td>\n",
       "      <td>Peavey 2 WAY STEREO 3 WAY MONO CROSSOVER</td>\n",
       "      <td>Peavey</td>\n",
       "      <td>1045</td>\n",
       "      <td>0</td>\n",
       "    </tr>\n",
       "    <tr>\n",
       "      <th>226612</th>\n",
       "      <td>KRK V4 Series 4 4\" 2-Way Powered Studio Refere...</td>\n",
       "      <td>NaN</td>\n",
       "      <td>[The V4S4 has the KRK custom designed Kevlar t...</td>\n",
       "      <td>KRK</td>\n",
       "      <td>1045</td>\n",
       "      <td>0</td>\n",
       "    </tr>\n",
       "    <tr>\n",
       "      <th>226739</th>\n",
       "      <td>Mackie CR3 CR Series 3\" Creative Reference Mul...</td>\n",
       "      <td>CR3 - 3&amp;quot; Creative Reference Multimedia Mo...</td>\n",
       "      <td>[Mackie CR Series 3\" Creative Reference Multim...</td>\n",
       "      <td>Mackie</td>\n",
       "      <td>1045</td>\n",
       "      <td>0</td>\n",
       "    </tr>\n",
       "  </tbody>\n",
       "</table>\n",
       "</div>"
      ],
      "text/plain": [
       "                                                    TITLE  \\\n",
       "99973        Adam Audio A77X Powered Studio Monitor Right   \n",
       "115667  Mackie CR4 Creative Reference Multimedia Monit...   \n",
       "191934    Peavey PV23XO Stereo 2 Way/Mono 3 Way Crossover   \n",
       "226612  KRK V4 Series 4 4\" 2-Way Powered Studio Refere...   \n",
       "226739  Mackie CR3 CR Series 3\" Creative Reference Mul...   \n",
       "\n",
       "                                              DESCRIPTION  \\\n",
       "99973   A77X Powered Studio Monitor Right. In some set...   \n",
       "115667  Mackie CR4 Creative Reference Multimedia Monit...   \n",
       "191934           Peavey 2 WAY STEREO 3 WAY MONO CROSSOVER   \n",
       "226612                                                NaN   \n",
       "226739  CR3 - 3&quot; Creative Reference Multimedia Mo...   \n",
       "\n",
       "                                            BULLET_POINTS       BRAND  \\\n",
       "99973   [Solid response down to 38Hz Award-winning X-A...  Adam Audio   \n",
       "115667                                                NaN      Mackie   \n",
       "191934           Peavey 2 WAY STEREO 3 WAY MONO CROSSOVER      Peavey   \n",
       "226612  [The V4S4 has the KRK custom designed Kevlar t...         KRK   \n",
       "226739  [Mackie CR Series 3\" Creative Reference Multim...      Mackie   \n",
       "\n",
       "        BROWSE_NODE_ID  kfold  \n",
       "99973             1045      0  \n",
       "115667            1045      0  \n",
       "191934            1045      0  \n",
       "226612            1045      0  \n",
       "226739            1045      0  "
      ]
     },
     "execution_count": 11,
     "metadata": {},
     "output_type": "execute_result"
    }
   ],
   "source": [
    "df.loc[df['BROWSE_NODE_ID']==1045].head()"
   ]
  },
  {
   "cell_type": "code",
   "execution_count": 12,
   "id": "2240ab24",
   "metadata": {
    "execution": {
     "iopub.execute_input": "2021-08-01T07:11:00.361492Z",
     "iopub.status.busy": "2021-08-01T07:11:00.360820Z",
     "iopub.status.idle": "2021-08-01T07:11:01.062570Z",
     "shell.execute_reply": "2021-08-01T07:11:01.062132Z",
     "shell.execute_reply.started": "2021-08-01T07:03:05.103360Z"
    },
    "papermill": {
     "duration": 0.749688,
     "end_time": "2021-08-01T07:11:01.062695",
     "exception": false,
     "start_time": "2021-08-01T07:11:00.313007",
     "status": "completed"
    },
    "tags": []
   },
   "outputs": [
    {
     "name": "stdout",
     "output_type": "stream",
     "text": [
      "<class 'pandas.core.frame.DataFrame'>\n",
      "RangeIndex: 1161210 entries, 0 to 1161209\n",
      "Data columns (total 6 columns):\n",
      " #   Column          Non-Null Count    Dtype \n",
      "---  ------          --------------    ----- \n",
      " 0   TITLE           1161181 non-null  object\n",
      " 1   DESCRIPTION     871480 non-null   object\n",
      " 2   BULLET_POINTS   1094686 non-null  object\n",
      " 3   BRAND           1138626 non-null  object\n",
      " 4   BROWSE_NODE_ID  1161210 non-null  int64 \n",
      " 5   kfold           1161210 non-null  int64 \n",
      "dtypes: int64(2), object(4)\n",
      "memory usage: 53.2+ MB\n"
     ]
    }
   ],
   "source": [
    "df.info()"
   ]
  },
  {
   "cell_type": "code",
   "execution_count": 13,
   "id": "19bcdb64",
   "metadata": {
    "execution": {
     "iopub.execute_input": "2021-08-01T07:11:01.127967Z",
     "iopub.status.busy": "2021-08-01T07:11:01.127306Z",
     "iopub.status.idle": "2021-08-01T07:11:01.816520Z",
     "shell.execute_reply": "2021-08-01T07:11:01.816085Z",
     "shell.execute_reply.started": "2021-08-01T07:03:05.999103Z"
    },
    "papermill": {
     "duration": 0.722891,
     "end_time": "2021-08-01T07:11:01.816641",
     "exception": false,
     "start_time": "2021-08-01T07:11:01.093750",
     "status": "completed"
    },
    "tags": []
   },
   "outputs": [
    {
     "data": {
      "text/plain": [
       "TITLE                 29\n",
       "DESCRIPTION       289730\n",
       "BULLET_POINTS      66524\n",
       "BRAND              22584\n",
       "BROWSE_NODE_ID         0\n",
       "kfold                  0\n",
       "dtype: int64"
      ]
     },
     "execution_count": 13,
     "metadata": {},
     "output_type": "execute_result"
    }
   ],
   "source": [
    "df.isnull().sum()"
   ]
  },
  {
   "cell_type": "code",
   "execution_count": 14,
   "id": "b0894a22",
   "metadata": {
    "execution": {
     "iopub.execute_input": "2021-08-01T07:11:01.884104Z",
     "iopub.status.busy": "2021-08-01T07:11:01.883163Z",
     "iopub.status.idle": "2021-08-01T07:11:02.768466Z",
     "shell.execute_reply": "2021-08-01T07:11:02.767827Z",
     "shell.execute_reply.started": "2021-08-01T07:03:06.704086Z"
    },
    "papermill": {
     "duration": 0.920259,
     "end_time": "2021-08-01T07:11:02.768605",
     "exception": false,
     "start_time": "2021-08-01T07:11:01.848346",
     "status": "completed"
    },
    "tags": []
   },
   "outputs": [],
   "source": [
    "temp=df.dropna(subset=['TITLE'])\n",
    "temp=temp.reset_index(drop=True)"
   ]
  },
  {
   "cell_type": "code",
   "execution_count": 15,
   "id": "67e6deaa",
   "metadata": {
    "execution": {
     "iopub.execute_input": "2021-08-01T07:11:02.836740Z",
     "iopub.status.busy": "2021-08-01T07:11:02.836090Z",
     "iopub.status.idle": "2021-08-01T07:11:03.518080Z",
     "shell.execute_reply": "2021-08-01T07:11:03.518494Z",
     "shell.execute_reply.started": "2021-08-01T07:03:07.405031Z"
    },
    "papermill": {
     "duration": 0.716267,
     "end_time": "2021-08-01T07:11:03.518640",
     "exception": false,
     "start_time": "2021-08-01T07:11:02.802373",
     "status": "completed"
    },
    "tags": []
   },
   "outputs": [
    {
     "data": {
      "text/plain": [
       "TITLE                  0\n",
       "DESCRIPTION       289724\n",
       "BULLET_POINTS      66520\n",
       "BRAND              22580\n",
       "BROWSE_NODE_ID         0\n",
       "kfold                  0\n",
       "dtype: int64"
      ]
     },
     "execution_count": 15,
     "metadata": {},
     "output_type": "execute_result"
    }
   ],
   "source": [
    "temp.isnull().sum()"
   ]
  },
  {
   "cell_type": "code",
   "execution_count": 16,
   "id": "9d10900c",
   "metadata": {
    "execution": {
     "iopub.execute_input": "2021-08-01T07:11:03.598578Z",
     "iopub.status.busy": "2021-08-01T07:11:03.593415Z",
     "iopub.status.idle": "2021-08-01T07:11:05.087320Z",
     "shell.execute_reply": "2021-08-01T07:11:05.086799Z",
     "shell.execute_reply.started": "2021-08-01T07:03:08.099255Z"
    },
    "papermill": {
     "duration": 1.538251,
     "end_time": "2021-08-01T07:11:05.087441",
     "exception": false,
     "start_time": "2021-08-01T07:11:03.549190",
     "status": "completed"
    },
    "tags": []
   },
   "outputs": [],
   "source": [
    "total_words=0\n",
    "for title in temp['TITLE']:\n",
    "    total_words+=len(title.split())"
   ]
  },
  {
   "cell_type": "code",
   "execution_count": 17,
   "id": "58df2c77",
   "metadata": {
    "execution": {
     "iopub.execute_input": "2021-08-01T07:11:05.155933Z",
     "iopub.status.busy": "2021-08-01T07:11:05.155328Z",
     "iopub.status.idle": "2021-08-01T07:11:05.158410Z",
     "shell.execute_reply": "2021-08-01T07:11:05.158797Z",
     "shell.execute_reply.started": "2021-08-01T07:03:09.638517Z"
    },
    "papermill": {
     "duration": 0.039619,
     "end_time": "2021-08-01T07:11:05.158930",
     "exception": false,
     "start_time": "2021-08-01T07:11:05.119311",
     "status": "completed"
    },
    "tags": []
   },
   "outputs": [
    {
     "data": {
      "text/plain": [
       "13.54644796978249"
      ]
     },
     "execution_count": 17,
     "metadata": {},
     "output_type": "execute_result"
    }
   ],
   "source": [
    "total_words/len(temp)"
   ]
  },
  {
   "cell_type": "code",
   "execution_count": 18,
   "id": "4d45c713",
   "metadata": {
    "execution": {
     "iopub.execute_input": "2021-08-01T07:11:05.225816Z",
     "iopub.status.busy": "2021-08-01T07:11:05.225178Z",
     "iopub.status.idle": "2021-08-01T07:11:10.983596Z",
     "shell.execute_reply": "2021-08-01T07:11:10.984064Z",
     "shell.execute_reply.started": "2021-08-01T07:03:09.646789Z"
    },
    "papermill": {
     "duration": 5.794244,
     "end_time": "2021-08-01T07:11:10.984232",
     "exception": false,
     "start_time": "2021-08-01T07:11:05.189988",
     "status": "completed"
    },
    "tags": []
   },
   "outputs": [
    {
     "data": {
      "text/plain": [
       "90.5317115711204"
      ]
     },
     "execution_count": 18,
     "metadata": {},
     "output_type": "execute_result"
    }
   ],
   "source": [
    "temp=df.dropna(subset=['DESCRIPTION'])\n",
    "total_words=0\n",
    "for title in temp['DESCRIPTION']:\n",
    "    total_words+=len(title.split())\n",
    "total_words/len(temp)"
   ]
  },
  {
   "cell_type": "code",
   "execution_count": 19,
   "id": "027fdd31",
   "metadata": {
    "execution": {
     "iopub.execute_input": "2021-08-01T07:11:11.053058Z",
     "iopub.status.busy": "2021-08-01T07:11:11.052079Z",
     "iopub.status.idle": "2021-08-01T07:11:12.578564Z",
     "shell.execute_reply": "2021-08-01T07:11:12.578038Z",
     "shell.execute_reply.started": "2021-08-01T07:03:15.921271Z"
    },
    "papermill": {
     "duration": 1.563226,
     "end_time": "2021-08-01T07:11:12.578705",
     "exception": false,
     "start_time": "2021-08-01T07:11:11.015479",
     "status": "completed"
    },
    "tags": []
   },
   "outputs": [],
   "source": [
    "temp=df.dropna(subset=['TITLE'])\n",
    "temp=temp.fillna(\" \")"
   ]
  },
  {
   "cell_type": "code",
   "execution_count": 20,
   "id": "47f4d09a",
   "metadata": {
    "execution": {
     "iopub.execute_input": "2021-08-01T07:11:12.657414Z",
     "iopub.status.busy": "2021-08-01T07:11:12.656624Z",
     "iopub.status.idle": "2021-08-01T07:11:12.660273Z",
     "shell.execute_reply": "2021-08-01T07:11:12.659727Z",
     "shell.execute_reply.started": "2021-08-01T07:03:17.537077Z"
    },
    "papermill": {
     "duration": 0.045869,
     "end_time": "2021-08-01T07:11:12.660373",
     "exception": false,
     "start_time": "2021-08-01T07:11:12.614504",
     "status": "completed"
    },
    "tags": []
   },
   "outputs": [
    {
     "data": {
      "text/html": [
       "<div>\n",
       "<style scoped>\n",
       "    .dataframe tbody tr th:only-of-type {\n",
       "        vertical-align: middle;\n",
       "    }\n",
       "\n",
       "    .dataframe tbody tr th {\n",
       "        vertical-align: top;\n",
       "    }\n",
       "\n",
       "    .dataframe thead th {\n",
       "        text-align: right;\n",
       "    }\n",
       "</style>\n",
       "<table border=\"1\" class=\"dataframe\">\n",
       "  <thead>\n",
       "    <tr style=\"text-align: right;\">\n",
       "      <th></th>\n",
       "      <th>TITLE</th>\n",
       "      <th>DESCRIPTION</th>\n",
       "      <th>BULLET_POINTS</th>\n",
       "      <th>BRAND</th>\n",
       "      <th>BROWSE_NODE_ID</th>\n",
       "      <th>kfold</th>\n",
       "    </tr>\n",
       "  </thead>\n",
       "  <tbody>\n",
       "    <tr>\n",
       "      <th>0</th>\n",
       "      <td>Amsik®Blind Spot Round Mirror Black, (Real Gla...</td>\n",
       "      <td>The mirrors easily mount to the vehicle's left...</td>\n",
       "      <td>[It is small, but it is smart mirror, and work...</td>\n",
       "      <td>AMSIK</td>\n",
       "      <td>3873</td>\n",
       "      <td>0</td>\n",
       "    </tr>\n",
       "    <tr>\n",
       "      <th>1</th>\n",
       "      <td>Nivea Face Sun Block Whitening Cream SPF 50 Pa...</td>\n",
       "      <td>Nivea Sun Fac Sun Block Whitening Cream Spf 50...</td>\n",
       "      <td>NIVEA face SUN Block Whitening Cream SPF 50 PA ++</td>\n",
       "      <td>Nivea</td>\n",
       "      <td>33</td>\n",
       "      <td>0</td>\n",
       "    </tr>\n",
       "    <tr>\n",
       "      <th>2</th>\n",
       "      <td>ROZVEH Women's Shift Brown Dress</td>\n",
       "      <td>&lt;p&gt;Super Fine Rayon,&amp;nbsp;Brown Floral Print d...</td>\n",
       "      <td>[Material: Super Fine Rayon, Brown Floral Prin...</td>\n",
       "      <td>ROZVEH</td>\n",
       "      <td>956</td>\n",
       "      <td>1</td>\n",
       "    </tr>\n",
       "    <tr>\n",
       "      <th>3</th>\n",
       "      <td>Narayan Creation Pashmina Palazzo Suit Dupatta...</td>\n",
       "      <td>Narayan creatins pashmina unstitched palazzo s...</td>\n",
       "      <td></td>\n",
       "      <td>Generic</td>\n",
       "      <td>328</td>\n",
       "      <td>0</td>\n",
       "    </tr>\n",
       "    <tr>\n",
       "      <th>4</th>\n",
       "      <td>Q-rious Women's Silicon Strap Spagettis/Camiso...</td>\n",
       "      <td>Trendy Q-rious Spagetti with sequin detachable...</td>\n",
       "      <td>[Silicon and Elastic strap option,Detachable S...</td>\n",
       "      <td>Q-rious</td>\n",
       "      <td>1048</td>\n",
       "      <td>0</td>\n",
       "    </tr>\n",
       "  </tbody>\n",
       "</table>\n",
       "</div>"
      ],
      "text/plain": [
       "                                               TITLE  \\\n",
       "0  Amsik®Blind Spot Round Mirror Black, (Real Gla...   \n",
       "1  Nivea Face Sun Block Whitening Cream SPF 50 Pa...   \n",
       "2                   ROZVEH Women's Shift Brown Dress   \n",
       "3  Narayan Creation Pashmina Palazzo Suit Dupatta...   \n",
       "4  Q-rious Women's Silicon Strap Spagettis/Camiso...   \n",
       "\n",
       "                                         DESCRIPTION  \\\n",
       "0  The mirrors easily mount to the vehicle's left...   \n",
       "1  Nivea Sun Fac Sun Block Whitening Cream Spf 50...   \n",
       "2  <p>Super Fine Rayon,&nbsp;Brown Floral Print d...   \n",
       "3  Narayan creatins pashmina unstitched palazzo s...   \n",
       "4  Trendy Q-rious Spagetti with sequin detachable...   \n",
       "\n",
       "                                       BULLET_POINTS    BRAND  BROWSE_NODE_ID  \\\n",
       "0  [It is small, but it is smart mirror, and work...    AMSIK            3873   \n",
       "1  NIVEA face SUN Block Whitening Cream SPF 50 PA ++    Nivea              33   \n",
       "2  [Material: Super Fine Rayon, Brown Floral Prin...   ROZVEH             956   \n",
       "3                                                     Generic             328   \n",
       "4  [Silicon and Elastic strap option,Detachable S...  Q-rious            1048   \n",
       "\n",
       "   kfold  \n",
       "0      0  \n",
       "1      0  \n",
       "2      1  \n",
       "3      0  \n",
       "4      0  "
      ]
     },
     "execution_count": 20,
     "metadata": {},
     "output_type": "execute_result"
    }
   ],
   "source": [
    "temp.head()"
   ]
  },
  {
   "cell_type": "code",
   "execution_count": 21,
   "id": "a031d64d",
   "metadata": {
    "execution": {
     "iopub.execute_input": "2021-08-01T07:11:12.757036Z",
     "iopub.status.busy": "2021-08-01T07:11:12.754992Z",
     "iopub.status.idle": "2021-08-01T07:11:12.769786Z",
     "shell.execute_reply": "2021-08-01T07:11:12.770889Z",
     "shell.execute_reply.started": "2021-08-01T07:03:17.550397Z"
    },
    "papermill": {
     "duration": 0.075655,
     "end_time": "2021-08-01T07:11:12.771118",
     "exception": false,
     "start_time": "2021-08-01T07:11:12.695463",
     "status": "completed"
    },
    "tags": []
   },
   "outputs": [
    {
     "data": {
      "text/plain": [
       "'It is small  but it is smart mirror  and works together with the side mirror so great The blind spots mirrors can be 360° rotatable + 30° sway adjustable with the angle regulator type . Upgraded real glass mirror body  equips with strong 3M adhesive tape for fast installation. 2 Pcs/set with double tape packaged in all English instruction.'"
      ]
     },
     "execution_count": 21,
     "metadata": {},
     "output_type": "execute_result"
    }
   ],
   "source": [
    "\" \".join(temp[\"BULLET_POINTS\"][0].split(\",\"))[:-1][1:]"
   ]
  },
  {
   "cell_type": "code",
   "execution_count": 22,
   "id": "ca0fc3d3",
   "metadata": {
    "execution": {
     "iopub.execute_input": "2021-08-01T07:11:12.902973Z",
     "iopub.status.busy": "2021-08-01T07:11:12.899093Z",
     "iopub.status.idle": "2021-08-01T07:12:51.472646Z",
     "shell.execute_reply": "2021-08-01T07:12:51.473719Z",
     "shell.execute_reply.started": "2021-08-01T07:03:17.565891Z"
    },
    "papermill": {
     "duration": 98.635365,
     "end_time": "2021-08-01T07:12:51.473960",
     "exception": false,
     "start_time": "2021-08-01T07:11:12.838595",
     "status": "completed"
    },
    "tags": []
   },
   "outputs": [
    {
     "name": "stdout",
     "output_type": "stream",
     "text": [
      "0 Done\n",
      "100000 Done\n",
      "200000 Done\n",
      "300000 Done\n",
      "400000 Done\n",
      "500000 Done\n",
      "600000 Done\n",
      "700000 Done\n",
      "800000 Done\n",
      "900000 Done\n",
      "1000000 Done\n",
      "1100000 Done\n"
     ]
    }
   ],
   "source": [
    "wholeSentence=[]\n",
    "for idx,row in temp.iterrows(): \n",
    "    if(idx%100000==0):\n",
    "        print(f\"{idx} Done\")\n",
    "    wholeSentence.append(row[0]+row[1]+\" \".join(row[2].split(\",\"))[:-1][1:])"
   ]
  },
  {
   "cell_type": "code",
   "execution_count": 23,
   "id": "e69daf42",
   "metadata": {
    "execution": {
     "iopub.execute_input": "2021-08-01T07:12:51.611169Z",
     "iopub.status.busy": "2021-08-01T07:12:51.610363Z",
     "iopub.status.idle": "2021-08-01T07:12:51.793722Z",
     "shell.execute_reply": "2021-08-01T07:12:51.793292Z",
     "shell.execute_reply.started": "2021-08-01T07:04:56.153454Z"
    },
    "papermill": {
     "duration": 0.256393,
     "end_time": "2021-08-01T07:12:51.793839",
     "exception": false,
     "start_time": "2021-08-01T07:12:51.537446",
     "status": "completed"
    },
    "tags": []
   },
   "outputs": [],
   "source": [
    "temp[\"WHOLE SENTENCE\"]=wholeSentence"
   ]
  },
  {
   "cell_type": "code",
   "execution_count": 24,
   "id": "0c1055e5",
   "metadata": {
    "execution": {
     "iopub.execute_input": "2021-08-01T07:12:51.870835Z",
     "iopub.status.busy": "2021-08-01T07:12:51.869974Z",
     "iopub.status.idle": "2021-08-01T07:12:52.242461Z",
     "shell.execute_reply": "2021-08-01T07:12:52.243223Z",
     "shell.execute_reply.started": "2021-08-01T07:04:56.343410Z"
    },
    "papermill": {
     "duration": 0.412487,
     "end_time": "2021-08-01T07:12:52.243447",
     "exception": false,
     "start_time": "2021-08-01T07:12:51.830960",
     "status": "completed"
    },
    "tags": []
   },
   "outputs": [],
   "source": [
    "temp=temp.reset_index(drop=True)"
   ]
  },
  {
   "cell_type": "code",
   "execution_count": 25,
   "id": "887c25db",
   "metadata": {
    "execution": {
     "iopub.execute_input": "2021-08-01T07:12:52.384452Z",
     "iopub.status.busy": "2021-08-01T07:12:52.383678Z",
     "iopub.status.idle": "2021-08-01T07:12:52.390802Z",
     "shell.execute_reply": "2021-08-01T07:12:52.391857Z",
     "shell.execute_reply.started": "2021-08-01T07:04:56.681610Z"
    },
    "papermill": {
     "duration": 0.085735,
     "end_time": "2021-08-01T07:12:52.392055",
     "exception": false,
     "start_time": "2021-08-01T07:12:52.306320",
     "status": "completed"
    },
    "tags": []
   },
   "outputs": [
    {
     "data": {
      "text/html": [
       "<div>\n",
       "<style scoped>\n",
       "    .dataframe tbody tr th:only-of-type {\n",
       "        vertical-align: middle;\n",
       "    }\n",
       "\n",
       "    .dataframe tbody tr th {\n",
       "        vertical-align: top;\n",
       "    }\n",
       "\n",
       "    .dataframe thead th {\n",
       "        text-align: right;\n",
       "    }\n",
       "</style>\n",
       "<table border=\"1\" class=\"dataframe\">\n",
       "  <thead>\n",
       "    <tr style=\"text-align: right;\">\n",
       "      <th></th>\n",
       "      <th>TITLE</th>\n",
       "      <th>DESCRIPTION</th>\n",
       "      <th>BULLET_POINTS</th>\n",
       "      <th>BRAND</th>\n",
       "      <th>BROWSE_NODE_ID</th>\n",
       "      <th>kfold</th>\n",
       "      <th>WHOLE SENTENCE</th>\n",
       "    </tr>\n",
       "  </thead>\n",
       "  <tbody>\n",
       "    <tr>\n",
       "      <th>0</th>\n",
       "      <td>Amsik®Blind Spot Round Mirror Black, (Real Gla...</td>\n",
       "      <td>The mirrors easily mount to the vehicle's left...</td>\n",
       "      <td>[It is small, but it is smart mirror, and work...</td>\n",
       "      <td>AMSIK</td>\n",
       "      <td>3873</td>\n",
       "      <td>0</td>\n",
       "      <td>Amsik®Blind Spot Round Mirror Black, (Real Gla...</td>\n",
       "    </tr>\n",
       "    <tr>\n",
       "      <th>1</th>\n",
       "      <td>Nivea Face Sun Block Whitening Cream SPF 50 Pa...</td>\n",
       "      <td>Nivea Sun Fac Sun Block Whitening Cream Spf 50...</td>\n",
       "      <td>NIVEA face SUN Block Whitening Cream SPF 50 PA ++</td>\n",
       "      <td>Nivea</td>\n",
       "      <td>33</td>\n",
       "      <td>0</td>\n",
       "      <td>Nivea Face Sun Block Whitening Cream SPF 50 Pa...</td>\n",
       "    </tr>\n",
       "    <tr>\n",
       "      <th>2</th>\n",
       "      <td>ROZVEH Women's Shift Brown Dress</td>\n",
       "      <td>&lt;p&gt;Super Fine Rayon,&amp;nbsp;Brown Floral Print d...</td>\n",
       "      <td>[Material: Super Fine Rayon, Brown Floral Prin...</td>\n",
       "      <td>ROZVEH</td>\n",
       "      <td>956</td>\n",
       "      <td>1</td>\n",
       "      <td>ROZVEH Women's Shift Brown Dress&lt;p&gt;Super Fine ...</td>\n",
       "    </tr>\n",
       "    <tr>\n",
       "      <th>3</th>\n",
       "      <td>Narayan Creation Pashmina Palazzo Suit Dupatta...</td>\n",
       "      <td>Narayan creatins pashmina unstitched palazzo s...</td>\n",
       "      <td></td>\n",
       "      <td>Generic</td>\n",
       "      <td>328</td>\n",
       "      <td>0</td>\n",
       "      <td>Narayan Creation Pashmina Palazzo Suit Dupatta...</td>\n",
       "    </tr>\n",
       "    <tr>\n",
       "      <th>4</th>\n",
       "      <td>Q-rious Women's Silicon Strap Spagettis/Camiso...</td>\n",
       "      <td>Trendy Q-rious Spagetti with sequin detachable...</td>\n",
       "      <td>[Silicon and Elastic strap option,Detachable S...</td>\n",
       "      <td>Q-rious</td>\n",
       "      <td>1048</td>\n",
       "      <td>0</td>\n",
       "      <td>Q-rious Women's Silicon Strap Spagettis/Camiso...</td>\n",
       "    </tr>\n",
       "  </tbody>\n",
       "</table>\n",
       "</div>"
      ],
      "text/plain": [
       "                                               TITLE  \\\n",
       "0  Amsik®Blind Spot Round Mirror Black, (Real Gla...   \n",
       "1  Nivea Face Sun Block Whitening Cream SPF 50 Pa...   \n",
       "2                   ROZVEH Women's Shift Brown Dress   \n",
       "3  Narayan Creation Pashmina Palazzo Suit Dupatta...   \n",
       "4  Q-rious Women's Silicon Strap Spagettis/Camiso...   \n",
       "\n",
       "                                         DESCRIPTION  \\\n",
       "0  The mirrors easily mount to the vehicle's left...   \n",
       "1  Nivea Sun Fac Sun Block Whitening Cream Spf 50...   \n",
       "2  <p>Super Fine Rayon,&nbsp;Brown Floral Print d...   \n",
       "3  Narayan creatins pashmina unstitched palazzo s...   \n",
       "4  Trendy Q-rious Spagetti with sequin detachable...   \n",
       "\n",
       "                                       BULLET_POINTS    BRAND  BROWSE_NODE_ID  \\\n",
       "0  [It is small, but it is smart mirror, and work...    AMSIK            3873   \n",
       "1  NIVEA face SUN Block Whitening Cream SPF 50 PA ++    Nivea              33   \n",
       "2  [Material: Super Fine Rayon, Brown Floral Prin...   ROZVEH             956   \n",
       "3                                                     Generic             328   \n",
       "4  [Silicon and Elastic strap option,Detachable S...  Q-rious            1048   \n",
       "\n",
       "   kfold                                     WHOLE SENTENCE  \n",
       "0      0  Amsik®Blind Spot Round Mirror Black, (Real Gla...  \n",
       "1      0  Nivea Face Sun Block Whitening Cream SPF 50 Pa...  \n",
       "2      1  ROZVEH Women's Shift Brown Dress<p>Super Fine ...  \n",
       "3      0  Narayan Creation Pashmina Palazzo Suit Dupatta...  \n",
       "4      0  Q-rious Women's Silicon Strap Spagettis/Camiso...  "
      ]
     },
     "execution_count": 25,
     "metadata": {},
     "output_type": "execute_result"
    }
   ],
   "source": [
    "temp.head()"
   ]
  },
  {
   "cell_type": "markdown",
   "id": "db57dc28",
   "metadata": {
    "papermill": {
     "duration": 0.066083,
     "end_time": "2021-08-01T07:12:52.525743",
     "exception": false,
     "start_time": "2021-08-01T07:12:52.459660",
     "status": "completed"
    },
    "tags": []
   },
   "source": [
    "# XLNET"
   ]
  },
  {
   "cell_type": "code",
   "execution_count": 26,
   "id": "f0c020c9",
   "metadata": {
    "execution": {
     "iopub.execute_input": "2021-08-01T07:12:52.634706Z",
     "iopub.status.busy": "2021-08-01T07:12:52.633493Z",
     "iopub.status.idle": "2021-08-01T07:12:52.635802Z",
     "shell.execute_reply": "2021-08-01T07:12:52.636226Z",
     "shell.execute_reply.started": "2021-08-01T07:04:56.696387Z"
    },
    "papermill": {
     "duration": 0.048386,
     "end_time": "2021-08-01T07:12:52.636347",
     "exception": false,
     "start_time": "2021-08-01T07:12:52.587961",
     "status": "completed"
    },
    "tags": []
   },
   "outputs": [],
   "source": [
    "dev=torch.device('cuda')"
   ]
  },
  {
   "cell_type": "code",
   "execution_count": 27,
   "id": "b18b1218",
   "metadata": {
    "execution": {
     "iopub.execute_input": "2021-08-01T07:12:52.711682Z",
     "iopub.status.busy": "2021-08-01T07:12:52.710667Z",
     "iopub.status.idle": "2021-08-01T07:12:52.787265Z",
     "shell.execute_reply": "2021-08-01T07:12:52.786836Z",
     "shell.execute_reply.started": "2021-08-01T07:04:56.706478Z"
    },
    "papermill": {
     "duration": 0.115543,
     "end_time": "2021-08-01T07:12:52.787379",
     "exception": false,
     "start_time": "2021-08-01T07:12:52.671836",
     "status": "completed"
    },
    "tags": []
   },
   "outputs": [
    {
     "data": {
      "text/plain": [
       "677     86205\n",
       "5       28363\n",
       "773     20713\n",
       "679     18396\n",
       "4       13701\n",
       "        ...  \n",
       "5993        1\n",
       "8040        1\n",
       "6197        1\n",
       "9856        1\n",
       "9634        1\n",
       "Name: BROWSE_NODE_ID, Length: 9392, dtype: int64"
      ]
     },
     "execution_count": 27,
     "metadata": {},
     "output_type": "execute_result"
    }
   ],
   "source": [
    "temp[\"BROWSE_NODE_ID\"].value_counts()"
   ]
  },
  {
   "cell_type": "code",
   "execution_count": 28,
   "id": "193a2a7a",
   "metadata": {
    "execution": {
     "iopub.execute_input": "2021-08-01T07:12:52.864272Z",
     "iopub.status.busy": "2021-08-01T07:12:52.863451Z",
     "iopub.status.idle": "2021-08-01T07:12:53.038199Z",
     "shell.execute_reply": "2021-08-01T07:12:53.037719Z",
     "shell.execute_reply.started": "2021-08-01T07:04:56.740974Z"
    },
    "papermill": {
     "duration": 0.21482,
     "end_time": "2021-08-01T07:12:53.038329",
     "exception": false,
     "start_time": "2021-08-01T07:12:52.823509",
     "status": "completed"
    },
    "tags": []
   },
   "outputs": [],
   "source": [
    "train_text, val_text, train_labels, val_labels = train_test_split(temp['WHOLE SENTENCE'], temp['BROWSE_NODE_ID'],\n",
    "                                                                    test_size=0.05)"
   ]
  },
  {
   "cell_type": "code",
   "execution_count": 29,
   "id": "1cd9d796",
   "metadata": {
    "execution": {
     "iopub.execute_input": "2021-08-01T07:12:53.115648Z",
     "iopub.status.busy": "2021-08-01T07:12:53.114778Z",
     "iopub.status.idle": "2021-08-01T07:12:53.312246Z",
     "shell.execute_reply": "2021-08-01T07:12:53.311740Z",
     "shell.execute_reply.started": "2021-08-01T07:04:56.941839Z"
    },
    "papermill": {
     "duration": 0.237661,
     "end_time": "2021-08-01T07:12:53.312379",
     "exception": false,
     "start_time": "2021-08-01T07:12:53.074718",
     "status": "completed"
    },
    "tags": []
   },
   "outputs": [],
   "source": [
    "train_text=train_text.reset_index(drop=True)\n",
    "train_labels=train_labels.reset_index(drop=True)\n",
    "val_text=val_text.reset_index(drop=True)\n",
    "val_labels=val_labels.reset_index(drop=True)"
   ]
  },
  {
   "cell_type": "code",
   "execution_count": 30,
   "id": "6a11a2f6",
   "metadata": {
    "execution": {
     "iopub.execute_input": "2021-08-01T07:12:53.391708Z",
     "iopub.status.busy": "2021-08-01T07:12:53.390954Z",
     "iopub.status.idle": "2021-08-01T07:12:56.386645Z",
     "shell.execute_reply": "2021-08-01T07:12:56.386156Z",
     "shell.execute_reply.started": "2021-08-01T07:04:57.157420Z"
    },
    "papermill": {
     "duration": 3.03497,
     "end_time": "2021-08-01T07:12:56.386774",
     "exception": false,
     "start_time": "2021-08-01T07:12:53.351804",
     "status": "completed"
    },
    "tags": []
   },
   "outputs": [
    {
     "data": {
      "application/vnd.jupyter.widget-view+json": {
       "model_id": "c6ea989494b04da8b2837f0676e404fb",
       "version_major": 2,
       "version_minor": 0
      },
      "text/plain": [
       "Downloading:   0%|          | 0.00/798k [00:00<?, ?B/s]"
      ]
     },
     "metadata": {},
     "output_type": "display_data"
    },
    {
     "data": {
      "application/vnd.jupyter.widget-view+json": {
       "model_id": "b2b63fcad27a4a7c93f37e82e13aed0c",
       "version_major": 2,
       "version_minor": 0
      },
      "text/plain": [
       "Downloading:   0%|          | 0.00/1.38M [00:00<?, ?B/s]"
      ]
     },
     "metadata": {},
     "output_type": "display_data"
    }
   ],
   "source": [
    "tokenizer = XLNetTokenizer.from_pretrained('xlnet-base-cased')"
   ]
  },
  {
   "cell_type": "code",
   "execution_count": 31,
   "id": "ce7a6522",
   "metadata": {
    "execution": {
     "iopub.execute_input": "2021-08-01T07:12:56.505202Z",
     "iopub.status.busy": "2021-08-01T07:12:56.500080Z",
     "iopub.status.idle": "2021-08-01T07:13:07.622811Z",
     "shell.execute_reply": "2021-08-01T07:13:07.621942Z",
     "shell.execute_reply.started": "2021-08-01T07:05:00.167774Z"
    },
    "papermill": {
     "duration": 11.198584,
     "end_time": "2021-08-01T07:13:07.622979",
     "exception": false,
     "start_time": "2021-08-01T07:12:56.424395",
     "status": "completed"
    },
    "tags": []
   },
   "outputs": [
    {
     "data": {
      "text/plain": [
       "<AxesSubplot:>"
      ]
     },
     "execution_count": 31,
     "metadata": {},
     "output_type": "execute_result"
    },
    {
     "data": {
      "image/png": "[encoded data removed]",
      "text/plain": [
       "<Figure size 432x288 with 1 Axes>"
      ]
     },
     "metadata": {
      "needs_background": "light"
     },
     "output_type": "display_data"
    }
   ],
   "source": [
    "seq_len = [len(i.split()) for i in train_text]\n",
    "\n",
    "pd.Series(seq_len).hist(bins = 30)"
   ]
  },
  {
   "cell_type": "code",
   "execution_count": 32,
   "id": "049e11b0",
   "metadata": {
    "execution": {
     "iopub.execute_input": "2021-08-01T07:13:07.707119Z",
     "iopub.status.busy": "2021-08-01T07:13:07.706149Z",
     "iopub.status.idle": "2021-08-01T07:13:07.709008Z",
     "shell.execute_reply": "2021-08-01T07:13:07.708494Z",
     "shell.execute_reply.started": "2021-08-01T07:05:11.167366Z"
    },
    "papermill": {
     "duration": 0.044853,
     "end_time": "2021-08-01T07:13:07.709115",
     "exception": false,
     "start_time": "2021-08-01T07:13:07.664262",
     "status": "completed"
    },
    "tags": []
   },
   "outputs": [],
   "source": [
    "max_seq_len = 64"
   ]
  },
  {
   "cell_type": "code",
   "execution_count": 33,
   "id": "b718d85f",
   "metadata": {
    "execution": {
     "iopub.execute_input": "2021-08-01T07:13:07.793018Z",
     "iopub.status.busy": "2021-08-01T07:13:07.792310Z",
     "iopub.status.idle": "2021-08-01T07:13:07.795013Z",
     "shell.execute_reply": "2021-08-01T07:13:07.794493Z",
     "shell.execute_reply.started": "2021-08-01T07:05:11.173582Z"
    },
    "papermill": {
     "duration": 0.04717,
     "end_time": "2021-08-01T07:13:07.795114",
     "exception": false,
     "start_time": "2021-08-01T07:13:07.747944",
     "status": "completed"
    },
    "tags": []
   },
   "outputs": [],
   "source": [
    "class amazonDataset(Dataset):\n",
    "  def __init__(self,text,label,tokenizer):\n",
    "    self.sentence=text\n",
    "    self.label=label\n",
    "    self.tokenizer=tokenizer\n",
    "\n",
    "  def __len__(self):\n",
    "    return len(self.sentence)\n",
    "  \n",
    "  def __getitem__(self,idx):\n",
    "    inp_tokens=self.tokenizer.encode_plus(self.sentence[idx], \n",
    "                                          padding=\"max_length\", \n",
    "                                          add_special_tokens=True,\n",
    "                                          max_length=max_seq_len, \n",
    "                                          truncation=True)\n",
    "    inp_id=inp_tokens.input_ids\n",
    "    inp_mask=inp_tokens.attention_mask\n",
    "    inp_type_ids=inp_tokens.token_type_ids\n",
    "    labels=self.label[idx]\n",
    "\n",
    "    return {\n",
    "#         \"text\":self.sentence,\n",
    "        \"input_ids\":torch.tensor(inp_id, dtype=torch.long),\n",
    "        \"input_attention_mask\":torch.tensor(inp_mask, dtype=torch.long),\n",
    "        \"input_type_ids\":torch.tensor(inp_type_ids, dtype=torch.long),\n",
    "        \"labels\":torch.tensor(labels, dtype=torch.float)\n",
    "    }"
   ]
  },
  {
   "cell_type": "code",
   "execution_count": 34,
   "id": "8acf0f47",
   "metadata": {
    "execution": {
     "iopub.execute_input": "2021-08-01T07:13:07.874252Z",
     "iopub.status.busy": "2021-08-01T07:13:07.873731Z",
     "iopub.status.idle": "2021-08-01T07:13:07.877681Z",
     "shell.execute_reply": "2021-08-01T07:13:07.877269Z",
     "shell.execute_reply.started": "2021-08-01T07:05:11.184944Z"
    },
    "papermill": {
     "duration": 0.045511,
     "end_time": "2021-08-01T07:13:07.877774",
     "exception": false,
     "start_time": "2021-08-01T07:13:07.832263",
     "status": "completed"
    },
    "tags": []
   },
   "outputs": [],
   "source": [
    "train_dataset = amazonDataset(train_text, train_labels, tokenizer)\n",
    "val_dataset = amazonDataset(val_text, val_labels, tokenizer)"
   ]
  },
  {
   "cell_type": "code",
   "execution_count": 35,
   "id": "a0630c59",
   "metadata": {
    "execution": {
     "iopub.execute_input": "2021-08-01T07:13:07.959981Z",
     "iopub.status.busy": "2021-08-01T07:13:07.959241Z",
     "iopub.status.idle": "2021-08-01T07:13:07.961503Z",
     "shell.execute_reply": "2021-08-01T07:13:07.961920Z",
     "shell.execute_reply.started": "2021-08-01T07:05:11.195469Z"
    },
    "papermill": {
     "duration": 0.045738,
     "end_time": "2021-08-01T07:13:07.962040",
     "exception": false,
     "start_time": "2021-08-01T07:13:07.916302",
     "status": "completed"
    },
    "tags": []
   },
   "outputs": [],
   "source": [
    "train_dataloader=DataLoader(train_dataset,\n",
    "                            batch_size=164,\n",
    "                            shuffle=True,\n",
    "                            num_workers=2,\n",
    "                           pin_memory=True)\n",
    "val_dataloader=DataLoader(val_dataset,\n",
    "                            batch_size=164,\n",
    "                            shuffle=False,\n",
    "                            num_workers=2,\n",
    "                           pin_memory=True)"
   ]
  },
  {
   "cell_type": "code",
   "execution_count": 36,
   "id": "1dec5565",
   "metadata": {
    "execution": {
     "iopub.execute_input": "2021-08-01T07:13:08.043868Z",
     "iopub.status.busy": "2021-08-01T07:13:08.043060Z",
     "iopub.status.idle": "2021-08-01T07:13:08.045673Z",
     "shell.execute_reply": "2021-08-01T07:13:08.046176Z",
     "shell.execute_reply.started": "2021-08-01T07:05:11.203959Z"
    },
    "papermill": {
     "duration": 0.044926,
     "end_time": "2021-08-01T07:13:08.046317",
     "exception": false,
     "start_time": "2021-08-01T07:13:08.001391",
     "status": "completed"
    },
    "tags": []
   },
   "outputs": [],
   "source": [
    "dataloaders={'train':train_dataloader, 'eval':val_dataloader }\n",
    "dataset_sizes={'train':len(train_dataset), 'eval':len(val_dataset)}"
   ]
  },
  {
   "cell_type": "code",
   "execution_count": 37,
   "id": "a1e314ab",
   "metadata": {
    "execution": {
     "iopub.execute_input": "2021-08-01T07:13:08.130817Z",
     "iopub.status.busy": "2021-08-01T07:13:08.130000Z",
     "iopub.status.idle": "2021-08-01T07:13:08.132818Z",
     "shell.execute_reply": "2021-08-01T07:13:08.132196Z",
     "shell.execute_reply.started": "2021-08-01T07:05:11.213788Z"
    },
    "papermill": {
     "duration": 0.04621,
     "end_time": "2021-08-01T07:13:08.132941",
     "exception": false,
     "start_time": "2021-08-01T07:13:08.086731",
     "status": "completed"
    },
    "tags": []
   },
   "outputs": [],
   "source": [
    "# class BERTBaseUncased(nn.Module):\n",
    "#     def __init__(self):\n",
    "#         super(BERTBaseUncased, self).__init__()\n",
    "#         self.bert=AutoModel.from_pretrained('bert-base-uncased')\n",
    "#         self.dropout = nn.Dropout(0.1)\n",
    "#         self.relu =  nn.ReLU()\n",
    "#         self.fc1 = nn.Linear(768,9919)\n",
    "        \n",
    "#     def forward(self,ids,mask,token_type_ids):\n",
    "#         a, o2 = self.bert(\n",
    "#             ids,\n",
    "#             attention_mask=mask,\n",
    "#             token_type_ids=token_type_ids)\n",
    "#         bo=self.dropout(o2)\n",
    "#         output=self.fc1(bo)\n",
    "#         return output"
   ]
  },
  {
   "cell_type": "code",
   "execution_count": 38,
   "id": "324f997f",
   "metadata": {
    "execution": {
     "iopub.execute_input": "2021-08-01T07:13:08.217984Z",
     "iopub.status.busy": "2021-08-01T07:13:08.217467Z",
     "iopub.status.idle": "2021-08-01T07:13:19.214704Z",
     "shell.execute_reply": "2021-08-01T07:13:19.215924Z",
     "shell.execute_reply.started": "2021-08-01T07:05:11.222028Z"
    },
    "papermill": {
     "duration": 11.043156,
     "end_time": "2021-08-01T07:13:19.216342",
     "exception": false,
     "start_time": "2021-08-01T07:13:08.173186",
     "status": "completed"
    },
    "tags": []
   },
   "outputs": [
    {
     "name": "stdout",
     "output_type": "stream",
     "text": [
      "XLNetForSequenceClassification(\n",
      "  (transformer): XLNetModel(\n",
      "    (word_embedding): Embedding(32000, 768)\n",
      "    (layer): ModuleList(\n",
      "      (0): XLNetLayer(\n",
      "        (rel_attn): XLNetRelativeAttention(\n",
      "          (layer_norm): LayerNorm((768,), eps=1e-12, elementwise_affine=True)\n",
      "          (dropout): Dropout(p=0.1, inplace=False)\n",
      "        )\n",
      "        (ff): XLNetFeedForward(\n",
      "          (layer_norm): LayerNorm((768,), eps=1e-12, elementwise_affine=True)\n",
      "          (layer_1): Linear(in_features=768, out_features=3072, bias=True)\n",
      "          (layer_2): Linear(in_features=3072, out_features=768, bias=True)\n",
      "          (dropout): Dropout(p=0.1, inplace=False)\n",
      "        )\n",
      "        (dropout): Dropout(p=0.1, inplace=False)\n",
      "      )\n",
      "      (1): XLNetLayer(\n",
      "        (rel_attn): XLNetRelativeAttention(\n",
      "          (layer_norm): LayerNorm((768,), eps=1e-12, elementwise_affine=True)\n",
      "          (dropout): Dropout(p=0.1, inplace=False)\n",
      "        )\n",
      "        (ff): XLNetFeedForward(\n",
      "          (layer_norm): LayerNorm((768,), eps=1e-12, elementwise_affine=True)\n",
      "          (layer_1): Linear(in_features=768, out_features=3072, bias=True)\n",
      "          (layer_2): Linear(in_features=3072, out_features=768, bias=True)\n",
      "          (dropout): Dropout(p=0.1, inplace=False)\n",
      "        )\n",
      "        (dropout): Dropout(p=0.1, inplace=False)\n",
      "      )\n",
      "      (2): XLNetLayer(\n",
      "        (rel_attn): XLNetRelativeAttention(\n",
      "          (layer_norm): LayerNorm((768,), eps=1e-12, elementwise_affine=True)\n",
      "          (dropout): Dropout(p=0.1, inplace=False)\n",
      "        )\n",
      "        (ff): XLNetFeedForward(\n",
      "          (layer_norm): LayerNorm((768,), eps=1e-12, elementwise_affine=True)\n",
      "          (layer_1): Linear(in_features=768, out_features=3072, bias=True)\n",
      "          (layer_2): Linear(in_features=3072, out_features=768, bias=True)\n",
      "          (dropout): Dropout(p=0.1, inplace=False)\n",
      "        )\n",
      "        (dropout): Dropout(p=0.1, inplace=False)\n",
      "      )\n",
      "      (3): XLNetLayer(\n",
      "        (rel_attn): XLNetRelativeAttention(\n",
      "          (layer_norm): LayerNorm((768,), eps=1e-12, elementwise_affine=True)\n",
      "          (dropout): Dropout(p=0.1, inplace=False)\n",
      "        )\n",
      "        (ff): XLNetFeedForward(\n",
      "          (layer_norm): LayerNorm((768,), eps=1e-12, elementwise_affine=True)\n",
      "          (layer_1): Linear(in_features=768, out_features=3072, bias=True)\n",
      "          (layer_2): Linear(in_features=3072, out_features=768, bias=True)\n",
      "          (dropout): Dropout(p=0.1, inplace=False)\n",
      "        )\n",
      "        (dropout): Dropout(p=0.1, inplace=False)\n",
      "      )\n",
      "      (4): XLNetLayer(\n",
      "        (rel_attn): XLNetRelativeAttention(\n",
      "          (layer_norm): LayerNorm((768,), eps=1e-12, elementwise_affine=True)\n",
      "          (dropout): Dropout(p=0.1, inplace=False)\n",
      "        )\n",
      "        (ff): XLNetFeedForward(\n",
      "          (layer_norm): LayerNorm((768,), eps=1e-12, elementwise_affine=True)\n",
      "          (layer_1): Linear(in_features=768, out_features=3072, bias=True)\n",
      "          (layer_2): Linear(in_features=3072, out_features=768, bias=True)\n",
      "          (dropout): Dropout(p=0.1, inplace=False)\n",
      "        )\n",
      "        (dropout): Dropout(p=0.1, inplace=False)\n",
      "      )\n",
      "      (5): XLNetLayer(\n",
      "        (rel_attn): XLNetRelativeAttention(\n",
      "          (layer_norm): LayerNorm((768,), eps=1e-12, elementwise_affine=True)\n",
      "          (dropout): Dropout(p=0.1, inplace=False)\n",
      "        )\n",
      "        (ff): XLNetFeedForward(\n",
      "          (layer_norm): LayerNorm((768,), eps=1e-12, elementwise_affine=True)\n",
      "          (layer_1): Linear(in_features=768, out_features=3072, bias=True)\n",
      "          (layer_2): Linear(in_features=3072, out_features=768, bias=True)\n",
      "          (dropout): Dropout(p=0.1, inplace=False)\n",
      "        )\n",
      "        (dropout): Dropout(p=0.1, inplace=False)\n",
      "      )\n",
      "      (6): XLNetLayer(\n",
      "        (rel_attn): XLNetRelativeAttention(\n",
      "          (layer_norm): LayerNorm((768,), eps=1e-12, elementwise_affine=True)\n",
      "          (dropout): Dropout(p=0.1, inplace=False)\n",
      "        )\n",
      "        (ff): XLNetFeedForward(\n",
      "          (layer_norm): LayerNorm((768,), eps=1e-12, elementwise_affine=True)\n",
      "          (layer_1): Linear(in_features=768, out_features=3072, bias=True)\n",
      "          (layer_2): Linear(in_features=3072, out_features=768, bias=True)\n",
      "          (dropout): Dropout(p=0.1, inplace=False)\n",
      "        )\n",
      "        (dropout): Dropout(p=0.1, inplace=False)\n",
      "      )\n",
      "      (7): XLNetLayer(\n",
      "        (rel_attn): XLNetRelativeAttention(\n",
      "          (layer_norm): LayerNorm((768,), eps=1e-12, elementwise_affine=True)\n",
      "          (dropout): Dropout(p=0.1, inplace=False)\n",
      "        )\n",
      "        (ff): XLNetFeedForward(\n",
      "          (layer_norm): LayerNorm((768,), eps=1e-12, elementwise_affine=True)\n",
      "          (layer_1): Linear(in_features=768, out_features=3072, bias=True)\n",
      "          (layer_2): Linear(in_features=3072, out_features=768, bias=True)\n",
      "          (dropout): Dropout(p=0.1, inplace=False)\n",
      "        )\n",
      "        (dropout): Dropout(p=0.1, inplace=False)\n",
      "      )\n",
      "      (8): XLNetLayer(\n",
      "        (rel_attn): XLNetRelativeAttention(\n",
      "          (layer_norm): LayerNorm((768,), eps=1e-12, elementwise_affine=True)\n",
      "          (dropout): Dropout(p=0.1, inplace=False)\n",
      "        )\n",
      "        (ff): XLNetFeedForward(\n",
      "          (layer_norm): LayerNorm((768,), eps=1e-12, elementwise_affine=True)\n",
      "          (layer_1): Linear(in_features=768, out_features=3072, bias=True)\n",
      "          (layer_2): Linear(in_features=3072, out_features=768, bias=True)\n",
      "          (dropout): Dropout(p=0.1, inplace=False)\n",
      "        )\n",
      "        (dropout): Dropout(p=0.1, inplace=False)\n",
      "      )\n",
      "      (9): XLNetLayer(\n",
      "        (rel_attn): XLNetRelativeAttention(\n",
      "          (layer_norm): LayerNorm((768,), eps=1e-12, elementwise_affine=True)\n",
      "          (dropout): Dropout(p=0.1, inplace=False)\n",
      "        )\n",
      "        (ff): XLNetFeedForward(\n",
      "          (layer_norm): LayerNorm((768,), eps=1e-12, elementwise_affine=True)\n",
      "          (layer_1): Linear(in_features=768, out_features=3072, bias=True)\n",
      "          (layer_2): Linear(in_features=3072, out_features=768, bias=True)\n",
      "          (dropout): Dropout(p=0.1, inplace=False)\n",
      "        )\n",
      "        (dropout): Dropout(p=0.1, inplace=False)\n",
      "      )\n",
      "      (10): XLNetLayer(\n",
      "        (rel_attn): XLNetRelativeAttention(\n",
      "          (layer_norm): LayerNorm((768,), eps=1e-12, elementwise_affine=True)\n",
      "          (dropout): Dropout(p=0.1, inplace=False)\n",
      "        )\n",
      "        (ff): XLNetFeedForward(\n",
      "          (layer_norm): LayerNorm((768,), eps=1e-12, elementwise_affine=True)\n",
      "          (layer_1): Linear(in_features=768, out_features=3072, bias=True)\n",
      "          (layer_2): Linear(in_features=3072, out_features=768, bias=True)\n",
      "          (dropout): Dropout(p=0.1, inplace=False)\n",
      "        )\n",
      "        (dropout): Dropout(p=0.1, inplace=False)\n",
      "      )\n",
      "      (11): XLNetLayer(\n",
      "        (rel_attn): XLNetRelativeAttention(\n",
      "          (layer_norm): LayerNorm((768,), eps=1e-12, elementwise_affine=True)\n",
      "          (dropout): Dropout(p=0.1, inplace=False)\n",
      "        )\n",
      "        (ff): XLNetFeedForward(\n",
      "          (layer_norm): LayerNorm((768,), eps=1e-12, elementwise_affine=True)\n",
      "          (layer_1): Linear(in_features=768, out_features=3072, bias=True)\n",
      "          (layer_2): Linear(in_features=3072, out_features=768, bias=True)\n",
      "          (dropout): Dropout(p=0.1, inplace=False)\n",
      "        )\n",
      "        (dropout): Dropout(p=0.1, inplace=False)\n",
      "      )\n",
      "    )\n",
      "    (dropout): Dropout(p=0.1, inplace=False)\n",
      "  )\n",
      "  (sequence_summary): SequenceSummary(\n",
      "    (summary): Linear(in_features=768, out_features=768, bias=True)\n",
      "    (first_dropout): Identity()\n",
      "    (last_dropout): Dropout(p=0.1, inplace=False)\n",
      "  )\n",
      "  (logits_proj): Linear(in_features=768, out_features=9919, bias=True)\n",
      ")\n"
     ]
    }
   ],
   "source": [
    "# model=XLNetForSequenceClassification.from_pretrained('xlnet-base-cased',\n",
    "#                                                     num_labels=9919)\n",
    "# print(model)\n",
    "model=torch.load(\"../input/amazon-ml-models/XLNetNoset.pth\")\n",
    "print(model)\n",
    "model.to(dev)\n",
    "criterion = nn.CrossEntropyLoss()\n",
    "optimizer = optim.SGD(model.parameters(), lr=1e-5, momentum=0.9)\n",
    "exp_lr_scheduler = optim.lr_scheduler.StepLR(optimizer, step_size=7, gamma=0.1)"
   ]
  },
  {
   "cell_type": "code",
   "execution_count": 39,
   "id": "b2e32639",
   "metadata": {
    "execution": {
     "iopub.execute_input": "2021-08-01T07:13:19.311208Z",
     "iopub.status.busy": "2021-08-01T07:13:19.309915Z",
     "iopub.status.idle": "2021-08-01T07:13:19.312233Z",
     "shell.execute_reply": "2021-08-01T07:13:19.312705Z",
     "shell.execute_reply.started": "2021-08-01T07:05:22.395765Z"
    },
    "papermill": {
     "duration": 0.052952,
     "end_time": "2021-08-01T07:13:19.312826",
     "exception": false,
     "start_time": "2021-08-01T07:13:19.259874",
     "status": "completed"
    },
    "tags": []
   },
   "outputs": [],
   "source": [
    "def train_fn(model,loss_fn,optimizer,scheduler,num_epochs=1):\n",
    "    since=time.time()\n",
    "    best_wts=copy.deepcopy(model.state_dict())\n",
    "    best_loss=float('inf')\n",
    "    for epoch in range(num_epochs):\n",
    "        print(f'Epoch:{epoch}/{num_epochs}')\n",
    "        print('-'*10)\n",
    "        \n",
    "        for mode in ['train','eval']:\n",
    "            if mode=='train':\n",
    "                model.train()\n",
    "            elif mode=='eval':\n",
    "                model.eval()\n",
    "            \n",
    "            running_loss=0.0\n",
    "            running_corrects=0.0\n",
    "            \n",
    "            for data in tqdm(dataloaders[mode]):\n",
    "                input_ids = data[\"input_ids\"].to(dev, dtype=torch.long)\n",
    "                labels = data['labels'].to(dev, dtype=torch.long)\n",
    "                mask = data[\"input_attention_mask\"].to(dev, dtype=torch.long)\n",
    "                token_type_ids = data['input_type_ids'].to(dev, dtype=torch.long)\n",
    "            \n",
    "                optimizer.zero_grad()\n",
    "                with torch.set_grad_enabled(mode=='train'):\n",
    "                    outputs=model(\n",
    "                                input_ids =input_ids,\n",
    "                                attention_mask=mask,\n",
    "                                token_type_ids=token_type_ids,\n",
    "                                labels=labels\n",
    "                            )\n",
    "                    loss, logits=outputs.loss, outputs.logits\n",
    "                    _,preds=torch.max(logits,1)\n",
    "                    \n",
    "                    if mode=='train':\n",
    "                        loss.backward()\n",
    "                        optimizer.step()                    \n",
    "                    running_loss += loss.item()                    \n",
    "                    running_corrects += torch.sum(preds == labels.data)\n",
    "\n",
    "            if mode == 'train':\n",
    "                scheduler.step()\n",
    "                \n",
    "            epoch_loss=running_loss/dataset_sizes[mode]\n",
    "            epoch_accuracy=running_corrects.double()/dataset_sizes[mode]\n",
    "            \n",
    "            print('{} Loss: {:.4f} Acc: {:.4f}'.format(\n",
    "                mode, epoch_loss, epoch_accuracy))\n",
    "            \n",
    "            if mode=='eval' and epoch_loss<best_loss:\n",
    "                best_wts=copy.deepcopy(model.state_dict())\n",
    "                best_acc=epoch_accuracy\n",
    "                best_loss=epoch_loss\n",
    "            \n",
    "            print()\n",
    "\n",
    "        time_elapsed = time.time() - since\n",
    "        print('Training complete in {:.0f}m {:.0f}s'.format(\n",
    "            time_elapsed // 60, time_elapsed % 60))\n",
    "        print('Best val loss: {:4f}'.format(best_loss))\n",
    "        print('Best val Acc: {:4f}'.format(best_acc))\n",
    "    \n",
    "        model.load_state_dict(best_wts)\n",
    "    return model"
   ]
  },
  {
   "cell_type": "code",
   "execution_count": 40,
   "id": "32f0370e",
   "metadata": {
    "execution": {
     "iopub.execute_input": "2021-08-01T07:13:19.392925Z",
     "iopub.status.busy": "2021-08-01T07:13:19.392393Z",
     "iopub.status.idle": "2021-08-01T13:59:05.224178Z",
     "shell.execute_reply": "2021-08-01T13:59:05.223728Z"
    },
    "papermill": {
     "duration": 24345.873691,
     "end_time": "2021-08-01T13:59:05.224315",
     "exception": false,
     "start_time": "2021-08-01T07:13:19.350624",
     "status": "completed"
    },
    "tags": []
   },
   "outputs": [
    {
     "name": "stdout",
     "output_type": "stream",
     "text": [
      "Epoch:0/3\n",
      "----------\n"
     ]
    },
    {
     "data": {
      "application/vnd.jupyter.widget-view+json": {
       "model_id": "800ea7081d6947c6a9715b86b03d7dba",
       "version_major": 2,
       "version_minor": 0
      },
      "text/plain": [
       "  0%|          | 0/6727 [00:00<?, ?it/s]"
      ]
     },
     "metadata": {},
     "output_type": "display_data"
    },
    {
     "name": "stdout",
     "output_type": "stream",
     "text": [
      "train Loss: 0.0116 Acc: 0.6786\n",
      "\n"
     ]
    },
    {
     "data": {
      "application/vnd.jupyter.widget-view+json": {
       "model_id": "ebbdc236345b40c9bf04708267c5e020",
       "version_major": 2,
       "version_minor": 0
      },
      "text/plain": [
       "  0%|          | 0/355 [00:00<?, ?it/s]"
      ]
     },
     "metadata": {},
     "output_type": "display_data"
    },
    {
     "name": "stdout",
     "output_type": "stream",
     "text": [
      "eval Loss: 0.0113 Acc: 0.6833\n",
      "\n",
      "Training complete in 135m 11s\n",
      "Best val loss: 0.011340\n",
      "Best val Acc: 0.683293\n",
      "Epoch:1/3\n",
      "----------\n"
     ]
    },
    {
     "data": {
      "application/vnd.jupyter.widget-view+json": {
       "model_id": "451d51d9c99f48f18809f97af344cb3f",
       "version_major": 2,
       "version_minor": 0
      },
      "text/plain": [
       "  0%|          | 0/6727 [00:00<?, ?it/s]"
      ]
     },
     "metadata": {},
     "output_type": "display_data"
    },
    {
     "name": "stdout",
     "output_type": "stream",
     "text": [
      "train Loss: 0.0115 Acc: 0.6796\n",
      "\n"
     ]
    },
    {
     "data": {
      "application/vnd.jupyter.widget-view+json": {
       "model_id": "7d6ca9485f9749a8b5d87afa343862c4",
       "version_major": 2,
       "version_minor": 0
      },
      "text/plain": [
       "  0%|          | 0/355 [00:00<?, ?it/s]"
      ]
     },
     "metadata": {},
     "output_type": "display_data"
    },
    {
     "name": "stdout",
     "output_type": "stream",
     "text": [
      "eval Loss: 0.0113 Acc: 0.6842\n",
      "\n",
      "Training complete in 270m 27s\n",
      "Best val loss: 0.011313\n",
      "Best val Acc: 0.684206\n",
      "Epoch:2/3\n",
      "----------\n"
     ]
    },
    {
     "data": {
      "application/vnd.jupyter.widget-view+json": {
       "model_id": "7ef00912412f423a9478e40353a1bf7c",
       "version_major": 2,
       "version_minor": 0
      },
      "text/plain": [
       "  0%|          | 0/6727 [00:00<?, ?it/s]"
      ]
     },
     "metadata": {},
     "output_type": "display_data"
    },
    {
     "name": "stdout",
     "output_type": "stream",
     "text": [
      "train Loss: 0.0115 Acc: 0.6809\n",
      "\n"
     ]
    },
    {
     "data": {
      "application/vnd.jupyter.widget-view+json": {
       "model_id": "b038872c80db4458b0d82a89da7bf582",
       "version_major": 2,
       "version_minor": 0
      },
      "text/plain": [
       "  0%|          | 0/355 [00:00<?, ?it/s]"
      ]
     },
     "metadata": {},
     "output_type": "display_data"
    },
    {
     "name": "stdout",
     "output_type": "stream",
     "text": [
      "eval Loss: 0.0113 Acc: 0.6844\n",
      "\n",
      "Training complete in 405m 46s\n",
      "Best val loss: 0.011295\n",
      "Best val Acc: 0.684447\n"
     ]
    }
   ],
   "source": [
    "model = train_fn(model, \n",
    "               criterion, \n",
    "               optimizer, \n",
    "               exp_lr_scheduler,\n",
    "               num_epochs=3)"
   ]
  },
  {
   "cell_type": "code",
   "execution_count": 41,
   "id": "ecce9777",
   "metadata": {
    "execution": {
     "iopub.execute_input": "2021-08-01T13:59:05.312990Z",
     "iopub.status.busy": "2021-08-01T13:59:05.312203Z",
     "iopub.status.idle": "2021-08-01T13:59:06.474491Z",
     "shell.execute_reply": "2021-08-01T13:59:06.473955Z"
    },
    "papermill": {
     "duration": 1.208281,
     "end_time": "2021-08-01T13:59:06.474613",
     "exception": false,
     "start_time": "2021-08-01T13:59:05.266332",
     "status": "completed"
    },
    "tags": []
   },
   "outputs": [],
   "source": [
    "torch.save(model,\"XLNetNoset.pth\")"
   ]
  },
  {
   "cell_type": "code",
   "execution_count": null,
   "id": "15a61bd9",
   "metadata": {
    "papermill": {
     "duration": 0.042943,
     "end_time": "2021-08-01T13:59:06.561571",
     "exception": false,
     "start_time": "2021-08-01T13:59:06.518628",
     "status": "completed"
    },
    "tags": []
   },
   "outputs": [],
   "source": []
  },
  {
   "cell_type": "code",
   "execution_count": null,
   "id": "4be3a483",
   "metadata": {
    "papermill": {
     "duration": 0.041871,
     "end_time": "2021-08-01T13:59:06.646442",
     "exception": false,
     "start_time": "2021-08-01T13:59:06.604571",
     "status": "completed"
    },
    "tags": []
   },
   "outputs": [],
   "source": []
  }
 ],
 "metadata": {
  "kernelspec": {
   "display_name": "Python 3",
   "language": "python",
   "name": "python3"
  },
  "language_info": {
   "codemirror_mode": {
    "name": "ipython",
    "version": 3
   },
   "file_extension": ".py",
   "mimetype": "text/x-python",
   "name": "python",
   "nbconvert_exporter": "python",
   "pygments_lexer": "ipython3",
   "version": "3.7.10"
  },
  "papermill": {
   "default_parameters": {},
   "duration": 24586.014403,
   "end_time": "2021-08-01T13:59:10.512745",
   "environment_variables": {},
   "exception": null,
   "input_path": "__notebook__.ipynb",
   "output_path": "__notebook__.ipynb",
   "parameters": {},
   "start_time": "2021-08-01T07:09:24.498342",
   "version": "2.3.3"
  },
  "widgets": {
   "application/vnd.jupyter.widget-state+json": {
    "state": {
     "022cbd6ce86a45b9bd7a6d3f5d3bc7c2": {
      "model_module": "@jupyter-widgets/base",
      "model_module_version": "1.2.0",
      "model_name": "LayoutModel",
      "state": {
       "_model_module": "@jupyter-widgets/base",
       "_model_module_version": "1.2.0",
       "_model_name": "LayoutModel",
       "_view_count": null,
       "_view_module": "@jupyter-widgets/base",
       "_view_module_version": "1.2.0",
       "_view_name": "LayoutView",
       "align_content": null,
       "align_items": null,
       "align_self": null,
       "border": null,
       "bottom": null,
       "display": null,
       "flex": null,
       "flex_flow": null,
       "grid_area": null,
       "grid_auto_columns": null,
       "grid_auto_flow": null,
       "grid_auto_rows": null,
       "grid_column": null,
       "grid_gap": null,
       "grid_row": null,
       "grid_template_areas": null,
       "grid_template_columns": null,
       "grid_template_rows": null,
       "height": null,
       "justify_content": null,
       "justify_items": null,
       "left": null,
       "margin": null,
       "max_height": null,
       "max_width": null,
       "min_height": null,
       "min_width": null,
       "object_fit": null,
       "object_position": null,
       "order": null,
       "overflow": null,
       "overflow_x": null,
       "overflow_y": null,
       "padding": null,
       "right": null,
       "top": null,
       "visibility": null,
       "width": null
      }
     },
     "046bb67e1a7c4123bfe7793473b837c6": {
      "model_module": "@jupyter-widgets/base",
      "model_module_version": "1.2.0",
      "model_name": "LayoutModel",
      "state": {
       "_model_module": "@jupyter-widgets/base",
       "_model_module_version": "1.2.0",
       "_model_name": "LayoutModel",
       "_view_count": null,
       "_view_module": "@jupyter-widgets/base",
       "_view_module_version": "1.2.0",
       "_view_name": "LayoutView",
       "align_content": null,
       "align_items": null,
       "align_self": null,
       "border": null,
       "bottom": null,
       "display": null,
       "flex": null,
       "flex_flow": null,
       "grid_area": null,
       "grid_auto_columns": null,
       "grid_auto_flow": null,
       "grid_auto_rows": null,
       "grid_column": null,
       "grid_gap": null,
       "grid_row": null,
       "grid_template_areas": null,
       "grid_template_columns": null,
       "grid_template_rows": null,
       "height": null,
       "justify_content": null,
       "justify_items": null,
       "left": null,
       "margin": null,
       "max_height": null,
       "max_width": null,
       "min_height": null,
       "min_width": null,
       "object_fit": null,
       "object_position": null,
       "order": null,
       "overflow": null,
       "overflow_x": null,
       "overflow_y": null,
       "padding": null,
       "right": null,
       "top": null,
       "visibility": null,
       "width": null
      }
     },
     "0a874c7a367b401f8193378e48bc1a4d": {
      "model_module": "@jupyter-widgets/base",
      "model_module_version": "1.2.0",
      "model_name": "LayoutModel",
      "state": {
       "_model_module": "@jupyter-widgets/base",
       "_model_module_version": "1.2.0",
       "_model_name": "LayoutModel",
       "_view_count": null,
       "_view_module": "@jupyter-widgets/base",
       "_view_module_version": "1.2.0",
       "_view_name": "LayoutView",
       "align_content": null,
       "align_items": null,
       "align_self": null,
       "border": null,
       "bottom": null,
       "display": null,
       "flex": null,
       "flex_flow": null,
       "grid_area": null,
       "grid_auto_columns": null,
       "grid_auto_flow": null,
       "grid_auto_rows": null,
       "grid_column": null,
       "grid_gap": null,
       "grid_row": null,
       "grid_template_areas": null,
       "grid_template_columns": null,
       "grid_template_rows": null,
       "height": null,
       "justify_content": null,
       "justify_items": null,
       "left": null,
       "margin": null,
       "max_height": null,
       "max_width": null,
       "min_height": null,
       "min_width": null,
       "object_fit": null,
       "object_position": null,
       "order": null,
       "overflow": null,
       "overflow_x": null,
       "overflow_y": null,
       "padding": null,
       "right": null,
       "top": null,
       "visibility": null,
       "width": null
      }
     },
     "0be81ba2892b4f439a6a443474959ece": {
      "model_module": "@jupyter-widgets/controls",
      "model_module_version": "1.5.0",
      "model_name": "DescriptionStyleModel",
      "state": {
       "_model_module": "@jupyter-widgets/controls",
       "_model_module_version": "1.5.0",
       "_model_name": "DescriptionStyleModel",
       "_view_count": null,
       "_view_module": "@jupyter-widgets/base",
       "_view_module_version": "1.2.0",
       "_view_name": "StyleView",
       "description_width": ""
      }
     },
     "13bfcac7e6084452b62e76ca918811e4": {
      "model_module": "@jupyter-widgets/base",
      "model_module_version": "1.2.0",
      "model_name": "LayoutModel",
      "state": {
       "_model_module": "@jupyter-widgets/base",
       "_model_module_version": "1.2.0",
       "_model_name": "LayoutModel",
       "_view_count": null,
       "_view_module": "@jupyter-widgets/base",
       "_view_module_version": "1.2.0",
       "_view_name": "LayoutView",
       "align_content": null,
       "align_items": null,
       "align_self": null,
       "border": null,
       "bottom": null,
       "display": null,
       "flex": null,
       "flex_flow": null,
       "grid_area": null,
       "grid_auto_columns": null,
       "grid_auto_flow": null,
       "grid_auto_rows": null,
       "grid_column": null,
       "grid_gap": null,
       "grid_row": null,
       "grid_template_areas": null,
       "grid_template_columns": null,
       "grid_template_rows": null,
       "height": null,
       "justify_content": null,
       "justify_items": null,
       "left": null,
       "margin": null,
       "max_height": null,
       "max_width": null,
       "min_height": null,
       "min_width": null,
       "object_fit": null,
       "object_position": null,
       "order": null,
       "overflow": null,
       "overflow_x": null,
       "overflow_y": null,
       "padding": null,
       "right": null,
       "top": null,
       "visibility": null,
       "width": null
      }
     },
     "14d2f8b432d544479d4bfccffc14030d": {
      "model_module": "@jupyter-widgets/base",
      "model_module_version": "1.2.0",
      "model_name": "LayoutModel",
      "state": {
       "_model_module": "@jupyter-widgets/base",
       "_model_module_version": "1.2.0",
       "_model_name": "LayoutModel",
       "_view_count": null,
       "_view_module": "@jupyter-widgets/base",
       "_view_module_version": "1.2.0",
       "_view_name": "LayoutView",
       "align_content": null,
       "align_items": null,
       "align_self": null,
       "border": null,
       "bottom": null,
       "display": null,
       "flex": null,
       "flex_flow": null,
       "grid_area": null,
       "grid_auto_columns": null,
       "grid_auto_flow": null,
       "grid_auto_rows": null,
       "grid_column": null,
       "grid_gap": null,
       "grid_row": null,
       "grid_template_areas": null,
       "grid_template_columns": null,
       "grid_template_rows": null,
       "height": null,
       "justify_content": null,
       "justify_items": null,
       "left": null,
       "margin": null,
       "max_height": null,
       "max_width": null,
       "min_height": null,
       "min_width": null,
       "object_fit": null,
       "object_position": null,
       "order": null,
       "overflow": null,
       "overflow_x": null,
       "overflow_y": null,
       "padding": null,
       "right": null,
       "top": null,
       "visibility": null,
       "width": null
      }
     },
     "157d21e5c63147b09259fcfaeab45b52": {
      "model_module": "@jupyter-widgets/controls",
      "model_module_version": "1.5.0",
      "model_name": "FloatProgressModel",
      "state": {
       "_dom_classes": [],
       "_model_module": "@jupyter-widgets/controls",
       "_model_module_version": "1.5.0",
       "_model_name": "FloatProgressModel",
       "_view_count": null,
       "_view_module": "@jupyter-widgets/controls",
       "_view_module_version": "1.5.0",
       "_view_name": "ProgressView",
       "bar_style": "success",
       "description": "",
       "description_tooltip": null,
       "layout": "IPY_MODEL_e90defa91a694b93956e9b86b6a64ee1",
       "max": 355.0,
       "min": 0.0,
       "orientation": "horizontal",
       "style": "IPY_MODEL_ed6a538ba54d4a03a6fdc68ef7a658bb",
       "value": 355.0
      }
     },
     "1625b795608543f18483a1535afea508": {
      "model_module": "@jupyter-widgets/base",
      "model_module_version": "1.2.0",
      "model_name": "LayoutModel",
      "state": {
       "_model_module": "@jupyter-widgets/base",
       "_model_module_version": "1.2.0",
       "_model_name": "LayoutModel",
       "_view_count": null,
       "_view_module": "@jupyter-widgets/base",
       "_view_module_version": "1.2.0",
       "_view_name": "LayoutView",
       "align_content": null,
       "align_items": null,
       "align_self": null,
       "border": null,
       "bottom": null,
       "display": null,
       "flex": null,
       "flex_flow": null,
       "grid_area": null,
       "grid_auto_columns": null,
       "grid_auto_flow": null,
       "grid_auto_rows": null,
       "grid_column": null,
       "grid_gap": null,
       "grid_row": null,
       "grid_template_areas": null,
       "grid_template_columns": null,
       "grid_template_rows": null,
       "height": null,
       "justify_content": null,
       "justify_items": null,
       "left": null,
       "margin": null,
       "max_height": null,
       "max_width": null,
       "min_height": null,
       "min_width": null,
       "object_fit": null,
       "object_position": null,
       "order": null,
       "overflow": null,
       "overflow_x": null,
       "overflow_y": null,
       "padding": null,
       "right": null,
       "top": null,
       "visibility": null,
       "width": null
      }
     },
     "1668b2917943448ba2ea1df34d915eee": {
      "model_module": "@jupyter-widgets/controls",
      "model_module_version": "1.5.0",
      "model_name": "HTMLModel",
      "state": {
       "_dom_classes": [],
       "_model_module": "@jupyter-widgets/controls",
       "_model_module_version": "1.5.0",
       "_model_name": "HTMLModel",
       "_view_count": null,
       "_view_module": "@jupyter-widgets/controls",
       "_view_module_version": "1.5.0",
       "_view_name": "HTMLView",
       "description": "",
       "description_tooltip": null,
       "layout": "IPY_MODEL_9bc150ec24b14d5d9da9d59d286da85f",
       "placeholder": "​",
       "style": "IPY_MODEL_96d322865545435d97ab10b0ab4f2868",
       "value": " 798k/798k [00:00&lt;00:00, 1.44MB/s]"
      }
     },
     "2c2c60a889ad497f806c033517883306": {
      "model_module": "@jupyter-widgets/controls",
      "model_module_version": "1.5.0",
      "model_name": "DescriptionStyleModel",
      "state": {
       "_model_module": "@jupyter-widgets/controls",
       "_model_module_version": "1.5.0",
       "_model_name": "DescriptionStyleModel",
       "_view_count": null,
       "_view_module": "@jupyter-widgets/base",
       "_view_module_version": "1.2.0",
       "_view_name": "StyleView",
       "description_width": ""
      }
     },
     "2e912ceb12724386a9fb600e6466a071": {
      "model_module": "@jupyter-widgets/controls",
      "model_module_version": "1.5.0",
      "model_name": "DescriptionStyleModel",
      "state": {
       "_model_module": "@jupyter-widgets/controls",
       "_model_module_version": "1.5.0",
       "_model_name": "DescriptionStyleModel",
       "_view_count": null,
       "_view_module": "@jupyter-widgets/base",
       "_view_module_version": "1.2.0",
       "_view_name": "StyleView",
       "description_width": ""
      }
     },
     "3424dfee49cf4aee9e7a61b707867d1e": {
      "model_module": "@jupyter-widgets/base",
      "model_module_version": "1.2.0",
      "model_name": "LayoutModel",
      "state": {
       "_model_module": "@jupyter-widgets/base",
       "_model_module_version": "1.2.0",
       "_model_name": "LayoutModel",
       "_view_count": null,
       "_view_module": "@jupyter-widgets/base",
       "_view_module_version": "1.2.0",
       "_view_name": "LayoutView",
       "align_content": null,
       "align_items": null,
       "align_self": null,
       "border": null,
       "bottom": null,
       "display": null,
       "flex": null,
       "flex_flow": null,
       "grid_area": null,
       "grid_auto_columns": null,
       "grid_auto_flow": null,
       "grid_auto_rows": null,
       "grid_column": null,
       "grid_gap": null,
       "grid_row": null,
       "grid_template_areas": null,
       "grid_template_columns": null,
       "grid_template_rows": null,
       "height": null,
       "justify_content": null,
       "justify_items": null,
       "left": null,
       "margin": null,
       "max_height": null,
       "max_width": null,
       "min_height": null,
       "min_width": null,
       "object_fit": null,
       "object_position": null,
       "order": null,
       "overflow": null,
       "overflow_x": null,
       "overflow_y": null,
       "padding": null,
       "right": null,
       "top": null,
       "visibility": null,
       "width": null
      }
     },
     "3548d1a4c253421e8e91694b61bae8c9": {
      "model_module": "@jupyter-widgets/controls",
      "model_module_version": "1.5.0",
      "model_name": "HTMLModel",
      "state": {
       "_dom_classes": [],
       "_model_module": "@jupyter-widgets/controls",
       "_model_module_version": "1.5.0",
       "_model_name": "HTMLModel",
       "_view_count": null,
       "_view_module": "@jupyter-widgets/controls",
       "_view_module_version": "1.5.0",
       "_view_name": "HTMLView",
       "description": "",
       "description_tooltip": null,
       "layout": "IPY_MODEL_e6e296f2afc248a8a9bf4e80dc21513d",
       "placeholder": "​",
       "style": "IPY_MODEL_ae081635356d4427b51f95874056b7e7",
       "value": " 6727/6727 [2:12:33&lt;00:00,  1.05it/s]"
      }
     },
     "373da75b43904f57932dd1fcee57d68f": {
      "model_module": "@jupyter-widgets/controls",
      "model_module_version": "1.5.0",
      "model_name": "DescriptionStyleModel",
      "state": {
       "_model_module": "@jupyter-widgets/controls",
       "_model_module_version": "1.5.0",
       "_model_name": "DescriptionStyleModel",
       "_view_count": null,
       "_view_module": "@jupyter-widgets/base",
       "_view_module_version": "1.2.0",
       "_view_name": "StyleView",
       "description_width": ""
      }
     },
     "395e8da3cfd94910947cebde883f309f": {
      "model_module": "@jupyter-widgets/controls",
      "model_module_version": "1.5.0",
      "model_name": "HTMLModel",
      "state": {
       "_dom_classes": [],
       "_model_module": "@jupyter-widgets/controls",
       "_model_module_version": "1.5.0",
       "_model_name": "HTMLModel",
       "_view_count": null,
       "_view_module": "@jupyter-widgets/controls",
       "_view_module_version": "1.5.0",
       "_view_name": "HTMLView",
       "description": "",
       "description_tooltip": null,
       "layout": "IPY_MODEL_ec2e05e4928145e88c6bf5c72fab3a13",
       "placeholder": "​",
       "style": "IPY_MODEL_5537496532a1494cbfa172b61c735a17",
       "value": "100%"
      }
     },
     "3a20557bcdf348ec8442307dd273f0f4": {
      "model_module": "@jupyter-widgets/base",
      "model_module_version": "1.2.0",
      "model_name": "LayoutModel",
      "state": {
       "_model_module": "@jupyter-widgets/base",
       "_model_module_version": "1.2.0",
       "_model_name": "LayoutModel",
       "_view_count": null,
       "_view_module": "@jupyter-widgets/base",
       "_view_module_version": "1.2.0",
       "_view_name": "LayoutView",
       "align_content": null,
       "align_items": null,
       "align_self": null,
       "border": null,
       "bottom": null,
       "display": null,
       "flex": null,
       "flex_flow": null,
       "grid_area": null,
       "grid_auto_columns": null,
       "grid_auto_flow": null,
       "grid_auto_rows": null,
       "grid_column": null,
       "grid_gap": null,
       "grid_row": null,
       "grid_template_areas": null,
       "grid_template_columns": null,
       "grid_template_rows": null,
       "height": null,
       "justify_content": null,
       "justify_items": null,
       "left": null,
       "margin": null,
       "max_height": null,
       "max_width": null,
       "min_height": null,
       "min_width": null,
       "object_fit": null,
       "object_position": null,
       "order": null,
       "overflow": null,
       "overflow_x": null,
       "overflow_y": null,
       "padding": null,
       "right": null,
       "top": null,
       "visibility": null,
       "width": null
      }
     },
     "3cb9ff24902e4c8abb085f428f5279e7": {
      "model_module": "@jupyter-widgets/controls",
      "model_module_version": "1.5.0",
      "model_name": "ProgressStyleModel",
      "state": {
       "_model_module": "@jupyter-widgets/controls",
       "_model_module_version": "1.5.0",
       "_model_name": "ProgressStyleModel",
       "_view_count": null,
       "_view_module": "@jupyter-widgets/base",
       "_view_module_version": "1.2.0",
       "_view_name": "StyleView",
       "bar_color": null,
       "description_width": ""
      }
     },
     "451d51d9c99f48f18809f97af344cb3f": {
      "model_module": "@jupyter-widgets/controls",
      "model_module_version": "1.5.0",
      "model_name": "HBoxModel",
      "state": {
       "_dom_classes": [],
       "_model_module": "@jupyter-widgets/controls",
       "_model_module_version": "1.5.0",
       "_model_name": "HBoxModel",
       "_view_count": null,
       "_view_module": "@jupyter-widgets/controls",
       "_view_module_version": "1.5.0",
       "_view_name": "HBoxView",
       "box_style": "",
       "children": [
        "IPY_MODEL_395e8da3cfd94910947cebde883f309f",
        "IPY_MODEL_d144cb2b25e343cc9d58788313fdd699",
        "IPY_MODEL_3548d1a4c253421e8e91694b61bae8c9"
       ],
       "layout": "IPY_MODEL_0a874c7a367b401f8193378e48bc1a4d"
      }
     },
     "4a2622fa26974d4286a21f423539c874": {
      "model_module": "@jupyter-widgets/controls",
      "model_module_version": "1.5.0",
      "model_name": "HTMLModel",
      "state": {
       "_dom_classes": [],
       "_model_module": "@jupyter-widgets/controls",
       "_model_module_version": "1.5.0",
       "_model_name": "HTMLModel",
       "_view_count": null,
       "_view_module": "@jupyter-widgets/controls",
       "_view_module_version": "1.5.0",
       "_view_name": "HTMLView",
       "description": "",
       "description_tooltip": null,
       "layout": "IPY_MODEL_bf7f24fbf43f4744ab50716ff2e807fb",
       "placeholder": "​",
       "style": "IPY_MODEL_ccc2ca3e9dca4c14b33be2b977eb235a",
       "value": "Downloading: 100%"
      }
     },
     "4b8832aadafa446bbac973981f0eeb1d": {
      "model_module": "@jupyter-widgets/base",
      "model_module_version": "1.2.0",
      "model_name": "LayoutModel",
      "state": {
       "_model_module": "@jupyter-widgets/base",
       "_model_module_version": "1.2.0",
       "_model_name": "LayoutModel",
       "_view_count": null,
       "_view_module": "@jupyter-widgets/base",
       "_view_module_version": "1.2.0",
       "_view_name": "LayoutView",
       "align_content": null,
       "align_items": null,
       "align_self": null,
       "border": null,
       "bottom": null,
       "display": null,
       "flex": null,
       "flex_flow": null,
       "grid_area": null,
       "grid_auto_columns": null,
       "grid_auto_flow": null,
       "grid_auto_rows": null,
       "grid_column": null,
       "grid_gap": null,
       "grid_row": null,
       "grid_template_areas": null,
       "grid_template_columns": null,
       "grid_template_rows": null,
       "height": null,
       "justify_content": null,
       "justify_items": null,
       "left": null,
       "margin": null,
       "max_height": null,
       "max_width": null,
       "min_height": null,
       "min_width": null,
       "object_fit": null,
       "object_position": null,
       "order": null,
       "overflow": null,
       "overflow_x": null,
       "overflow_y": null,
       "padding": null,
       "right": null,
       "top": null,
       "visibility": null,
       "width": null
      }
     },
     "4f84ec33fc464d6cb651ef9b7af94b01": {
      "model_module": "@jupyter-widgets/controls",
      "model_module_version": "1.5.0",
      "model_name": "FloatProgressModel",
      "state": {
       "_dom_classes": [],
       "_model_module": "@jupyter-widgets/controls",
       "_model_module_version": "1.5.0",
       "_model_name": "FloatProgressModel",
       "_view_count": null,
       "_view_module": "@jupyter-widgets/controls",
       "_view_module_version": "1.5.0",
       "_view_name": "ProgressView",
       "bar_style": "success",
       "description": "",
       "description_tooltip": null,
       "layout": "IPY_MODEL_1625b795608543f18483a1535afea508",
       "max": 1382015.0,
       "min": 0.0,
       "orientation": "horizontal",
       "style": "IPY_MODEL_7c881ce4576649e38abf79a34c3a5200",
       "value": 1382015.0
      }
     },
     "533bf640843a41c48e52bdd48215cc05": {
      "model_module": "@jupyter-widgets/controls",
      "model_module_version": "1.5.0",
      "model_name": "HTMLModel",
      "state": {
       "_dom_classes": [],
       "_model_module": "@jupyter-widgets/controls",
       "_model_module_version": "1.5.0",
       "_model_name": "HTMLModel",
       "_view_count": null,
       "_view_module": "@jupyter-widgets/controls",
       "_view_module_version": "1.5.0",
       "_view_name": "HTMLView",
       "description": "",
       "description_tooltip": null,
       "layout": "IPY_MODEL_82f8e59a9a574c3a848162b292220cbd",
       "placeholder": "​",
       "style": "IPY_MODEL_0be81ba2892b4f439a6a443474959ece",
       "value": "100%"
      }
     },
     "5537496532a1494cbfa172b61c735a17": {
      "model_module": "@jupyter-widgets/controls",
      "model_module_version": "1.5.0",
      "model_name": "DescriptionStyleModel",
      "state": {
       "_model_module": "@jupyter-widgets/controls",
       "_model_module_version": "1.5.0",
       "_model_name": "DescriptionStyleModel",
       "_view_count": null,
       "_view_module": "@jupyter-widgets/base",
       "_view_module_version": "1.2.0",
       "_view_name": "StyleView",
       "description_width": ""
      }
     },
     "562eb04b6fd6468b967e7e1ed64afb36": {
      "model_module": "@jupyter-widgets/controls",
      "model_module_version": "1.5.0",
      "model_name": "HTMLModel",
      "state": {
       "_dom_classes": [],
       "_model_module": "@jupyter-widgets/controls",
       "_model_module_version": "1.5.0",
       "_model_name": "HTMLModel",
       "_view_count": null,
       "_view_module": "@jupyter-widgets/controls",
       "_view_module_version": "1.5.0",
       "_view_name": "HTMLView",
       "description": "",
       "description_tooltip": null,
       "layout": "IPY_MODEL_14d2f8b432d544479d4bfccffc14030d",
       "placeholder": "​",
       "style": "IPY_MODEL_d4a648fac8844f5ebc17e280839bfcf3",
       "value": "Downloading: 100%"
      }
     },
     "605afbccc7e544abb0a24eb216e71f79": {
      "model_module": "@jupyter-widgets/controls",
      "model_module_version": "1.5.0",
      "model_name": "HTMLModel",
      "state": {
       "_dom_classes": [],
       "_model_module": "@jupyter-widgets/controls",
       "_model_module_version": "1.5.0",
       "_model_name": "HTMLModel",
       "_view_count": null,
       "_view_module": "@jupyter-widgets/controls",
       "_view_module_version": "1.5.0",
       "_view_name": "HTMLView",
       "description": "",
       "description_tooltip": null,
       "layout": "IPY_MODEL_67cfe0a13d6548d69c71a271f5bc4ef3",
       "placeholder": "​",
       "style": "IPY_MODEL_373da75b43904f57932dd1fcee57d68f",
       "value": " 6727/6727 [2:12:35&lt;00:00,  1.04it/s]"
      }
     },
     "63b2d8d545fa4d7e883e017a6c04130f": {
      "model_module": "@jupyter-widgets/base",
      "model_module_version": "1.2.0",
      "model_name": "LayoutModel",
      "state": {
       "_model_module": "@jupyter-widgets/base",
       "_model_module_version": "1.2.0",
       "_model_name": "LayoutModel",
       "_view_count": null,
       "_view_module": "@jupyter-widgets/base",
       "_view_module_version": "1.2.0",
       "_view_name": "LayoutView",
       "align_content": null,
       "align_items": null,
       "align_self": null,
       "border": null,
       "bottom": null,
       "display": null,
       "flex": null,
       "flex_flow": null,
       "grid_area": null,
       "grid_auto_columns": null,
       "grid_auto_flow": null,
       "grid_auto_rows": null,
       "grid_column": null,
       "grid_gap": null,
       "grid_row": null,
       "grid_template_areas": null,
       "grid_template_columns": null,
       "grid_template_rows": null,
       "height": null,
       "justify_content": null,
       "justify_items": null,
       "left": null,
       "margin": null,
       "max_height": null,
       "max_width": null,
       "min_height": null,
       "min_width": null,
       "object_fit": null,
       "object_position": null,
       "order": null,
       "overflow": null,
       "overflow_x": null,
       "overflow_y": null,
       "padding": null,
       "right": null,
       "top": null,
       "visibility": null,
       "width": null
      }
     },
     "647cf925e23f42b2b273a826236073d6": {
      "model_module": "@jupyter-widgets/controls",
      "model_module_version": "1.5.0",
      "model_name": "HTMLModel",
      "state": {
       "_dom_classes": [],
       "_model_module": "@jupyter-widgets/controls",
       "_model_module_version": "1.5.0",
       "_model_name": "HTMLModel",
       "_view_count": null,
       "_view_module": "@jupyter-widgets/controls",
       "_view_module_version": "1.5.0",
       "_view_name": "HTMLView",
       "description": "",
       "description_tooltip": null,
       "layout": "IPY_MODEL_f881c5a927a244efa7d9130798069a59",
       "placeholder": "​",
       "style": "IPY_MODEL_8fcfc1eb230c4622878c5773262b4fa7",
       "value": " 1.38M/1.38M [00:00&lt;00:00, 4.65MB/s]"
      }
     },
     "67c60c552f0e4f4f838c059ea81e7f1a": {
      "model_module": "@jupyter-widgets/controls",
      "model_module_version": "1.5.0",
      "model_name": "DescriptionStyleModel",
      "state": {
       "_model_module": "@jupyter-widgets/controls",
       "_model_module_version": "1.5.0",
       "_model_name": "DescriptionStyleModel",
       "_view_count": null,
       "_view_module": "@jupyter-widgets/base",
       "_view_module_version": "1.2.0",
       "_view_name": "StyleView",
       "description_width": ""
      }
     },
     "67cfe0a13d6548d69c71a271f5bc4ef3": {
      "model_module": "@jupyter-widgets/base",
      "model_module_version": "1.2.0",
      "model_name": "LayoutModel",
      "state": {
       "_model_module": "@jupyter-widgets/base",
       "_model_module_version": "1.2.0",
       "_model_name": "LayoutModel",
       "_view_count": null,
       "_view_module": "@jupyter-widgets/base",
       "_view_module_version": "1.2.0",
       "_view_name": "LayoutView",
       "align_content": null,
       "align_items": null,
       "align_self": null,
       "border": null,
       "bottom": null,
       "display": null,
       "flex": null,
       "flex_flow": null,
       "grid_area": null,
       "grid_auto_columns": null,
       "grid_auto_flow": null,
       "grid_auto_rows": null,
       "grid_column": null,
       "grid_gap": null,
       "grid_row": null,
       "grid_template_areas": null,
       "grid_template_columns": null,
       "grid_template_rows": null,
       "height": null,
       "justify_content": null,
       "justify_items": null,
       "left": null,
       "margin": null,
       "max_height": null,
       "max_width": null,
       "min_height": null,
       "min_width": null,
       "object_fit": null,
       "object_position": null,
       "order": null,
       "overflow": null,
       "overflow_x": null,
       "overflow_y": null,
       "padding": null,
       "right": null,
       "top": null,
       "visibility": null,
       "width": null
      }
     },
     "72360d8d6f064186a0b6d3b4f054667c": {
      "model_module": "@jupyter-widgets/base",
      "model_module_version": "1.2.0",
      "model_name": "LayoutModel",
      "state": {
       "_model_module": "@jupyter-widgets/base",
       "_model_module_version": "1.2.0",
       "_model_name": "LayoutModel",
       "_view_count": null,
       "_view_module": "@jupyter-widgets/base",
       "_view_module_version": "1.2.0",
       "_view_name": "LayoutView",
       "align_content": null,
       "align_items": null,
       "align_self": null,
       "border": null,
       "bottom": null,
       "display": null,
       "flex": null,
       "flex_flow": null,
       "grid_area": null,
       "grid_auto_columns": null,
       "grid_auto_flow": null,
       "grid_auto_rows": null,
       "grid_column": null,
       "grid_gap": null,
       "grid_row": null,
       "grid_template_areas": null,
       "grid_template_columns": null,
       "grid_template_rows": null,
       "height": null,
       "justify_content": null,
       "justify_items": null,
       "left": null,
       "margin": null,
       "max_height": null,
       "max_width": null,
       "min_height": null,
       "min_width": null,
       "object_fit": null,
       "object_position": null,
       "order": null,
       "overflow": null,
       "overflow_x": null,
       "overflow_y": null,
       "padding": null,
       "right": null,
       "top": null,
       "visibility": null,
       "width": null
      }
     },
     "7899d3f71f4e4fd795f7377f1749a975": {
      "model_module": "@jupyter-widgets/base",
      "model_module_version": "1.2.0",
      "model_name": "LayoutModel",
      "state": {
       "_model_module": "@jupyter-widgets/base",
       "_model_module_version": "1.2.0",
       "_model_name": "LayoutModel",
       "_view_count": null,
       "_view_module": "@jupyter-widgets/base",
       "_view_module_version": "1.2.0",
       "_view_name": "LayoutView",
       "align_content": null,
       "align_items": null,
       "align_self": null,
       "border": null,
       "bottom": null,
       "display": null,
       "flex": null,
       "flex_flow": null,
       "grid_area": null,
       "grid_auto_columns": null,
       "grid_auto_flow": null,
       "grid_auto_rows": null,
       "grid_column": null,
       "grid_gap": null,
       "grid_row": null,
       "grid_template_areas": null,
       "grid_template_columns": null,
       "grid_template_rows": null,
       "height": null,
       "justify_content": null,
       "justify_items": null,
       "left": null,
       "margin": null,
       "max_height": null,
       "max_width": null,
       "min_height": null,
       "min_width": null,
       "object_fit": null,
       "object_position": null,
       "order": null,
       "overflow": null,
       "overflow_x": null,
       "overflow_y": null,
       "padding": null,
       "right": null,
       "top": null,
       "visibility": null,
       "width": null
      }
     },
     "7c881ce4576649e38abf79a34c3a5200": {
      "model_module": "@jupyter-widgets/controls",
      "model_module_version": "1.5.0",
      "model_name": "ProgressStyleModel",
      "state": {
       "_model_module": "@jupyter-widgets/controls",
       "_model_module_version": "1.5.0",
       "_model_name": "ProgressStyleModel",
       "_view_count": null,
       "_view_module": "@jupyter-widgets/base",
       "_view_module_version": "1.2.0",
       "_view_name": "StyleView",
       "bar_color": null,
       "description_width": ""
      }
     },
     "7d6ca9485f9749a8b5d87afa343862c4": {
      "model_module": "@jupyter-widgets/controls",
      "model_module_version": "1.5.0",
      "model_name": "HBoxModel",
      "state": {
       "_dom_classes": [],
       "_model_module": "@jupyter-widgets/controls",
       "_model_module_version": "1.5.0",
       "_model_name": "HBoxModel",
       "_view_count": null,
       "_view_module": "@jupyter-widgets/controls",
       "_view_module_version": "1.5.0",
       "_view_name": "HBoxView",
       "box_style": "",
       "children": [
        "IPY_MODEL_d063da10345e41789133161025364dcf",
        "IPY_MODEL_8eec09d2bb21469d9af5228c1b91460f",
        "IPY_MODEL_9d85a7e9180449eabd62bc3bf953cc04"
       ],
       "layout": "IPY_MODEL_87df724542924b47a296375422ce9d92"
      }
     },
     "7ef00912412f423a9478e40353a1bf7c": {
      "model_module": "@jupyter-widgets/controls",
      "model_module_version": "1.5.0",
      "model_name": "HBoxModel",
      "state": {
       "_dom_classes": [],
       "_model_module": "@jupyter-widgets/controls",
       "_model_module_version": "1.5.0",
       "_model_name": "HBoxModel",
       "_view_count": null,
       "_view_module": "@jupyter-widgets/controls",
       "_view_module_version": "1.5.0",
       "_view_name": "HBoxView",
       "box_style": "",
       "children": [
        "IPY_MODEL_fd307e61943d4570a3917c0779e1c015",
        "IPY_MODEL_b36f4fcd8fb2420fa9060e1af442bceb",
        "IPY_MODEL_605afbccc7e544abb0a24eb216e71f79"
       ],
       "layout": "IPY_MODEL_3424dfee49cf4aee9e7a61b707867d1e"
      }
     },
     "800ea7081d6947c6a9715b86b03d7dba": {
      "model_module": "@jupyter-widgets/controls",
      "model_module_version": "1.5.0",
      "model_name": "HBoxModel",
      "state": {
       "_dom_classes": [],
       "_model_module": "@jupyter-widgets/controls",
       "_model_module_version": "1.5.0",
       "_model_name": "HBoxModel",
       "_view_count": null,
       "_view_module": "@jupyter-widgets/controls",
       "_view_module_version": "1.5.0",
       "_view_name": "HBoxView",
       "box_style": "",
       "children": [
        "IPY_MODEL_533bf640843a41c48e52bdd48215cc05",
        "IPY_MODEL_fd8c98866d5447368cf120d397e047e3",
        "IPY_MODEL_d886568952a14fd5ad13948c92975b9e"
       ],
       "layout": "IPY_MODEL_3a20557bcdf348ec8442307dd273f0f4"
      }
     },
     "82f8e59a9a574c3a848162b292220cbd": {
      "model_module": "@jupyter-widgets/base",
      "model_module_version": "1.2.0",
      "model_name": "LayoutModel",
      "state": {
       "_model_module": "@jupyter-widgets/base",
       "_model_module_version": "1.2.0",
       "_model_name": "LayoutModel",
       "_view_count": null,
       "_view_module": "@jupyter-widgets/base",
       "_view_module_version": "1.2.0",
       "_view_name": "LayoutView",
       "align_content": null,
       "align_items": null,
       "align_self": null,
       "border": null,
       "bottom": null,
       "display": null,
       "flex": null,
       "flex_flow": null,
       "grid_area": null,
       "grid_auto_columns": null,
       "grid_auto_flow": null,
       "grid_auto_rows": null,
       "grid_column": null,
       "grid_gap": null,
       "grid_row": null,
       "grid_template_areas": null,
       "grid_template_columns": null,
       "grid_template_rows": null,
       "height": null,
       "justify_content": null,
       "justify_items": null,
       "left": null,
       "margin": null,
       "max_height": null,
       "max_width": null,
       "min_height": null,
       "min_width": null,
       "object_fit": null,
       "object_position": null,
       "order": null,
       "overflow": null,
       "overflow_x": null,
       "overflow_y": null,
       "padding": null,
       "right": null,
       "top": null,
       "visibility": null,
       "width": null
      }
     },
     "86c0d75e00d14139a65c7e99a549a369": {
      "model_module": "@jupyter-widgets/base",
      "model_module_version": "1.2.0",
      "model_name": "LayoutModel",
      "state": {
       "_model_module": "@jupyter-widgets/base",
       "_model_module_version": "1.2.0",
       "_model_name": "LayoutModel",
       "_view_count": null,
       "_view_module": "@jupyter-widgets/base",
       "_view_module_version": "1.2.0",
       "_view_name": "LayoutView",
       "align_content": null,
       "align_items": null,
       "align_self": null,
       "border": null,
       "bottom": null,
       "display": null,
       "flex": null,
       "flex_flow": null,
       "grid_area": null,
       "grid_auto_columns": null,
       "grid_auto_flow": null,
       "grid_auto_rows": null,
       "grid_column": null,
       "grid_gap": null,
       "grid_row": null,
       "grid_template_areas": null,
       "grid_template_columns": null,
       "grid_template_rows": null,
       "height": null,
       "justify_content": null,
       "justify_items": null,
       "left": null,
       "margin": null,
       "max_height": null,
       "max_width": null,
       "min_height": null,
       "min_width": null,
       "object_fit": null,
       "object_position": null,
       "order": null,
       "overflow": null,
       "overflow_x": null,
       "overflow_y": null,
       "padding": null,
       "right": null,
       "top": null,
       "visibility": null,
       "width": null
      }
     },
     "87df724542924b47a296375422ce9d92": {
      "model_module": "@jupyter-widgets/base",
      "model_module_version": "1.2.0",
      "model_name": "LayoutModel",
      "state": {
       "_model_module": "@jupyter-widgets/base",
       "_model_module_version": "1.2.0",
       "_model_name": "LayoutModel",
       "_view_count": null,
       "_view_module": "@jupyter-widgets/base",
       "_view_module_version": "1.2.0",
       "_view_name": "LayoutView",
       "align_content": null,
       "align_items": null,
       "align_self": null,
       "border": null,
       "bottom": null,
       "display": null,
       "flex": null,
       "flex_flow": null,
       "grid_area": null,
       "grid_auto_columns": null,
       "grid_auto_flow": null,
       "grid_auto_rows": null,
       "grid_column": null,
       "grid_gap": null,
       "grid_row": null,
       "grid_template_areas": null,
       "grid_template_columns": null,
       "grid_template_rows": null,
       "height": null,
       "justify_content": null,
       "justify_items": null,
       "left": null,
       "margin": null,
       "max_height": null,
       "max_width": null,
       "min_height": null,
       "min_width": null,
       "object_fit": null,
       "object_position": null,
       "order": null,
       "overflow": null,
       "overflow_x": null,
       "overflow_y": null,
       "padding": null,
       "right": null,
       "top": null,
       "visibility": null,
       "width": null
      }
     },
     "889b2f0ee9dd4b74a29932c6ecfd6ed6": {
      "model_module": "@jupyter-widgets/base",
      "model_module_version": "1.2.0",
      "model_name": "LayoutModel",
      "state": {
       "_model_module": "@jupyter-widgets/base",
       "_model_module_version": "1.2.0",
       "_model_name": "LayoutModel",
       "_view_count": null,
       "_view_module": "@jupyter-widgets/base",
       "_view_module_version": "1.2.0",
       "_view_name": "LayoutView",
       "align_content": null,
       "align_items": null,
       "align_self": null,
       "border": null,
       "bottom": null,
       "display": null,
       "flex": null,
       "flex_flow": null,
       "grid_area": null,
       "grid_auto_columns": null,
       "grid_auto_flow": null,
       "grid_auto_rows": null,
       "grid_column": null,
       "grid_gap": null,
       "grid_row": null,
       "grid_template_areas": null,
       "grid_template_columns": null,
       "grid_template_rows": null,
       "height": null,
       "justify_content": null,
       "justify_items": null,
       "left": null,
       "margin": null,
       "max_height": null,
       "max_width": null,
       "min_height": null,
       "min_width": null,
       "object_fit": null,
       "object_position": null,
       "order": null,
       "overflow": null,
       "overflow_x": null,
       "overflow_y": null,
       "padding": null,
       "right": null,
       "top": null,
       "visibility": null,
       "width": null
      }
     },
     "8b3c44ae98754c2fbe21b8acbc80b038": {
      "model_module": "@jupyter-widgets/base",
      "model_module_version": "1.2.0",
      "model_name": "LayoutModel",
      "state": {
       "_model_module": "@jupyter-widgets/base",
       "_model_module_version": "1.2.0",
       "_model_name": "LayoutModel",
       "_view_count": null,
       "_view_module": "@jupyter-widgets/base",
       "_view_module_version": "1.2.0",
       "_view_name": "LayoutView",
       "align_content": null,
       "align_items": null,
       "align_self": null,
       "border": null,
       "bottom": null,
       "display": null,
       "flex": null,
       "flex_flow": null,
       "grid_area": null,
       "grid_auto_columns": null,
       "grid_auto_flow": null,
       "grid_auto_rows": null,
       "grid_column": null,
       "grid_gap": null,
       "grid_row": null,
       "grid_template_areas": null,
       "grid_template_columns": null,
       "grid_template_rows": null,
       "height": null,
       "justify_content": null,
       "justify_items": null,
       "left": null,
       "margin": null,
       "max_height": null,
       "max_width": null,
       "min_height": null,
       "min_width": null,
       "object_fit": null,
       "object_position": null,
       "order": null,
       "overflow": null,
       "overflow_x": null,
       "overflow_y": null,
       "padding": null,
       "right": null,
       "top": null,
       "visibility": null,
       "width": null
      }
     },
     "8eec09d2bb21469d9af5228c1b91460f": {
      "model_module": "@jupyter-widgets/controls",
      "model_module_version": "1.5.0",
      "model_name": "FloatProgressModel",
      "state": {
       "_dom_classes": [],
       "_model_module": "@jupyter-widgets/controls",
       "_model_module_version": "1.5.0",
       "_model_name": "FloatProgressModel",
       "_view_count": null,
       "_view_module": "@jupyter-widgets/controls",
       "_view_module_version": "1.5.0",
       "_view_name": "ProgressView",
       "bar_style": "success",
       "description": "",
       "description_tooltip": null,
       "layout": "IPY_MODEL_72360d8d6f064186a0b6d3b4f054667c",
       "max": 355.0,
       "min": 0.0,
       "orientation": "horizontal",
       "style": "IPY_MODEL_a8f63398d70b4f4d8f11c9016066164e",
       "value": 355.0
      }
     },
     "8fcfc1eb230c4622878c5773262b4fa7": {
      "model_module": "@jupyter-widgets/controls",
      "model_module_version": "1.5.0",
      "model_name": "DescriptionStyleModel",
      "state": {
       "_model_module": "@jupyter-widgets/controls",
       "_model_module_version": "1.5.0",
       "_model_name": "DescriptionStyleModel",
       "_view_count": null,
       "_view_module": "@jupyter-widgets/base",
       "_view_module_version": "1.2.0",
       "_view_name": "StyleView",
       "description_width": ""
      }
     },
     "923e921ecde74dbb9827819c99b3bf53": {
      "model_module": "@jupyter-widgets/base",
      "model_module_version": "1.2.0",
      "model_name": "LayoutModel",
      "state": {
       "_model_module": "@jupyter-widgets/base",
       "_model_module_version": "1.2.0",
       "_model_name": "LayoutModel",
       "_view_count": null,
       "_view_module": "@jupyter-widgets/base",
       "_view_module_version": "1.2.0",
       "_view_name": "LayoutView",
       "align_content": null,
       "align_items": null,
       "align_self": null,
       "border": null,
       "bottom": null,
       "display": null,
       "flex": null,
       "flex_flow": null,
       "grid_area": null,
       "grid_auto_columns": null,
       "grid_auto_flow": null,
       "grid_auto_rows": null,
       "grid_column": null,
       "grid_gap": null,
       "grid_row": null,
       "grid_template_areas": null,
       "grid_template_columns": null,
       "grid_template_rows": null,
       "height": null,
       "justify_content": null,
       "justify_items": null,
       "left": null,
       "margin": null,
       "max_height": null,
       "max_width": null,
       "min_height": null,
       "min_width": null,
       "object_fit": null,
       "object_position": null,
       "order": null,
       "overflow": null,
       "overflow_x": null,
       "overflow_y": null,
       "padding": null,
       "right": null,
       "top": null,
       "visibility": null,
       "width": null
      }
     },
     "9256c765438646e2af3ba36267b60414": {
      "model_module": "@jupyter-widgets/controls",
      "model_module_version": "1.5.0",
      "model_name": "FloatProgressModel",
      "state": {
       "_dom_classes": [],
       "_model_module": "@jupyter-widgets/controls",
       "_model_module_version": "1.5.0",
       "_model_name": "FloatProgressModel",
       "_view_count": null,
       "_view_module": "@jupyter-widgets/controls",
       "_view_module_version": "1.5.0",
       "_view_name": "ProgressView",
       "bar_style": "success",
       "description": "",
       "description_tooltip": null,
       "layout": "IPY_MODEL_046bb67e1a7c4123bfe7793473b837c6",
       "max": 355.0,
       "min": 0.0,
       "orientation": "horizontal",
       "style": "IPY_MODEL_be806f7894db48e09a573a731c21de1a",
       "value": 355.0
      }
     },
     "93fca268b095455fbced72f6066df524": {
      "model_module": "@jupyter-widgets/controls",
      "model_module_version": "1.5.0",
      "model_name": "DescriptionStyleModel",
      "state": {
       "_model_module": "@jupyter-widgets/controls",
       "_model_module_version": "1.5.0",
       "_model_name": "DescriptionStyleModel",
       "_view_count": null,
       "_view_module": "@jupyter-widgets/base",
       "_view_module_version": "1.2.0",
       "_view_name": "StyleView",
       "description_width": ""
      }
     },
     "9628fb5290104326ad16aaf59ec2730b": {
      "model_module": "@jupyter-widgets/controls",
      "model_module_version": "1.5.0",
      "model_name": "ProgressStyleModel",
      "state": {
       "_model_module": "@jupyter-widgets/controls",
       "_model_module_version": "1.5.0",
       "_model_name": "ProgressStyleModel",
       "_view_count": null,
       "_view_module": "@jupyter-widgets/base",
       "_view_module_version": "1.2.0",
       "_view_name": "StyleView",
       "bar_color": null,
       "description_width": ""
      }
     },
     "96d322865545435d97ab10b0ab4f2868": {
      "model_module": "@jupyter-widgets/controls",
      "model_module_version": "1.5.0",
      "model_name": "DescriptionStyleModel",
      "state": {
       "_model_module": "@jupyter-widgets/controls",
       "_model_module_version": "1.5.0",
       "_model_name": "DescriptionStyleModel",
       "_view_count": null,
       "_view_module": "@jupyter-widgets/base",
       "_view_module_version": "1.2.0",
       "_view_name": "StyleView",
       "description_width": ""
      }
     },
     "976aad679ba048c381dfb8095d64880a": {
      "model_module": "@jupyter-widgets/base",
      "model_module_version": "1.2.0",
      "model_name": "LayoutModel",
      "state": {
       "_model_module": "@jupyter-widgets/base",
       "_model_module_version": "1.2.0",
       "_model_name": "LayoutModel",
       "_view_count": null,
       "_view_module": "@jupyter-widgets/base",
       "_view_module_version": "1.2.0",
       "_view_name": "LayoutView",
       "align_content": null,
       "align_items": null,
       "align_self": null,
       "border": null,
       "bottom": null,
       "display": null,
       "flex": null,
       "flex_flow": null,
       "grid_area": null,
       "grid_auto_columns": null,
       "grid_auto_flow": null,
       "grid_auto_rows": null,
       "grid_column": null,
       "grid_gap": null,
       "grid_row": null,
       "grid_template_areas": null,
       "grid_template_columns": null,
       "grid_template_rows": null,
       "height": null,
       "justify_content": null,
       "justify_items": null,
       "left": null,
       "margin": null,
       "max_height": null,
       "max_width": null,
       "min_height": null,
       "min_width": null,
       "object_fit": null,
       "object_position": null,
       "order": null,
       "overflow": null,
       "overflow_x": null,
       "overflow_y": null,
       "padding": null,
       "right": null,
       "top": null,
       "visibility": null,
       "width": null
      }
     },
     "9bc150ec24b14d5d9da9d59d286da85f": {
      "model_module": "@jupyter-widgets/base",
      "model_module_version": "1.2.0",
      "model_name": "LayoutModel",
      "state": {
       "_model_module": "@jupyter-widgets/base",
       "_model_module_version": "1.2.0",
       "_model_name": "LayoutModel",
       "_view_count": null,
       "_view_module": "@jupyter-widgets/base",
       "_view_module_version": "1.2.0",
       "_view_name": "LayoutView",
       "align_content": null,
       "align_items": null,
       "align_self": null,
       "border": null,
       "bottom": null,
       "display": null,
       "flex": null,
       "flex_flow": null,
       "grid_area": null,
       "grid_auto_columns": null,
       "grid_auto_flow": null,
       "grid_auto_rows": null,
       "grid_column": null,
       "grid_gap": null,
       "grid_row": null,
       "grid_template_areas": null,
       "grid_template_columns": null,
       "grid_template_rows": null,
       "height": null,
       "justify_content": null,
       "justify_items": null,
       "left": null,
       "margin": null,
       "max_height": null,
       "max_width": null,
       "min_height": null,
       "min_width": null,
       "object_fit": null,
       "object_position": null,
       "order": null,
       "overflow": null,
       "overflow_x": null,
       "overflow_y": null,
       "padding": null,
       "right": null,
       "top": null,
       "visibility": null,
       "width": null
      }
     },
     "9d85a7e9180449eabd62bc3bf953cc04": {
      "model_module": "@jupyter-widgets/controls",
      "model_module_version": "1.5.0",
      "model_name": "HTMLModel",
      "state": {
       "_dom_classes": [],
       "_model_module": "@jupyter-widgets/controls",
       "_model_module_version": "1.5.0",
       "_model_name": "HTMLModel",
       "_view_count": null,
       "_view_module": "@jupyter-widgets/controls",
       "_view_module_version": "1.5.0",
       "_view_name": "HTMLView",
       "description": "",
       "description_tooltip": null,
       "layout": "IPY_MODEL_e732022f27e6458cbe39028a6af8a51d",
       "placeholder": "​",
       "style": "IPY_MODEL_c41c3fcb3f444b759fb8b691dae91b64",
       "value": " 355/355 [02:43&lt;00:00,  2.30it/s]"
      }
     },
     "9f6ef6a507db4e4f8229ab375462f2cc": {
      "model_module": "@jupyter-widgets/controls",
      "model_module_version": "1.5.0",
      "model_name": "HTMLModel",
      "state": {
       "_dom_classes": [],
       "_model_module": "@jupyter-widgets/controls",
       "_model_module_version": "1.5.0",
       "_model_name": "HTMLModel",
       "_view_count": null,
       "_view_module": "@jupyter-widgets/controls",
       "_view_module_version": "1.5.0",
       "_view_name": "HTMLView",
       "description": "",
       "description_tooltip": null,
       "layout": "IPY_MODEL_8b3c44ae98754c2fbe21b8acbc80b038",
       "placeholder": "​",
       "style": "IPY_MODEL_93fca268b095455fbced72f6066df524",
       "value": " 355/355 [02:42&lt;00:00,  2.30it/s]"
      }
     },
     "a8f63398d70b4f4d8f11c9016066164e": {
      "model_module": "@jupyter-widgets/controls",
      "model_module_version": "1.5.0",
      "model_name": "ProgressStyleModel",
      "state": {
       "_model_module": "@jupyter-widgets/controls",
       "_model_module_version": "1.5.0",
       "_model_name": "ProgressStyleModel",
       "_view_count": null,
       "_view_module": "@jupyter-widgets/base",
       "_view_module_version": "1.2.0",
       "_view_name": "StyleView",
       "bar_color": null,
       "description_width": ""
      }
     },
     "ab215e64a21a4fa597ed65e37eac5d92": {
      "model_module": "@jupyter-widgets/base",
      "model_module_version": "1.2.0",
      "model_name": "LayoutModel",
      "state": {
       "_model_module": "@jupyter-widgets/base",
       "_model_module_version": "1.2.0",
       "_model_name": "LayoutModel",
       "_view_count": null,
       "_view_module": "@jupyter-widgets/base",
       "_view_module_version": "1.2.0",
       "_view_name": "LayoutView",
       "align_content": null,
       "align_items": null,
       "align_self": null,
       "border": null,
       "bottom": null,
       "display": null,
       "flex": null,
       "flex_flow": null,
       "grid_area": null,
       "grid_auto_columns": null,
       "grid_auto_flow": null,
       "grid_auto_rows": null,
       "grid_column": null,
       "grid_gap": null,
       "grid_row": null,
       "grid_template_areas": null,
       "grid_template_columns": null,
       "grid_template_rows": null,
       "height": null,
       "justify_content": null,
       "justify_items": null,
       "left": null,
       "margin": null,
       "max_height": null,
       "max_width": null,
       "min_height": null,
       "min_width": null,
       "object_fit": null,
       "object_position": null,
       "order": null,
       "overflow": null,
       "overflow_x": null,
       "overflow_y": null,
       "padding": null,
       "right": null,
       "top": null,
       "visibility": null,
       "width": null
      }
     },
     "ae081635356d4427b51f95874056b7e7": {
      "model_module": "@jupyter-widgets/controls",
      "model_module_version": "1.5.0",
      "model_name": "DescriptionStyleModel",
      "state": {
       "_model_module": "@jupyter-widgets/controls",
       "_model_module_version": "1.5.0",
       "_model_name": "DescriptionStyleModel",
       "_view_count": null,
       "_view_module": "@jupyter-widgets/base",
       "_view_module_version": "1.2.0",
       "_view_name": "StyleView",
       "description_width": ""
      }
     },
     "b038872c80db4458b0d82a89da7bf582": {
      "model_module": "@jupyter-widgets/controls",
      "model_module_version": "1.5.0",
      "model_name": "HBoxModel",
      "state": {
       "_dom_classes": [],
       "_model_module": "@jupyter-widgets/controls",
       "_model_module_version": "1.5.0",
       "_model_name": "HBoxModel",
       "_view_count": null,
       "_view_module": "@jupyter-widgets/controls",
       "_view_module_version": "1.5.0",
       "_view_name": "HBoxView",
       "box_style": "",
       "children": [
        "IPY_MODEL_e814540e669f4d80a35bd25c4f00ae45",
        "IPY_MODEL_9256c765438646e2af3ba36267b60414",
        "IPY_MODEL_9f6ef6a507db4e4f8229ab375462f2cc"
       ],
       "layout": "IPY_MODEL_976aad679ba048c381dfb8095d64880a"
      }
     },
     "b125dedd16ba41569c18793eb374e486": {
      "model_module": "@jupyter-widgets/base",
      "model_module_version": "1.2.0",
      "model_name": "LayoutModel",
      "state": {
       "_model_module": "@jupyter-widgets/base",
       "_model_module_version": "1.2.0",
       "_model_name": "LayoutModel",
       "_view_count": null,
       "_view_module": "@jupyter-widgets/base",
       "_view_module_version": "1.2.0",
       "_view_name": "LayoutView",
       "align_content": null,
       "align_items": null,
       "align_self": null,
       "border": null,
       "bottom": null,
       "display": null,
       "flex": null,
       "flex_flow": null,
       "grid_area": null,
       "grid_auto_columns": null,
       "grid_auto_flow": null,
       "grid_auto_rows": null,
       "grid_column": null,
       "grid_gap": null,
       "grid_row": null,
       "grid_template_areas": null,
       "grid_template_columns": null,
       "grid_template_rows": null,
       "height": null,
       "justify_content": null,
       "justify_items": null,
       "left": null,
       "margin": null,
       "max_height": null,
       "max_width": null,
       "min_height": null,
       "min_width": null,
       "object_fit": null,
       "object_position": null,
       "order": null,
       "overflow": null,
       "overflow_x": null,
       "overflow_y": null,
       "padding": null,
       "right": null,
       "top": null,
       "visibility": null,
       "width": null
      }
     },
     "b2b63fcad27a4a7c93f37e82e13aed0c": {
      "model_module": "@jupyter-widgets/controls",
      "model_module_version": "1.5.0",
      "model_name": "HBoxModel",
      "state": {
       "_dom_classes": [],
       "_model_module": "@jupyter-widgets/controls",
       "_model_module_version": "1.5.0",
       "_model_name": "HBoxModel",
       "_view_count": null,
       "_view_module": "@jupyter-widgets/controls",
       "_view_module_version": "1.5.0",
       "_view_name": "HBoxView",
       "box_style": "",
       "children": [
        "IPY_MODEL_562eb04b6fd6468b967e7e1ed64afb36",
        "IPY_MODEL_4f84ec33fc464d6cb651ef9b7af94b01",
        "IPY_MODEL_647cf925e23f42b2b273a826236073d6"
       ],
       "layout": "IPY_MODEL_b125dedd16ba41569c18793eb374e486"
      }
     },
     "b36f4fcd8fb2420fa9060e1af442bceb": {
      "model_module": "@jupyter-widgets/controls",
      "model_module_version": "1.5.0",
      "model_name": "FloatProgressModel",
      "state": {
       "_dom_classes": [],
       "_model_module": "@jupyter-widgets/controls",
       "_model_module_version": "1.5.0",
       "_model_name": "FloatProgressModel",
       "_view_count": null,
       "_view_module": "@jupyter-widgets/controls",
       "_view_module_version": "1.5.0",
       "_view_name": "ProgressView",
       "bar_style": "success",
       "description": "",
       "description_tooltip": null,
       "layout": "IPY_MODEL_889b2f0ee9dd4b74a29932c6ecfd6ed6",
       "max": 6727.0,
       "min": 0.0,
       "orientation": "horizontal",
       "style": "IPY_MODEL_9628fb5290104326ad16aaf59ec2730b",
       "value": 6727.0
      }
     },
     "bd4a208f16ba4d3e99a0e21844f3fa3a": {
      "model_module": "@jupyter-widgets/controls",
      "model_module_version": "1.5.0",
      "model_name": "ProgressStyleModel",
      "state": {
       "_model_module": "@jupyter-widgets/controls",
       "_model_module_version": "1.5.0",
       "_model_name": "ProgressStyleModel",
       "_view_count": null,
       "_view_module": "@jupyter-widgets/base",
       "_view_module_version": "1.2.0",
       "_view_name": "StyleView",
       "bar_color": null,
       "description_width": ""
      }
     },
     "be806f7894db48e09a573a731c21de1a": {
      "model_module": "@jupyter-widgets/controls",
      "model_module_version": "1.5.0",
      "model_name": "ProgressStyleModel",
      "state": {
       "_model_module": "@jupyter-widgets/controls",
       "_model_module_version": "1.5.0",
       "_model_name": "ProgressStyleModel",
       "_view_count": null,
       "_view_module": "@jupyter-widgets/base",
       "_view_module_version": "1.2.0",
       "_view_name": "StyleView",
       "bar_color": null,
       "description_width": ""
      }
     },
     "bf7f24fbf43f4744ab50716ff2e807fb": {
      "model_module": "@jupyter-widgets/base",
      "model_module_version": "1.2.0",
      "model_name": "LayoutModel",
      "state": {
       "_model_module": "@jupyter-widgets/base",
       "_model_module_version": "1.2.0",
       "_model_name": "LayoutModel",
       "_view_count": null,
       "_view_module": "@jupyter-widgets/base",
       "_view_module_version": "1.2.0",
       "_view_name": "LayoutView",
       "align_content": null,
       "align_items": null,
       "align_self": null,
       "border": null,
       "bottom": null,
       "display": null,
       "flex": null,
       "flex_flow": null,
       "grid_area": null,
       "grid_auto_columns": null,
       "grid_auto_flow": null,
       "grid_auto_rows": null,
       "grid_column": null,
       "grid_gap": null,
       "grid_row": null,
       "grid_template_areas": null,
       "grid_template_columns": null,
       "grid_template_rows": null,
       "height": null,
       "justify_content": null,
       "justify_items": null,
       "left": null,
       "margin": null,
       "max_height": null,
       "max_width": null,
       "min_height": null,
       "min_width": null,
       "object_fit": null,
       "object_position": null,
       "order": null,
       "overflow": null,
       "overflow_x": null,
       "overflow_y": null,
       "padding": null,
       "right": null,
       "top": null,
       "visibility": null,
       "width": null
      }
     },
     "c41c3fcb3f444b759fb8b691dae91b64": {
      "model_module": "@jupyter-widgets/controls",
      "model_module_version": "1.5.0",
      "model_name": "DescriptionStyleModel",
      "state": {
       "_model_module": "@jupyter-widgets/controls",
       "_model_module_version": "1.5.0",
       "_model_name": "DescriptionStyleModel",
       "_view_count": null,
       "_view_module": "@jupyter-widgets/base",
       "_view_module_version": "1.2.0",
       "_view_name": "StyleView",
       "description_width": ""
      }
     },
     "c480c276621e4204837385235c9b1905": {
      "model_module": "@jupyter-widgets/controls",
      "model_module_version": "1.5.0",
      "model_name": "FloatProgressModel",
      "state": {
       "_dom_classes": [],
       "_model_module": "@jupyter-widgets/controls",
       "_model_module_version": "1.5.0",
       "_model_name": "FloatProgressModel",
       "_view_count": null,
       "_view_module": "@jupyter-widgets/controls",
       "_view_module_version": "1.5.0",
       "_view_name": "ProgressView",
       "bar_style": "success",
       "description": "",
       "description_tooltip": null,
       "layout": "IPY_MODEL_86c0d75e00d14139a65c7e99a549a369",
       "max": 798011.0,
       "min": 0.0,
       "orientation": "horizontal",
       "style": "IPY_MODEL_bd4a208f16ba4d3e99a0e21844f3fa3a",
       "value": 798011.0
      }
     },
     "c6ea989494b04da8b2837f0676e404fb": {
      "model_module": "@jupyter-widgets/controls",
      "model_module_version": "1.5.0",
      "model_name": "HBoxModel",
      "state": {
       "_dom_classes": [],
       "_model_module": "@jupyter-widgets/controls",
       "_model_module_version": "1.5.0",
       "_model_name": "HBoxModel",
       "_view_count": null,
       "_view_module": "@jupyter-widgets/controls",
       "_view_module_version": "1.5.0",
       "_view_name": "HBoxView",
       "box_style": "",
       "children": [
        "IPY_MODEL_4a2622fa26974d4286a21f423539c874",
        "IPY_MODEL_c480c276621e4204837385235c9b1905",
        "IPY_MODEL_1668b2917943448ba2ea1df34d915eee"
       ],
       "layout": "IPY_MODEL_63b2d8d545fa4d7e883e017a6c04130f"
      }
     },
     "c7887bf1d3f64d77a7e3e5c3822929ad": {
      "model_module": "@jupyter-widgets/controls",
      "model_module_version": "1.5.0",
      "model_name": "DescriptionStyleModel",
      "state": {
       "_model_module": "@jupyter-widgets/controls",
       "_model_module_version": "1.5.0",
       "_model_name": "DescriptionStyleModel",
       "_view_count": null,
       "_view_module": "@jupyter-widgets/base",
       "_view_module_version": "1.2.0",
       "_view_name": "StyleView",
       "description_width": ""
      }
     },
     "ccc2ca3e9dca4c14b33be2b977eb235a": {
      "model_module": "@jupyter-widgets/controls",
      "model_module_version": "1.5.0",
      "model_name": "DescriptionStyleModel",
      "state": {
       "_model_module": "@jupyter-widgets/controls",
       "_model_module_version": "1.5.0",
       "_model_name": "DescriptionStyleModel",
       "_view_count": null,
       "_view_module": "@jupyter-widgets/base",
       "_view_module_version": "1.2.0",
       "_view_name": "StyleView",
       "description_width": ""
      }
     },
     "d063da10345e41789133161025364dcf": {
      "model_module": "@jupyter-widgets/controls",
      "model_module_version": "1.5.0",
      "model_name": "HTMLModel",
      "state": {
       "_dom_classes": [],
       "_model_module": "@jupyter-widgets/controls",
       "_model_module_version": "1.5.0",
       "_model_name": "HTMLModel",
       "_view_count": null,
       "_view_module": "@jupyter-widgets/controls",
       "_view_module_version": "1.5.0",
       "_view_name": "HTMLView",
       "description": "",
       "description_tooltip": null,
       "layout": "IPY_MODEL_ab215e64a21a4fa597ed65e37eac5d92",
       "placeholder": "​",
       "style": "IPY_MODEL_c7887bf1d3f64d77a7e3e5c3822929ad",
       "value": "100%"
      }
     },
     "d144cb2b25e343cc9d58788313fdd699": {
      "model_module": "@jupyter-widgets/controls",
      "model_module_version": "1.5.0",
      "model_name": "FloatProgressModel",
      "state": {
       "_dom_classes": [],
       "_model_module": "@jupyter-widgets/controls",
       "_model_module_version": "1.5.0",
       "_model_name": "FloatProgressModel",
       "_view_count": null,
       "_view_module": "@jupyter-widgets/controls",
       "_view_module_version": "1.5.0",
       "_view_name": "ProgressView",
       "bar_style": "success",
       "description": "",
       "description_tooltip": null,
       "layout": "IPY_MODEL_13bfcac7e6084452b62e76ca918811e4",
       "max": 6727.0,
       "min": 0.0,
       "orientation": "horizontal",
       "style": "IPY_MODEL_3cb9ff24902e4c8abb085f428f5279e7",
       "value": 6727.0
      }
     },
     "d29afc9bd75744e3a134c2a8ee13b94a": {
      "model_module": "@jupyter-widgets/base",
      "model_module_version": "1.2.0",
      "model_name": "LayoutModel",
      "state": {
       "_model_module": "@jupyter-widgets/base",
       "_model_module_version": "1.2.0",
       "_model_name": "LayoutModel",
       "_view_count": null,
       "_view_module": "@jupyter-widgets/base",
       "_view_module_version": "1.2.0",
       "_view_name": "LayoutView",
       "align_content": null,
       "align_items": null,
       "align_self": null,
       "border": null,
       "bottom": null,
       "display": null,
       "flex": null,
       "flex_flow": null,
       "grid_area": null,
       "grid_auto_columns": null,
       "grid_auto_flow": null,
       "grid_auto_rows": null,
       "grid_column": null,
       "grid_gap": null,
       "grid_row": null,
       "grid_template_areas": null,
       "grid_template_columns": null,
       "grid_template_rows": null,
       "height": null,
       "justify_content": null,
       "justify_items": null,
       "left": null,
       "margin": null,
       "max_height": null,
       "max_width": null,
       "min_height": null,
       "min_width": null,
       "object_fit": null,
       "object_position": null,
       "order": null,
       "overflow": null,
       "overflow_x": null,
       "overflow_y": null,
       "padding": null,
       "right": null,
       "top": null,
       "visibility": null,
       "width": null
      }
     },
     "d489a24ba1fa462aaca74c71101727b4": {
      "model_module": "@jupyter-widgets/base",
      "model_module_version": "1.2.0",
      "model_name": "LayoutModel",
      "state": {
       "_model_module": "@jupyter-widgets/base",
       "_model_module_version": "1.2.0",
       "_model_name": "LayoutModel",
       "_view_count": null,
       "_view_module": "@jupyter-widgets/base",
       "_view_module_version": "1.2.0",
       "_view_name": "LayoutView",
       "align_content": null,
       "align_items": null,
       "align_self": null,
       "border": null,
       "bottom": null,
       "display": null,
       "flex": null,
       "flex_flow": null,
       "grid_area": null,
       "grid_auto_columns": null,
       "grid_auto_flow": null,
       "grid_auto_rows": null,
       "grid_column": null,
       "grid_gap": null,
       "grid_row": null,
       "grid_template_areas": null,
       "grid_template_columns": null,
       "grid_template_rows": null,
       "height": null,
       "justify_content": null,
       "justify_items": null,
       "left": null,
       "margin": null,
       "max_height": null,
       "max_width": null,
       "min_height": null,
       "min_width": null,
       "object_fit": null,
       "object_position": null,
       "order": null,
       "overflow": null,
       "overflow_x": null,
       "overflow_y": null,
       "padding": null,
       "right": null,
       "top": null,
       "visibility": null,
       "width": null
      }
     },
     "d4a648fac8844f5ebc17e280839bfcf3": {
      "model_module": "@jupyter-widgets/controls",
      "model_module_version": "1.5.0",
      "model_name": "DescriptionStyleModel",
      "state": {
       "_model_module": "@jupyter-widgets/controls",
       "_model_module_version": "1.5.0",
       "_model_name": "DescriptionStyleModel",
       "_view_count": null,
       "_view_module": "@jupyter-widgets/base",
       "_view_module_version": "1.2.0",
       "_view_name": "StyleView",
       "description_width": ""
      }
     },
     "d886568952a14fd5ad13948c92975b9e": {
      "model_module": "@jupyter-widgets/controls",
      "model_module_version": "1.5.0",
      "model_name": "HTMLModel",
      "state": {
       "_dom_classes": [],
       "_model_module": "@jupyter-widgets/controls",
       "_model_module_version": "1.5.0",
       "_model_name": "HTMLModel",
       "_view_count": null,
       "_view_module": "@jupyter-widgets/controls",
       "_view_module_version": "1.5.0",
       "_view_name": "HTMLView",
       "description": "",
       "description_tooltip": null,
       "layout": "IPY_MODEL_e9aea23bbc204ac28eaca2d181c2b295",
       "placeholder": "​",
       "style": "IPY_MODEL_fbc58ee42e1e49a7ae5bfd13e4f44e4b",
       "value": " 6727/6727 [2:12:27&lt;00:00,  1.05it/s]"
      }
     },
     "d976f4b2a4e14a8c83b35ea3c837e1d1": {
      "model_module": "@jupyter-widgets/controls",
      "model_module_version": "1.5.0",
      "model_name": "HTMLModel",
      "state": {
       "_dom_classes": [],
       "_model_module": "@jupyter-widgets/controls",
       "_model_module_version": "1.5.0",
       "_model_name": "HTMLModel",
       "_view_count": null,
       "_view_module": "@jupyter-widgets/controls",
       "_view_module_version": "1.5.0",
       "_view_name": "HTMLView",
       "description": "",
       "description_tooltip": null,
       "layout": "IPY_MODEL_d489a24ba1fa462aaca74c71101727b4",
       "placeholder": "​",
       "style": "IPY_MODEL_67c60c552f0e4f4f838c059ea81e7f1a",
       "value": " 355/355 [02:43&lt;00:00,  2.25it/s]"
      }
     },
     "e3ed933ed9d94545b15e071c3a3f638a": {
      "model_module": "@jupyter-widgets/controls",
      "model_module_version": "1.5.0",
      "model_name": "ProgressStyleModel",
      "state": {
       "_model_module": "@jupyter-widgets/controls",
       "_model_module_version": "1.5.0",
       "_model_name": "ProgressStyleModel",
       "_view_count": null,
       "_view_module": "@jupyter-widgets/base",
       "_view_module_version": "1.2.0",
       "_view_name": "StyleView",
       "bar_color": null,
       "description_width": ""
      }
     },
     "e6e296f2afc248a8a9bf4e80dc21513d": {
      "model_module": "@jupyter-widgets/base",
      "model_module_version": "1.2.0",
      "model_name": "LayoutModel",
      "state": {
       "_model_module": "@jupyter-widgets/base",
       "_model_module_version": "1.2.0",
       "_model_name": "LayoutModel",
       "_view_count": null,
       "_view_module": "@jupyter-widgets/base",
       "_view_module_version": "1.2.0",
       "_view_name": "LayoutView",
       "align_content": null,
       "align_items": null,
       "align_self": null,
       "border": null,
       "bottom": null,
       "display": null,
       "flex": null,
       "flex_flow": null,
       "grid_area": null,
       "grid_auto_columns": null,
       "grid_auto_flow": null,
       "grid_auto_rows": null,
       "grid_column": null,
       "grid_gap": null,
       "grid_row": null,
       "grid_template_areas": null,
       "grid_template_columns": null,
       "grid_template_rows": null,
       "height": null,
       "justify_content": null,
       "justify_items": null,
       "left": null,
       "margin": null,
       "max_height": null,
       "max_width": null,
       "min_height": null,
       "min_width": null,
       "object_fit": null,
       "object_position": null,
       "order": null,
       "overflow": null,
       "overflow_x": null,
       "overflow_y": null,
       "padding": null,
       "right": null,
       "top": null,
       "visibility": null,
       "width": null
      }
     },
     "e732022f27e6458cbe39028a6af8a51d": {
      "model_module": "@jupyter-widgets/base",
      "model_module_version": "1.2.0",
      "model_name": "LayoutModel",
      "state": {
       "_model_module": "@jupyter-widgets/base",
       "_model_module_version": "1.2.0",
       "_model_name": "LayoutModel",
       "_view_count": null,
       "_view_module": "@jupyter-widgets/base",
       "_view_module_version": "1.2.0",
       "_view_name": "LayoutView",
       "align_content": null,
       "align_items": null,
       "align_self": null,
       "border": null,
       "bottom": null,
       "display": null,
       "flex": null,
       "flex_flow": null,
       "grid_area": null,
       "grid_auto_columns": null,
       "grid_auto_flow": null,
       "grid_auto_rows": null,
       "grid_column": null,
       "grid_gap": null,
       "grid_row": null,
       "grid_template_areas": null,
       "grid_template_columns": null,
       "grid_template_rows": null,
       "height": null,
       "justify_content": null,
       "justify_items": null,
       "left": null,
       "margin": null,
       "max_height": null,
       "max_width": null,
       "min_height": null,
       "min_width": null,
       "object_fit": null,
       "object_position": null,
       "order": null,
       "overflow": null,
       "overflow_x": null,
       "overflow_y": null,
       "padding": null,
       "right": null,
       "top": null,
       "visibility": null,
       "width": null
      }
     },
     "e814540e669f4d80a35bd25c4f00ae45": {
      "model_module": "@jupyter-widgets/controls",
      "model_module_version": "1.5.0",
      "model_name": "HTMLModel",
      "state": {
       "_dom_classes": [],
       "_model_module": "@jupyter-widgets/controls",
       "_model_module_version": "1.5.0",
       "_model_name": "HTMLModel",
       "_view_count": null,
       "_view_module": "@jupyter-widgets/controls",
       "_view_module_version": "1.5.0",
       "_view_name": "HTMLView",
       "description": "",
       "description_tooltip": null,
       "layout": "IPY_MODEL_923e921ecde74dbb9827819c99b3bf53",
       "placeholder": "​",
       "style": "IPY_MODEL_fc4c245fe3b84d46a2330c1a649bfee1",
       "value": "100%"
      }
     },
     "e90defa91a694b93956e9b86b6a64ee1": {
      "model_module": "@jupyter-widgets/base",
      "model_module_version": "1.2.0",
      "model_name": "LayoutModel",
      "state": {
       "_model_module": "@jupyter-widgets/base",
       "_model_module_version": "1.2.0",
       "_model_name": "LayoutModel",
       "_view_count": null,
       "_view_module": "@jupyter-widgets/base",
       "_view_module_version": "1.2.0",
       "_view_name": "LayoutView",
       "align_content": null,
       "align_items": null,
       "align_self": null,
       "border": null,
       "bottom": null,
       "display": null,
       "flex": null,
       "flex_flow": null,
       "grid_area": null,
       "grid_auto_columns": null,
       "grid_auto_flow": null,
       "grid_auto_rows": null,
       "grid_column": null,
       "grid_gap": null,
       "grid_row": null,
       "grid_template_areas": null,
       "grid_template_columns": null,
       "grid_template_rows": null,
       "height": null,
       "justify_content": null,
       "justify_items": null,
       "left": null,
       "margin": null,
       "max_height": null,
       "max_width": null,
       "min_height": null,
       "min_width": null,
       "object_fit": null,
       "object_position": null,
       "order": null,
       "overflow": null,
       "overflow_x": null,
       "overflow_y": null,
       "padding": null,
       "right": null,
       "top": null,
       "visibility": null,
       "width": null
      }
     },
     "e9aea23bbc204ac28eaca2d181c2b295": {
      "model_module": "@jupyter-widgets/base",
      "model_module_version": "1.2.0",
      "model_name": "LayoutModel",
      "state": {
       "_model_module": "@jupyter-widgets/base",
       "_model_module_version": "1.2.0",
       "_model_name": "LayoutModel",
       "_view_count": null,
       "_view_module": "@jupyter-widgets/base",
       "_view_module_version": "1.2.0",
       "_view_name": "LayoutView",
       "align_content": null,
       "align_items": null,
       "align_self": null,
       "border": null,
       "bottom": null,
       "display": null,
       "flex": null,
       "flex_flow": null,
       "grid_area": null,
       "grid_auto_columns": null,
       "grid_auto_flow": null,
       "grid_auto_rows": null,
       "grid_column": null,
       "grid_gap": null,
       "grid_row": null,
       "grid_template_areas": null,
       "grid_template_columns": null,
       "grid_template_rows": null,
       "height": null,
       "justify_content": null,
       "justify_items": null,
       "left": null,
       "margin": null,
       "max_height": null,
       "max_width": null,
       "min_height": null,
       "min_width": null,
       "object_fit": null,
       "object_position": null,
       "order": null,
       "overflow": null,
       "overflow_x": null,
       "overflow_y": null,
       "padding": null,
       "right": null,
       "top": null,
       "visibility": null,
       "width": null
      }
     },
     "ebbdc236345b40c9bf04708267c5e020": {
      "model_module": "@jupyter-widgets/controls",
      "model_module_version": "1.5.0",
      "model_name": "HBoxModel",
      "state": {
       "_dom_classes": [],
       "_model_module": "@jupyter-widgets/controls",
       "_model_module_version": "1.5.0",
       "_model_name": "HBoxModel",
       "_view_count": null,
       "_view_module": "@jupyter-widgets/controls",
       "_view_module_version": "1.5.0",
       "_view_name": "HBoxView",
       "box_style": "",
       "children": [
        "IPY_MODEL_f416499fc85546a68db726b560c22894",
        "IPY_MODEL_157d21e5c63147b09259fcfaeab45b52",
        "IPY_MODEL_d976f4b2a4e14a8c83b35ea3c837e1d1"
       ],
       "layout": "IPY_MODEL_4b8832aadafa446bbac973981f0eeb1d"
      }
     },
     "ec2e05e4928145e88c6bf5c72fab3a13": {
      "model_module": "@jupyter-widgets/base",
      "model_module_version": "1.2.0",
      "model_name": "LayoutModel",
      "state": {
       "_model_module": "@jupyter-widgets/base",
       "_model_module_version": "1.2.0",
       "_model_name": "LayoutModel",
       "_view_count": null,
       "_view_module": "@jupyter-widgets/base",
       "_view_module_version": "1.2.0",
       "_view_name": "LayoutView",
       "align_content": null,
       "align_items": null,
       "align_self": null,
       "border": null,
       "bottom": null,
       "display": null,
       "flex": null,
       "flex_flow": null,
       "grid_area": null,
       "grid_auto_columns": null,
       "grid_auto_flow": null,
       "grid_auto_rows": null,
       "grid_column": null,
       "grid_gap": null,
       "grid_row": null,
       "grid_template_areas": null,
       "grid_template_columns": null,
       "grid_template_rows": null,
       "height": null,
       "justify_content": null,
       "justify_items": null,
       "left": null,
       "margin": null,
       "max_height": null,
       "max_width": null,
       "min_height": null,
       "min_width": null,
       "object_fit": null,
       "object_position": null,
       "order": null,
       "overflow": null,
       "overflow_x": null,
       "overflow_y": null,
       "padding": null,
       "right": null,
       "top": null,
       "visibility": null,
       "width": null
      }
     },
     "ed6a538ba54d4a03a6fdc68ef7a658bb": {
      "model_module": "@jupyter-widgets/controls",
      "model_module_version": "1.5.0",
      "model_name": "ProgressStyleModel",
      "state": {
       "_model_module": "@jupyter-widgets/controls",
       "_model_module_version": "1.5.0",
       "_model_name": "ProgressStyleModel",
       "_view_count": null,
       "_view_module": "@jupyter-widgets/base",
       "_view_module_version": "1.2.0",
       "_view_name": "StyleView",
       "bar_color": null,
       "description_width": ""
      }
     },
     "f416499fc85546a68db726b560c22894": {
      "model_module": "@jupyter-widgets/controls",
      "model_module_version": "1.5.0",
      "model_name": "HTMLModel",
      "state": {
       "_dom_classes": [],
       "_model_module": "@jupyter-widgets/controls",
       "_model_module_version": "1.5.0",
       "_model_name": "HTMLModel",
       "_view_count": null,
       "_view_module": "@jupyter-widgets/controls",
       "_view_module_version": "1.5.0",
       "_view_name": "HTMLView",
       "description": "",
       "description_tooltip": null,
       "layout": "IPY_MODEL_7899d3f71f4e4fd795f7377f1749a975",
       "placeholder": "​",
       "style": "IPY_MODEL_2c2c60a889ad497f806c033517883306",
       "value": "100%"
      }
     },
     "f881c5a927a244efa7d9130798069a59": {
      "model_module": "@jupyter-widgets/base",
      "model_module_version": "1.2.0",
      "model_name": "LayoutModel",
      "state": {
       "_model_module": "@jupyter-widgets/base",
       "_model_module_version": "1.2.0",
       "_model_name": "LayoutModel",
       "_view_count": null,
       "_view_module": "@jupyter-widgets/base",
       "_view_module_version": "1.2.0",
       "_view_name": "LayoutView",
       "align_content": null,
       "align_items": null,
       "align_self": null,
       "border": null,
       "bottom": null,
       "display": null,
       "flex": null,
       "flex_flow": null,
       "grid_area": null,
       "grid_auto_columns": null,
       "grid_auto_flow": null,
       "grid_auto_rows": null,
       "grid_column": null,
       "grid_gap": null,
       "grid_row": null,
       "grid_template_areas": null,
       "grid_template_columns": null,
       "grid_template_rows": null,
       "height": null,
       "justify_content": null,
       "justify_items": null,
       "left": null,
       "margin": null,
       "max_height": null,
       "max_width": null,
       "min_height": null,
       "min_width": null,
       "object_fit": null,
       "object_position": null,
       "order": null,
       "overflow": null,
       "overflow_x": null,
       "overflow_y": null,
       "padding": null,
       "right": null,
       "top": null,
       "visibility": null,
       "width": null
      }
     },
     "fbc58ee42e1e49a7ae5bfd13e4f44e4b": {
      "model_module": "@jupyter-widgets/controls",
      "model_module_version": "1.5.0",
      "model_name": "DescriptionStyleModel",
      "state": {
       "_model_module": "@jupyter-widgets/controls",
       "_model_module_version": "1.5.0",
       "_model_name": "DescriptionStyleModel",
       "_view_count": null,
       "_view_module": "@jupyter-widgets/base",
       "_view_module_version": "1.2.0",
       "_view_name": "StyleView",
       "description_width": ""
      }
     },
     "fc4c245fe3b84d46a2330c1a649bfee1": {
      "model_module": "@jupyter-widgets/controls",
      "model_module_version": "1.5.0",
      "model_name": "DescriptionStyleModel",
      "state": {
       "_model_module": "@jupyter-widgets/controls",
       "_model_module_version": "1.5.0",
       "_model_name": "DescriptionStyleModel",
       "_view_count": null,
       "_view_module": "@jupyter-widgets/base",
       "_view_module_version": "1.2.0",
       "_view_name": "StyleView",
       "description_width": ""
      }
     },
     "fd307e61943d4570a3917c0779e1c015": {
      "model_module": "@jupyter-widgets/controls",
      "model_module_version": "1.5.0",
      "model_name": "HTMLModel",
      "state": {
       "_dom_classes": [],
       "_model_module": "@jupyter-widgets/controls",
       "_model_module_version": "1.5.0",
       "_model_name": "HTMLModel",
       "_view_count": null,
       "_view_module": "@jupyter-widgets/controls",
       "_view_module_version": "1.5.0",
       "_view_name": "HTMLView",
       "description": "",
       "description_tooltip": null,
       "layout": "IPY_MODEL_d29afc9bd75744e3a134c2a8ee13b94a",
       "placeholder": "​",
       "style": "IPY_MODEL_2e912ceb12724386a9fb600e6466a071",
       "value": "100%"
      }
     },
     "fd8c98866d5447368cf120d397e047e3": {
      "model_module": "@jupyter-widgets/controls",
      "model_module_version": "1.5.0",
      "model_name": "FloatProgressModel",
      "state": {
       "_dom_classes": [],
       "_model_module": "@jupyter-widgets/controls",
       "_model_module_version": "1.5.0",
       "_model_name": "FloatProgressModel",
       "_view_count": null,
       "_view_module": "@jupyter-widgets/controls",
       "_view_module_version": "1.5.0",
       "_view_name": "ProgressView",
       "bar_style": "success",
       "description": "",
       "description_tooltip": null,
       "layout": "IPY_MODEL_022cbd6ce86a45b9bd7a6d3f5d3bc7c2",
       "max": 6727.0,
       "min": 0.0,
       "orientation": "horizontal",
       "style": "IPY_MODEL_e3ed933ed9d94545b15e071c3a3f638a",
       "value": 6727.0
      }
     }
    },
    "version_major": 2,
    "version_minor": 0
   }
  }
 },
 "nbformat": 4,
 "nbformat_minor": 5
}
