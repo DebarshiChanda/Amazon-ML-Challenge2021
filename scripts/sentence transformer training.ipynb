{
  "nbformat": 4,
  "nbformat_minor": 5,
  "metadata": {
    "kernelspec": {
      "display_name": "Python 3",
      "language": "python",
      "name": "python3"
    },
    "language_info": {
      "codemirror_mode": {
        "name": "ipython",
        "version": 3
      },
      "file_extension": ".py",
      "mimetype": "text/x-python",
      "name": "python",
      "nbconvert_exporter": "python",
      "pygments_lexer": "ipython3",
      "version": "3.7.10"
    },
    "papermill": {
      "default_parameters": {},
      "duration": 24211.187665,
      "end_time": "2021-08-01T02:55:43.433978",
      "environment_variables": {},
      "exception": null,
      "input_path": "__notebook__.ipynb",
      "output_path": "__notebook__.ipynb",
      "parameters": {},
      "start_time": "2021-07-31T20:12:12.246313",
      "version": "2.3.3"
    },
    "colab": {
      "name": "amazon-ml-metric.ipynb",
      "provenance": []
    }
  },
  "cells": [
    {
      "cell_type": "code",
      "metadata": {
        "execution": {
          "iopub.execute_input": "2021-07-31T20:12:19.481925Z",
          "iopub.status.busy": "2021-07-31T20:12:19.480408Z",
          "iopub.status.idle": "2021-07-31T20:12:27.011533Z",
          "shell.execute_reply": "2021-07-31T20:12:27.010903Z",
          "shell.execute_reply.started": "2021-07-31T19:58:48.597417Z"
        },
        "papermill": {
          "duration": 7.551943,
          "end_time": "2021-07-31T20:12:27.011687",
          "exception": false,
          "start_time": "2021-07-31T20:12:19.459744",
          "status": "completed"
        },
        "tags": [],
        "id": "a914b977"
      },
      "source": [
        "import math\n",
        "from tqdm import tqdm\n",
        "import os\n",
        "import pandas as pd\n",
        "import numpy as np\n",
        "from sklearn.preprocessing import LabelEncoder\n",
        "\n",
        "# Visuals and CV2\n",
        "import cv2\n",
        "\n",
        "# albumentations for augs\n",
        "import albumentations\n",
        "from albumentations.pytorch.transforms import ToTensorV2\n",
        "\n",
        "from sklearn.model_selection import StratifiedKFold, train_test_split\n",
        "\n",
        "#torch\n",
        "import torch\n",
        "import torch.nn as nn\n",
        "from torch.nn import Parameter\n",
        "from torch.nn import functional as F\n",
        "from torch.utils.data import Dataset,DataLoader\n",
        "from torch.optim import Adam\n",
        "from torch.optim.lr_scheduler import _LRScheduler\n",
        "from torch.optim import Adam, lr_scheduler\n",
        "\n",
        "import transformers\n",
        "from transformers import AdamW\n",
        "from transformers import get_linear_schedule_with_warmup,get_cosine_schedule_with_warmup\n",
        "from transformers import get_cosine_with_hard_restarts_schedule_with_warmup"
      ],
      "id": "a914b977",
      "execution_count": null,
      "outputs": []
    },
    {
      "cell_type": "code",
      "metadata": {
        "execution": {
          "iopub.execute_input": "2021-07-31T20:12:27.048517Z",
          "iopub.status.busy": "2021-07-31T20:12:27.047853Z",
          "iopub.status.idle": "2021-07-31T20:12:31.582274Z",
          "shell.execute_reply": "2021-07-31T20:12:31.581739Z",
          "shell.execute_reply.started": "2021-07-31T19:58:56.499528Z"
        },
        "papermill": {
          "duration": 4.555585,
          "end_time": "2021-07-31T20:12:31.582406",
          "exception": false,
          "start_time": "2021-07-31T20:12:27.026821",
          "status": "completed"
        },
        "tags": [],
        "colab": {
          "referenced_widgets": [
            "d915e7d39b95469580ba50f3a4f9d604",
            "3d135e2a2ca348bab605e59d0ec27ef2",
            "374b7c0dafc4457e9dd39d541dea8ad2",
            "aecd998c4a00452c98637e1377f4c62f",
            "8a59c8d217064894accf4db1b0ae7a4a"
          ]
        },
        "id": "d2e7fcc1",
        "outputId": "2fa184b5-3010-4596-c938-c23b6c11b585"
      },
      "source": [
        "NUM_WORKERS = 4\n",
        "TRAIN_BATCH_SIZE = 64\n",
        "EPOCHS = 5\n",
        "SEED = 2020\n",
        "LR = 5e-5\n",
        "\n",
        "device = torch.device('cuda')\n",
        "\n",
        "################################################# MODEL ####################################################################\n",
        "\n",
        "transformer_model = 'sentence-transformers/paraphrase-mpnet-base-v2'\n",
        "# transformer_model = 'xlm-roberta-base'\n",
        "TOKENIZER = transformers.AutoTokenizer.from_pretrained(transformer_model)\n",
        "\n",
        "################################################ Metric Loss and its params #######################################################\n",
        "loss_module = 'arcface'#'softmax'\n",
        "s = 30.0\n",
        "m = 0.5 \n",
        "ls_eps = 0.0\n",
        "easy_margin = False\n",
        "\n",
        "############################################################################################################################\n",
        "model_params = {\n",
        "    'n_classes':9919,\n",
        "    'model_name':transformer_model,\n",
        "    'pooling':'clf',\n",
        "    'use_fc':False,\n",
        "    'fc_dim':512,\n",
        "    'dropout':0.0,\n",
        "    'loss_module':loss_module,\n",
        "    's':30.0,\n",
        "    'margin':0.50,\n",
        "    'ls_eps':0.0,\n",
        "    'theta_zero':0.785\n",
        "}"
      ],
      "id": "d2e7fcc1",
      "execution_count": null,
      "outputs": [
        {
          "output_type": "display_data",
          "data": {
            "application/vnd.jupyter.widget-view+json": {
              "model_id": "d915e7d39b95469580ba50f3a4f9d604",
              "version_major": 2,
              "version_minor": 0
            },
            "text/plain": [
              "Downloading:   0%|          | 0.00/594 [00:00<?, ?B/s]"
            ]
          },
          "metadata": {
            "tags": []
          }
        },
        {
          "output_type": "display_data",
          "data": {
            "application/vnd.jupyter.widget-view+json": {
              "model_id": "3d135e2a2ca348bab605e59d0ec27ef2",
              "version_major": 2,
              "version_minor": 0
            },
            "text/plain": [
              "Downloading:   0%|          | 0.00/232k [00:00<?, ?B/s]"
            ]
          },
          "metadata": {
            "tags": []
          }
        },
        {
          "output_type": "display_data",
          "data": {
            "application/vnd.jupyter.widget-view+json": {
              "model_id": "374b7c0dafc4457e9dd39d541dea8ad2",
              "version_major": 2,
              "version_minor": 0
            },
            "text/plain": [
              "Downloading:   0%|          | 0.00/466k [00:00<?, ?B/s]"
            ]
          },
          "metadata": {
            "tags": []
          }
        },
        {
          "output_type": "display_data",
          "data": {
            "application/vnd.jupyter.widget-view+json": {
              "model_id": "aecd998c4a00452c98637e1377f4c62f",
              "version_major": 2,
              "version_minor": 0
            },
            "text/plain": [
              "Downloading:   0%|          | 0.00/239 [00:00<?, ?B/s]"
            ]
          },
          "metadata": {
            "tags": []
          }
        },
        {
          "output_type": "display_data",
          "data": {
            "application/vnd.jupyter.widget-view+json": {
              "model_id": "8a59c8d217064894accf4db1b0ae7a4a",
              "version_major": 2,
              "version_minor": 0
            },
            "text/plain": [
              "Downloading:   0%|          | 0.00/1.19k [00:00<?, ?B/s]"
            ]
          },
          "metadata": {
            "tags": []
          }
        }
      ]
    },
    {
      "cell_type": "code",
      "metadata": {
        "execution": {
          "iopub.execute_input": "2021-07-31T20:12:31.621217Z",
          "iopub.status.busy": "2021-07-31T20:12:31.620443Z",
          "iopub.status.idle": "2021-07-31T20:12:31.623498Z",
          "shell.execute_reply": "2021-07-31T20:12:31.623015Z",
          "shell.execute_reply.started": "2021-07-31T19:59:01.121192Z"
        },
        "papermill": {
          "duration": 0.024208,
          "end_time": "2021-07-31T20:12:31.623609",
          "exception": false,
          "start_time": "2021-07-31T20:12:31.599401",
          "status": "completed"
        },
        "tags": [],
        "id": "86d0b0dd"
      },
      "source": [
        "class AverageMeter(object):\n",
        "    def __init__(self):\n",
        "        self.reset()\n",
        "    \n",
        "    def reset(self):\n",
        "        self.val = 0\n",
        "        self.avg = 0\n",
        "        self.sum = 0\n",
        "        self.count = 0\n",
        "    \n",
        "    def update(self, val, n=1):\n",
        "        self.val = val\n",
        "        self.sum += val * n\n",
        "        self.count += n\n",
        "        self.avg = self.sum / self.count"
      ],
      "id": "86d0b0dd",
      "execution_count": null,
      "outputs": []
    },
    {
      "cell_type": "code",
      "metadata": {
        "execution": {
          "iopub.execute_input": "2021-07-31T20:12:31.664320Z",
          "iopub.status.busy": "2021-07-31T20:12:31.663508Z",
          "iopub.status.idle": "2021-07-31T20:12:31.666318Z",
          "shell.execute_reply": "2021-07-31T20:12:31.665740Z",
          "shell.execute_reply.started": "2021-07-31T19:59:01.131033Z"
        },
        "papermill": {
          "duration": 0.023355,
          "end_time": "2021-07-31T20:12:31.666432",
          "exception": false,
          "start_time": "2021-07-31T20:12:31.643077",
          "status": "completed"
        },
        "tags": [],
        "id": "71113450"
      },
      "source": [
        "def fetch_loss():\n",
        "    loss = nn.CrossEntropyLoss()\n",
        "    return loss"
      ],
      "id": "71113450",
      "execution_count": null,
      "outputs": []
    },
    {
      "cell_type": "code",
      "metadata": {
        "execution": {
          "iopub.execute_input": "2021-07-31T20:12:31.707308Z",
          "iopub.status.busy": "2021-07-31T20:12:31.706501Z",
          "iopub.status.idle": "2021-07-31T20:12:31.708738Z",
          "shell.execute_reply": "2021-07-31T20:12:31.709240Z",
          "shell.execute_reply.started": "2021-07-31T19:59:01.145671Z"
        },
        "papermill": {
          "duration": 0.025538,
          "end_time": "2021-07-31T20:12:31.709373",
          "exception": false,
          "start_time": "2021-07-31T20:12:31.683835",
          "status": "completed"
        },
        "tags": [],
        "id": "21fef45a"
      },
      "source": [
        "class AMZNDataset(Dataset):\n",
        "    def __init__(self, csv):\n",
        "        self.csv = csv.reset_index()\n",
        "\n",
        "    def __len__(self):\n",
        "        return self.csv.shape[0]\n",
        "\n",
        "    def __getitem__(self, index):\n",
        "        row = self.csv.iloc[index]\n",
        "        \n",
        "        text = row.TITLE\n",
        "        \n",
        "        text = TOKENIZER(text, padding='max_length', truncation=True, max_length=32, return_tensors=\"pt\")\n",
        "        input_ids = text['input_ids'][0]\n",
        "        attention_mask = text['attention_mask'][0]  \n",
        "        \n",
        "        return input_ids, attention_mask, torch.tensor(row.BROWSE_NODE_ID)"
      ],
      "id": "21fef45a",
      "execution_count": null,
      "outputs": []
    },
    {
      "cell_type": "code",
      "metadata": {
        "execution": {
          "iopub.execute_input": "2021-07-31T20:12:31.755971Z",
          "iopub.status.busy": "2021-07-31T20:12:31.755182Z",
          "iopub.status.idle": "2021-07-31T20:12:31.757640Z",
          "shell.execute_reply": "2021-07-31T20:12:31.757244Z",
          "shell.execute_reply.started": "2021-07-31T19:59:01.158445Z"
        },
        "papermill": {
          "duration": 0.030995,
          "end_time": "2021-07-31T20:12:31.757741",
          "exception": false,
          "start_time": "2021-07-31T20:12:31.726746",
          "status": "completed"
        },
        "tags": [],
        "id": "fcf30979"
      },
      "source": [
        "class ArcMarginProduct(nn.Module):\n",
        "    r\"\"\"Implement of large margin arc distance: :\n",
        "        Args:\n",
        "            in_features: size of each input sample\n",
        "            out_features: size of each output sample\n",
        "            s: norm of input feature\n",
        "            m: margin\n",
        "            cos(theta + m)\n",
        "        \"\"\"\n",
        "    def __init__(self, in_features, out_features, s=30.0, m=0.50, easy_margin=False, ls_eps=0.0):\n",
        "        super(ArcMarginProduct, self).__init__()\n",
        "        self.in_features = in_features\n",
        "        self.out_features = out_features\n",
        "        self.s = s\n",
        "        self.m = m\n",
        "        self.ls_eps = ls_eps  # label smoothing\n",
        "        self.weight = Parameter(torch.FloatTensor(out_features, in_features))\n",
        "        nn.init.xavier_uniform_(self.weight)\n",
        "\n",
        "        self.easy_margin = easy_margin\n",
        "        self.cos_m = math.cos(m)\n",
        "        self.sin_m = math.sin(m)\n",
        "        self.th = math.cos(math.pi - m)\n",
        "        self.mm = math.sin(math.pi - m) * m\n",
        "\n",
        "    def forward(self, input, label):\n",
        "        # --------------------------- cos(theta) & phi(theta) ---------------------------\n",
        "        cosine = F.linear(F.normalize(input), F.normalize(self.weight))\n",
        "        sine = torch.sqrt(1.0 - torch.pow(cosine, 2))\n",
        "        phi = cosine * self.cos_m - sine * self.sin_m\n",
        "        if self.easy_margin:\n",
        "            phi = torch.where(cosine > 0, phi, cosine)\n",
        "        else:\n",
        "            phi = torch.where(cosine > self.th, phi, cosine - self.mm)\n",
        "        # --------------------------- convert label to one-hot ---------------------------\n",
        "        # one_hot = torch.zeros(cosine.size(), requires_grad=True, device='cuda')\n",
        "        one_hot = torch.zeros(cosine.size(), device='cuda')\n",
        "        one_hot.scatter_(1, label.view(-1, 1).long(), 1)\n",
        "        if self.ls_eps > 0:\n",
        "            one_hot = (1 - self.ls_eps) * one_hot + self.ls_eps / self.out_features\n",
        "        # -------------torch.where(out_i = {x_i if condition_i else y_i) -------------\n",
        "        output = (one_hot * phi) + ((1.0 - one_hot) * cosine)\n",
        "        output *= self.s\n",
        "\n",
        "        return output"
      ],
      "id": "fcf30979",
      "execution_count": null,
      "outputs": []
    },
    {
      "cell_type": "code",
      "metadata": {
        "execution": {
          "iopub.execute_input": "2021-07-31T20:12:31.801671Z",
          "iopub.status.busy": "2021-07-31T20:12:31.800922Z",
          "iopub.status.idle": "2021-07-31T20:12:31.803580Z",
          "shell.execute_reply": "2021-07-31T20:12:31.803150Z",
          "shell.execute_reply.started": "2021-07-31T19:59:01.174061Z"
        },
        "papermill": {
          "duration": 0.03002,
          "end_time": "2021-07-31T20:12:31.803677",
          "exception": false,
          "start_time": "2021-07-31T20:12:31.773657",
          "status": "completed"
        },
        "tags": [],
        "id": "84fab4f2"
      },
      "source": [
        "class AMZNNet(nn.Module):\n",
        "\n",
        "    def __init__(self,\n",
        "                 n_classes,\n",
        "                 model_name='bert-base-uncased',\n",
        "                 pooling='mean_pooling',\n",
        "                 use_fc=False,\n",
        "                 fc_dim=512,\n",
        "                 dropout=0.0,\n",
        "                 loss_module='softmax',\n",
        "                 s=30.0,\n",
        "                 margin=0.50,\n",
        "                 ls_eps=0.0,\n",
        "                 theta_zero=0.785):\n",
        "        \"\"\"\n",
        "        :param n_classes:\n",
        "        :param model_name: name of model from pretrainedmodels\n",
        "            e.g. resnet50, resnext101_32x4d, pnasnet5large\n",
        "        :param pooling: One of ('SPoC', 'MAC', 'RMAC', 'GeM', 'Rpool', 'Flatten', 'CompactBilinearPooling')\n",
        "        :param loss_module: One of ('arcface', 'cosface', 'softmax')\n",
        "        \"\"\"\n",
        "        super(AMZNNet, self).__init__()\n",
        "\n",
        "        self.transformer = transformers.AutoModel.from_pretrained(transformer_model)\n",
        "        final_in_features = self.transformer.config.hidden_size\n",
        "        \n",
        "        self.pooling = pooling\n",
        "        self.use_fc = use_fc\n",
        "    \n",
        "        if use_fc:\n",
        "            self.dropout = nn.Dropout(p=dropout)\n",
        "            self.fc = nn.Linear(final_in_features, fc_dim)\n",
        "            self.bn = nn.BatchNorm1d(fc_dim)\n",
        "            self.relu = nn.ReLU()\n",
        "            self._init_params()\n",
        "            final_in_features = fc_dim\n",
        "\n",
        "        self.loss_module = loss_module\n",
        "        if loss_module == 'arcface':\n",
        "            self.final = ArcMarginProduct(final_in_features, n_classes,\n",
        "                                          s=s, m=margin, easy_margin=False, ls_eps=ls_eps)\n",
        "        else:\n",
        "            self.final = nn.Linear(final_in_features, n_classes)\n",
        "\n",
        "    def _init_params(self):\n",
        "        nn.init.xavier_normal_(self.fc.weight)\n",
        "        nn.init.constant_(self.fc.bias, 0)\n",
        "        nn.init.constant_(self.bn.weight, 1)\n",
        "        nn.init.constant_(self.bn.bias, 0)\n",
        "\n",
        "    def forward(self, input_ids,attention_mask, label):\n",
        "        feature = self.extract_feat(input_ids,attention_mask)\n",
        "        if self.loss_module == 'arcface':\n",
        "            logits = self.final(feature, label)\n",
        "        else:\n",
        "            logits = self.final(feature)\n",
        "        return logits\n",
        "\n",
        "    def extract_feat(self, input_ids,attention_mask):\n",
        "        x = self.transformer(input_ids=input_ids,attention_mask=attention_mask)\n",
        "        \n",
        "        features = x[0]\n",
        "        features = features[:,0,:]\n",
        "\n",
        "        if self.use_fc:\n",
        "            features = self.dropout(features)\n",
        "            features = self.fc(features)\n",
        "            features = self.bn(features)\n",
        "            features = self.relu(features)\n",
        "\n",
        "        return features"
      ],
      "id": "84fab4f2",
      "execution_count": null,
      "outputs": []
    },
    {
      "cell_type": "code",
      "metadata": {
        "execution": {
          "iopub.execute_input": "2021-07-31T20:12:31.842550Z",
          "iopub.status.busy": "2021-07-31T20:12:31.841867Z",
          "iopub.status.idle": "2021-07-31T20:12:31.845386Z",
          "shell.execute_reply": "2021-07-31T20:12:31.844935Z",
          "shell.execute_reply.started": "2021-07-31T19:59:01.195255Z"
        },
        "papermill": {
          "duration": 0.026026,
          "end_time": "2021-07-31T20:12:31.845490",
          "exception": false,
          "start_time": "2021-07-31T20:12:31.819464",
          "status": "completed"
        },
        "tags": [],
        "id": "8f52a49f"
      },
      "source": [
        "def train_fn(dataloader,model,criterion,optimizer,device,scheduler,epoch):\n",
        "    model.train()\n",
        "    loss_score = AverageMeter()\n",
        "    \n",
        "    tk0 = tqdm(enumerate(dataloader), total=len(dataloader))\n",
        "    for bi,d in tk0:\n",
        "        \n",
        "        batch_size = d[0].shape[0]\n",
        "\n",
        "        input_ids = d[0]\n",
        "        attention_mask = d[1]\n",
        "        targets = d[2]\n",
        "\n",
        "        input_ids = input_ids.to(device)\n",
        "        attention_mask = attention_mask.to(device)\n",
        "        targets = targets.to(device)\n",
        "\n",
        "        optimizer.zero_grad()\n",
        "\n",
        "        output = model(input_ids,attention_mask,targets)\n",
        "        \n",
        "        loss = criterion(output,targets)\n",
        "        \n",
        "        loss.backward()\n",
        "        optimizer.step()\n",
        "        \n",
        "        loss_score.update(loss.detach().item(), batch_size)\n",
        "        tk0.set_postfix(Train_Loss=loss_score.avg,Epoch=epoch,LR=optimizer.param_groups[0]['lr'])\n",
        "        \n",
        "        if scheduler is not None:\n",
        "                scheduler.step()\n",
        "        \n",
        "    return loss_score"
      ],
      "id": "8f52a49f",
      "execution_count": null,
      "outputs": []
    },
    {
      "cell_type": "code",
      "metadata": {
        "execution": {
          "iopub.execute_input": "2021-07-31T20:12:31.883589Z",
          "iopub.status.busy": "2021-07-31T20:12:31.882916Z",
          "iopub.status.idle": "2021-07-31T20:12:31.886381Z",
          "shell.execute_reply": "2021-07-31T20:12:31.885943Z",
          "shell.execute_reply.started": "2021-07-31T19:59:01.208565Z"
        },
        "papermill": {
          "duration": 0.025092,
          "end_time": "2021-07-31T20:12:31.886488",
          "exception": false,
          "start_time": "2021-07-31T20:12:31.861396",
          "status": "completed"
        },
        "tags": [],
        "id": "6e1b7fb6"
      },
      "source": [
        "@torch.no_grad()\n",
        "def valid_fn(dataloader,model,criterion,device):\n",
        "    model.eval()\n",
        "    loss_score = AverageMeter()\n",
        "    \n",
        "    tk0 = tqdm(enumerate(dataloader), total=len(dataloader))\n",
        "    for bi,d in tk0:\n",
        "        \n",
        "        batch_size = d[0].shape[0]\n",
        "\n",
        "        input_ids = d[0]\n",
        "        attention_mask = d[1]\n",
        "        targets = d[2]\n",
        "\n",
        "        input_ids = input_ids.to(device)\n",
        "        attention_mask = attention_mask.to(device)\n",
        "        targets = targets.to(device)\n",
        "\n",
        "        output = model(input_ids,attention_mask,targets)\n",
        "        \n",
        "        loss = criterion(output,targets)\n",
        "        \n",
        "        loss_score.update(loss.detach().item(), batch_size)\n",
        "        tk0.set_postfix(Valid_Loss=loss_score.avg)\n",
        "        \n",
        "    return loss_score"
      ],
      "id": "6e1b7fb6",
      "execution_count": null,
      "outputs": []
    },
    {
      "cell_type": "code",
      "metadata": {
        "execution": {
          "iopub.execute_input": "2021-07-31T20:12:31.921907Z",
          "iopub.status.busy": "2021-07-31T20:12:31.921413Z",
          "iopub.status.idle": "2021-07-31T20:12:31.925272Z",
          "shell.execute_reply": "2021-07-31T20:12:31.924745Z",
          "shell.execute_reply.started": "2021-07-31T19:59:01.219706Z"
        },
        "papermill": {
          "duration": 0.023083,
          "end_time": "2021-07-31T20:12:31.925373",
          "exception": false,
          "start_time": "2021-07-31T20:12:31.902290",
          "status": "completed"
        },
        "tags": [],
        "id": "0d6e2707"
      },
      "source": [
        "import csv"
      ],
      "id": "0d6e2707",
      "execution_count": null,
      "outputs": []
    },
    {
      "cell_type": "code",
      "metadata": {
        "execution": {
          "iopub.execute_input": "2021-07-31T20:12:31.961043Z",
          "iopub.status.busy": "2021-07-31T20:12:31.960565Z",
          "iopub.status.idle": "2021-07-31T20:13:35.008720Z",
          "shell.execute_reply": "2021-07-31T20:13:35.008180Z",
          "shell.execute_reply.started": "2021-07-31T19:59:01.235061Z"
        },
        "papermill": {
          "duration": 63.067583,
          "end_time": "2021-07-31T20:13:35.008866",
          "exception": false,
          "start_time": "2021-07-31T20:12:31.941283",
          "status": "completed"
        },
        "tags": [],
        "id": "3b63520d"
      },
      "source": [
        "data = pd.read_csv('../input/amazon-ml-challenge-2021-hackerearth/train.csv', escapechar = \"\\\\\", quoting = csv.QUOTE_NONE)"
      ],
      "id": "3b63520d",
      "execution_count": null,
      "outputs": []
    },
    {
      "cell_type": "code",
      "metadata": {
        "execution": {
          "iopub.execute_input": "2021-07-31T20:13:35.312726Z",
          "iopub.status.busy": "2021-07-31T20:13:35.311730Z",
          "iopub.status.idle": "2021-07-31T20:13:35.766337Z",
          "shell.execute_reply": "2021-07-31T20:13:35.765842Z",
          "shell.execute_reply.started": "2021-07-31T20:00:03.010198Z"
        },
        "papermill": {
          "duration": 0.740892,
          "end_time": "2021-07-31T20:13:35.766474",
          "exception": false,
          "start_time": "2021-07-31T20:13:35.025582",
          "status": "completed"
        },
        "tags": [],
        "id": "06d5155c"
      },
      "source": [
        "data = data[data.TITLE.notna()]\n",
        "# data = data.head(1000)"
      ],
      "id": "06d5155c",
      "execution_count": null,
      "outputs": []
    },
    {
      "cell_type": "code",
      "metadata": {
        "execution": {
          "iopub.execute_input": "2021-07-31T20:13:35.803052Z",
          "iopub.status.busy": "2021-07-31T20:13:35.802553Z",
          "iopub.status.idle": "2021-07-31T20:13:35.805911Z",
          "shell.execute_reply": "2021-07-31T20:13:35.806322Z",
          "shell.execute_reply.started": "2021-07-31T20:00:03.757337Z"
        },
        "papermill": {
          "duration": 0.023487,
          "end_time": "2021-07-31T20:13:35.806445",
          "exception": false,
          "start_time": "2021-07-31T20:13:35.782958",
          "status": "completed"
        },
        "tags": [],
        "id": "d946a39b"
      },
      "source": [
        "data.reset_index(drop=True, inplace=True)"
      ],
      "id": "d946a39b",
      "execution_count": null,
      "outputs": []
    },
    {
      "cell_type": "code",
      "metadata": {
        "execution": {
          "iopub.execute_input": "2021-07-31T20:13:35.847469Z",
          "iopub.status.busy": "2021-07-31T20:13:35.845854Z",
          "iopub.status.idle": "2021-07-31T20:14:03.811301Z",
          "shell.execute_reply": "2021-07-31T20:14:03.811745Z",
          "shell.execute_reply.started": "2021-07-31T20:00:03.763357Z"
        },
        "papermill": {
          "duration": 27.989261,
          "end_time": "2021-07-31T20:14:03.811910",
          "exception": false,
          "start_time": "2021-07-31T20:13:35.822649",
          "status": "completed"
        },
        "tags": [],
        "id": "1888e826",
        "outputId": "83d30e8d-8b0f-431f-893a-b8af7d6ff35d"
      },
      "source": [
        "encoder = LabelEncoder()\n",
        "encoder.fit(data['BROWSE_NODE_ID'])\n",
        "\n",
        "# SPLIT 1: Divide into 2 parts of 15 Lakh each\n",
        "skf = StratifiedKFold(n_splits=2, shuffle=True, random_state=42)\n",
        "for fold_no, (t, v) in enumerate(skf.split(data['BROWSE_NODE_ID'], data['BROWSE_NODE_ID'])):\n",
        "    data.loc[v, 'kfold'] = fold_no\n",
        "    \n",
        "data = data[data.kfold == 0]\n",
        "data.reset_index(drop=True, inplace=True)\n",
        "\n",
        "\n",
        "# SPLIT 2: Divide into 13.5 Training and 1.5 Validation\n",
        "skf2 = StratifiedKFold(n_splits=10, shuffle=True, random_state=42)\n",
        "for fold_no, (t, v) in enumerate(skf2.split(data['BROWSE_NODE_ID'], data['BROWSE_NODE_ID'])):\n",
        "    data.loc[v, 'kfold'] = fold_no\n",
        "    \n",
        "valid_data = data[data.kfold == 0]\n",
        "train_data = data[data.kfold != 0]"
      ],
      "id": "1888e826",
      "execution_count": null,
      "outputs": [
        {
          "output_type": "stream",
          "text": [
            "/opt/conda/lib/python3.7/site-packages/sklearn/model_selection/_split.py:672: UserWarning: The least populated class in y has only 1 members, which is less than n_splits=2.\n",
            "  % (min_groups, self.n_splits)), UserWarning)\n",
            "/opt/conda/lib/python3.7/site-packages/sklearn/model_selection/_split.py:672: UserWarning: The least populated class in y has only 1 members, which is less than n_splits=10.\n",
            "  % (min_groups, self.n_splits)), UserWarning)\n"
          ],
          "name": "stderr"
        }
      ]
    },
    {
      "cell_type": "code",
      "metadata": {
        "execution": {
          "iopub.execute_input": "2021-07-31T20:14:03.852155Z",
          "iopub.status.busy": "2021-07-31T20:14:03.851474Z",
          "iopub.status.idle": "2021-07-31T20:14:03.854474Z",
          "shell.execute_reply": "2021-07-31T20:14:03.854837Z",
          "shell.execute_reply.started": "2021-07-31T20:00:35.698051Z"
        },
        "papermill": {
          "duration": 0.025534,
          "end_time": "2021-07-31T20:14:03.854962",
          "exception": false,
          "start_time": "2021-07-31T20:14:03.829428",
          "status": "completed"
        },
        "tags": [],
        "id": "213802d6",
        "outputId": "5c9d5dd1-4065-41cb-9ac3-bda65e7656d3"
      },
      "source": [
        "train_data.shape"
      ],
      "id": "213802d6",
      "execution_count": null,
      "outputs": [
        {
          "output_type": "execute_result",
          "data": {
            "text/plain": [
              "(1306329, 6)"
            ]
          },
          "metadata": {
            "tags": []
          },
          "execution_count": 15
        }
      ]
    },
    {
      "cell_type": "code",
      "metadata": {
        "execution": {
          "iopub.execute_input": "2021-07-31T20:14:03.932290Z",
          "iopub.status.busy": "2021-07-31T20:14:03.931494Z",
          "iopub.status.idle": "2021-07-31T20:14:04.130000Z",
          "shell.execute_reply": "2021-07-31T20:14:04.130477Z",
          "shell.execute_reply.started": "2021-07-31T20:00:35.719333Z"
        },
        "papermill": {
          "duration": 0.219782,
          "end_time": "2021-07-31T20:14:04.130634",
          "exception": false,
          "start_time": "2021-07-31T20:14:03.910852",
          "status": "completed"
        },
        "tags": [],
        "id": "c38cd3e0",
        "outputId": "744152c7-23d6-4da5-abde-2d5fe1ba79e1"
      },
      "source": [
        "encoder = LabelEncoder()\n",
        "train_data['BROWSE_NODE_ID'] = encoder.transform(train_data['BROWSE_NODE_ID'])\n",
        "valid_data['BROWSE_NODE_ID'] = encoder.transform(valid_data['BROWSE_NODE_ID'])"
      ],
      "id": "c38cd3e0",
      "execution_count": null,
      "outputs": [
        {
          "output_type": "stream",
          "text": [
            "/opt/conda/lib/python3.7/site-packages/ipykernel_launcher.py:2: SettingWithCopyWarning: \n",
            "A value is trying to be set on a copy of a slice from a DataFrame.\n",
            "Try using .loc[row_indexer,col_indexer] = value instead\n",
            "\n",
            "See the caveats in the documentation: https://pandas.pydata.org/pandas-docs/stable/user_guide/indexing.html#returning-a-view-versus-a-copy\n",
            "  \n",
            "/opt/conda/lib/python3.7/site-packages/ipykernel_launcher.py:3: SettingWithCopyWarning: \n",
            "A value is trying to be set on a copy of a slice from a DataFrame.\n",
            "Try using .loc[row_indexer,col_indexer] = value instead\n",
            "\n",
            "See the caveats in the documentation: https://pandas.pydata.org/pandas-docs/stable/user_guide/indexing.html#returning-a-view-versus-a-copy\n",
            "  This is separate from the ipykernel package so we can avoid doing imports until\n"
          ],
          "name": "stderr"
        }
      ]
    },
    {
      "cell_type": "code",
      "metadata": {
        "execution": {
          "iopub.execute_input": "2021-07-31T20:14:04.176808Z",
          "iopub.status.busy": "2021-07-31T20:14:04.176207Z",
          "iopub.status.idle": "2021-07-31T20:14:04.179453Z",
          "shell.execute_reply": "2021-07-31T20:14:04.179016Z",
          "shell.execute_reply.started": "2021-07-31T20:00:35.931749Z"
        },
        "papermill": {
          "duration": 0.03088,
          "end_time": "2021-07-31T20:14:04.179552",
          "exception": false,
          "start_time": "2021-07-31T20:14:04.148672",
          "status": "completed"
        },
        "tags": [],
        "id": "63f01488"
      },
      "source": [
        "def run():\n",
        "    # Defining DataSet\n",
        "    train_dataset = AMZNDataset(\n",
        "        csv=train_data\n",
        "    )\n",
        "        \n",
        "    train_loader = torch.utils.data.DataLoader(\n",
        "        train_dataset,\n",
        "        batch_size=TRAIN_BATCH_SIZE,\n",
        "        pin_memory=True,\n",
        "        drop_last=True,\n",
        "        num_workers=NUM_WORKERS\n",
        "    )\n",
        "    \n",
        "    valid_dataset = AMZNDataset(\n",
        "        csv=valid_data\n",
        "    )\n",
        "        \n",
        "    valid_loader = torch.utils.data.DataLoader(\n",
        "        valid_dataset,\n",
        "        batch_size=TRAIN_BATCH_SIZE,\n",
        "        pin_memory=True,\n",
        "        drop_last=True,\n",
        "        num_workers=NUM_WORKERS\n",
        "    )\n",
        "    \n",
        "    # Defining Device\n",
        "    device = torch.device(\"cuda\")\n",
        "    \n",
        "    # Defining Model for specific fold\n",
        "    model = AMZNNet(**model_params)\n",
        "    model.to(device)\n",
        "    \n",
        "    #DEfining criterion\n",
        "    criterion = fetch_loss()\n",
        "    criterion.to(device)\n",
        "        \n",
        "    # Defining Optimizer with weight decay to params other than bias and layer norms\n",
        "    param_optimizer = list(model.named_parameters())\n",
        "    no_decay = [\"bias\", \"LayerNorm.bias\", \"LayerNorm.weight\"]\n",
        "    optimizer_parameters = [\n",
        "        {'params': [p for n, p in param_optimizer if not any(nd in n for nd in no_decay)], 'weight_decay': 0.0001},\n",
        "        {'params': [p for n, p in param_optimizer if any(nd in n for nd in no_decay)], 'weight_decay': 0.0},\n",
        "        ]  \n",
        "    \n",
        "    optimizer = AdamW(optimizer_parameters, lr=LR)\n",
        "    \n",
        "    #Defining LR SCheduler\n",
        "    scheduler = get_linear_schedule_with_warmup(\n",
        "        optimizer, \n",
        "        num_warmup_steps=len(train_loader)*2, \n",
        "        num_training_steps=len(train_loader)*EPOCHS\n",
        "    )\n",
        "        \n",
        "    # THE ENGINE LOOP\n",
        "    best_loss = 10000\n",
        "    for epoch in range(EPOCHS):\n",
        "        train_loss = train_fn(train_loader, model,criterion, optimizer, device,scheduler=scheduler,epoch=epoch)\n",
        "        valid_loss = valid_fn(valid_loader,model,criterion,device)\n",
        "        \n",
        "        if valid_loss.avg < best_loss:\n",
        "            best_loss = valid_loss.avg\n",
        "            torch.save(model.state_dict(),f'sentence_transfomer_xlm_best_loss_num_epochs_{EPOCHS}_{loss_module}.bin')"
      ],
      "id": "63f01488",
      "execution_count": null,
      "outputs": []
    },
    {
      "cell_type": "code",
      "metadata": {
        "execution": {
          "iopub.execute_input": "2021-07-31T20:14:04.218669Z",
          "iopub.status.busy": "2021-07-31T20:14:04.217736Z",
          "iopub.status.idle": "2021-08-01T02:52:34.624629Z",
          "shell.execute_reply": "2021-08-01T02:52:34.625376Z",
          "shell.execute_reply.started": "2021-07-31T20:00:35.945954Z"
        },
        "papermill": {
          "duration": 23910.429,
          "end_time": "2021-08-01T02:52:34.625652",
          "exception": false,
          "start_time": "2021-07-31T20:14:04.196652",
          "status": "completed"
        },
        "tags": [],
        "colab": {
          "referenced_widgets": [
            "7ecc241491724cdc8e4c5b1821910115"
          ]
        },
        "id": "40a24559",
        "outputId": "0490baaa-fac6-4f5c-e524-e58ce329d6e0"
      },
      "source": [
        "run()"
      ],
      "id": "40a24559",
      "execution_count": null,
      "outputs": [
        {
          "output_type": "display_data",
          "data": {
            "application/vnd.jupyter.widget-view+json": {
              "model_id": "7ecc241491724cdc8e4c5b1821910115",
              "version_major": 2,
              "version_minor": 0
            },
            "text/plain": [
              "Downloading:   0%|          | 0.00/438M [00:00<?, ?B/s]"
            ]
          },
          "metadata": {
            "tags": []
          }
        },
        {
          "output_type": "stream",
          "text": [
            "100%|██████████| 20411/20411 [1:16:35<00:00,  4.44it/s, Epoch=0, LR=2.5e-5, Train_Loss=12.5]\n",
            "100%|██████████| 2267/2267 [02:36<00:00, 14.50it/s, Valid_Loss=8.84]\n",
            "100%|██████████| 20411/20411 [1:16:41<00:00,  4.44it/s, Epoch=1, LR=5e-5, Train_Loss=8.24]\n",
            "100%|██████████| 2267/2267 [02:39<00:00, 14.23it/s, Valid_Loss=7.64]\n",
            "100%|██████████| 20411/20411 [1:16:33<00:00,  4.44it/s, Epoch=2, LR=3.33e-5, Train_Loss=7.14]\n",
            "100%|██████████| 2267/2267 [02:38<00:00, 14.31it/s, Valid_Loss=6.87]\n",
            "100%|██████████| 20411/20411 [1:17:24<00:00,  4.40it/s, Epoch=3, LR=1.67e-5, Train_Loss=6.32]\n",
            "100%|██████████| 2267/2267 [02:33<00:00, 14.78it/s, Valid_Loss=6.44]\n",
            "100%|██████████| 20411/20411 [1:17:32<00:00,  4.39it/s, Epoch=4, LR=8.17e-10, Train_Loss=5.77]\n",
            "100%|██████████| 2267/2267 [02:35<00:00, 14.59it/s, Valid_Loss=6.22]\n"
          ],
          "name": "stderr"
        }
      ]
    },
    {
      "cell_type": "code",
      "metadata": {
        "papermill": {
          "duration": 62.48496,
          "end_time": "2021-08-01T02:54:37.856554",
          "exception": false,
          "start_time": "2021-08-01T02:53:35.371594",
          "status": "completed"
        },
        "tags": [],
        "id": "c64cbe6d"
      },
      "source": [
        ""
      ],
      "id": "c64cbe6d",
      "execution_count": null,
      "outputs": []
    }
  ]
}